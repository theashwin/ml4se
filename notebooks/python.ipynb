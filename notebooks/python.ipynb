{
 "cells": [
  {
   "cell_type": "code",
   "execution_count": 18,
   "outputs": [],
   "source": [
    "from collections import defaultdict"
   ],
   "metadata": {
    "collapsed": false
   }
  },
  {
   "cell_type": "markdown",
   "source": [
    "# Data Flow"
   ],
   "metadata": {
    "collapsed": false
   }
  },
  {
   "cell_type": "code",
   "execution_count": 19,
   "metadata": {
    "collapsed": true
   },
   "outputs": [],
   "source": [
    "PY_LOC = \"X:/UIUC/CS 598/ml4se/data/functions/py/\""
   ]
  },
  {
   "cell_type": "code",
   "execution_count": 32,
   "outputs": [],
   "source": [
    "ASSIGN_STMT = \"AssignStmt\"\n",
    "AUG_ASSIGN = \"AugAssign\""
   ],
   "metadata": {
    "collapsed": false
   }
  },
  {
   "cell_type": "code",
   "execution_count": 30,
   "outputs": [
    {
     "data": {
      "text/plain": "[['\"10.py', '5\"'],\n ['\"10.py', '8\"'],\n ['\"10.py', '13\"'],\n ['\"10.py', '15\"'],\n ['\"10.py', '22\"'],\n ['\"10.py', '27\"'],\n ['\"10.py', '35\"'],\n ['\"10.py', '37\"'],\n ['\"10.py', '39\"'],\n ['\"100.py', '101\"'],\n ['\"100.py', '107\"'],\n ['\"100.py', '110\"'],\n ['\"100.py', '114\"'],\n ['\"100.py', '115\"'],\n ['\"100.py', '117\"'],\n ['\"100.py', '119\"'],\n ['\"100.py', '120\"'],\n ['\"100.py', '123\"'],\n ['\"100.py', '124\"'],\n ['\"100.py', '126\"'],\n ['\"100.py', '128\"'],\n ['\"100.py', '129\"'],\n ['\"100.py', '132\"'],\n ['\"100.py', '133\"'],\n ['\"100.py', '135\"'],\n ['\"100.py', '137\"'],\n ['\"100.py', '138\"'],\n ['\"100.py', '141\"'],\n ['\"100.py', '142\"'],\n ['\"100.py', '144\"'],\n ['\"100.py', '146\"'],\n ['\"100.py', '147\"'],\n ['\"100.py', '151\"'],\n ['\"100.py', '160\"'],\n ['\"100.py', '163\"'],\n ['\"100.py', '166\"'],\n ['\"100.py', '167\"'],\n ['\"100.py', '169\"'],\n ['\"100.py', '171\"'],\n ['\"100.py', '172\"'],\n ['\"100.py', '178\"'],\n ['\"100.py', '180\"'],\n ['\"100.py', '183\"'],\n ['\"100.py', '185\"'],\n ['\"100.py', '188\"'],\n ['\"100.py', '190\"'],\n ['\"100.py', '191\"'],\n ['\"100.py', '193\"'],\n ['\"100.py', '195\"'],\n ['\"100.py', '196\"'],\n ['\"100.py', '202\"'],\n ['\"100.py', '205\"'],\n ['\"100.py', '211\"'],\n ['\"100.py', '213\"'],\n ['\"100.py', '215\"'],\n ['\"100.py', '216\"'],\n ['\"100.py', '225\"'],\n ['\"100.py', '227\"'],\n ['\"100.py', '232\"'],\n ['\"100.py', '233\"'],\n ['\"100.py', '235\"'],\n ['\"100.py', '237\"'],\n ['\"11.py', '12\"'],\n ['\"11.py', '16\"'],\n ['\"11.py', '17\"'],\n ['\"11.py', '20\"'],\n ['\"11.py', '27\"'],\n ['\"11.py', '29\"'],\n ['\"11.py', '30\"'],\n ['\"11.py', '33\"'],\n ['\"11.py', '35\"'],\n ['\"12.py', '4\"'],\n ['\"14.py', '17\"'],\n ['\"14.py', '18\"'],\n ['\"15.py', '32\"'],\n ['\"15.py', '34\"'],\n ['\"15.py', '39\"'],\n ['\"17.py', '17\"'],\n ['\"17.py', '18\"'],\n ['\"17.py', '19\"'],\n ['\"17.py', '20\"'],\n ['\"17.py', '22\"'],\n ['\"17.py', '31\"'],\n ['\"17.py', '32\"'],\n ['\"17.py', '34\"'],\n ['\"18.py', '4\"'],\n ['\"18.py', '5\"'],\n ['\"18.py', '6\"'],\n ['\"18.py', '7\"'],\n ['\"18.py', '9\"'],\n ['\"18.py', '12\"'],\n ['\"18.py', '13\"'],\n ['\"18.py', '15\"'],\n ['\"18.py', '17\"'],\n ['\"18.py', '19\"'],\n ['\"18.py', '22\"'],\n ['\"18.py', '31\"'],\n ['\"18.py', '36\"'],\n ['\"18.py', '44\"'],\n ['\"18.py', '48\"'],\n ['\"18.py', '56\"'],\n ['\"19.py', '33\"'],\n ['\"19.py', '37\"'],\n ['\"19.py', '43\"'],\n ['\"19.py', '45\"'],\n ['\"2.py', '7\"'],\n ['\"20.py', '12\"'],\n ['\"21.py', '6\"'],\n ['\"22.py', '21\"'],\n ['\"23.py', '24\"'],\n ['\"23.py', '28\"'],\n ['\"23.py', '29\"'],\n ['\"23.py', '30\"'],\n ['\"23.py', '32\"'],\n ['\"23.py', '33\"'],\n ['\"23.py', '34\"'],\n ['\"23.py', '39\"'],\n ['\"23.py', '40\"'],\n ['\"24.py', '6\"'],\n ['\"24.py', '7\"'],\n ['\"24.py', '13\"'],\n ['\"24.py', '14\"'],\n ['\"24.py', '15\"'],\n ['\"24.py', '20\"'],\n ['\"27.py', '11\"'],\n ['\"27.py', '14\"'],\n ['\"27.py', '17\"'],\n ['\"28.py', '10\"'],\n ['\"28.py', '11\"'],\n ['\"28.py', '12\"'],\n ['\"28.py', '13\"'],\n ['\"28.py', '15\"'],\n ['\"28.py', '17\"'],\n ['\"28.py', '18\"'],\n ['\"28.py', '19\"'],\n ['\"28.py', '20\"'],\n ['\"28.py', '21\"'],\n ['\"28.py', '26\"'],\n ['\"28.py', '27\"'],\n ['\"28.py', '28\"'],\n ['\"28.py', '29\"'],\n ['\"28.py', '32\"'],\n ['\"29.py', '3\"'],\n ['\"29.py', '4\"'],\n ['\"29.py', '5\"'],\n ['\"29.py', '7\"'],\n ['\"3.py', '18\"'],\n ['\"3.py', '27\"'],\n ['\"3.py', '30\"'],\n ['\"3.py', '31\"'],\n ['\"3.py', '32\"'],\n ['\"3.py', '33\"'],\n ['\"3.py', '34\"'],\n ['\"3.py', '35\"'],\n ['\"3.py', '40\"'],\n ['\"30.py', '23\"'],\n ['\"30.py', '24\"'],\n ['\"31.py', '24\"'],\n ['\"31.py', '25\"'],\n ['\"31.py', '27\"'],\n ['\"31.py', '29\"'],\n ['\"31.py', '30\"'],\n ['\"32.py', '7\"'],\n ['\"32.py', '8\"'],\n ['\"33.py', '51\"'],\n ['\"33.py', '53\"'],\n ['\"33.py', '56\"'],\n ['\"35.py', '11\"'],\n ['\"35.py', '25\"'],\n ['\"35.py', '26\"'],\n ['\"35.py', '29\"'],\n ['\"35.py', '30\"'],\n ['\"35.py', '31\"'],\n ['\"35.py', '39\"'],\n ['\"35.py', '40\"'],\n ['\"35.py', '42\"'],\n ['\"35.py', '45\"'],\n ['\"35.py', '48\"'],\n ['\"35.py', '49\"'],\n ['\"35.py', '50\"'],\n ['\"35.py', '53\"'],\n ['\"35.py', '55\"'],\n ['\"35.py', '63\"'],\n ['\"35.py', '64\"'],\n ['\"35.py', '67\"'],\n ['\"35.py', '69\"'],\n ['\"35.py', '73\"'],\n ['\"35.py', '79\"'],\n ['\"36.py', '52\"'],\n ['\"36.py', '57\"'],\n ['\"36.py', '59\"'],\n ['\"36.py', '63\"'],\n ['\"36.py', '70\"'],\n ['\"36.py', '71\"'],\n ['\"36.py', '75\"'],\n ['\"36.py', '77\"'],\n ['\"36.py', '79\"'],\n ['\"36.py', '101\"'],\n ['\"36.py', '108\"'],\n ['\"36.py', '111\"'],\n ['\"36.py', '113\"'],\n ['\"36.py', '115\"'],\n ['\"37.py', '11\"'],\n ['\"37.py', '16\"'],\n ['\"37.py', '17\"'],\n ['\"38.py', '29\"'],\n ['\"38.py', '32\"'],\n ['\"39.py', '18\"'],\n ['\"39.py', '22\"'],\n ['\"4.py', '7\"'],\n ['\"4.py', '10\"'],\n ['\"40.py', '6\"'],\n ['\"41.py', '3\"'],\n ['\"41.py', '11\"'],\n ['\"42.py', '27\"'],\n ['\"42.py', '28\"'],\n ['\"42.py', '29\"'],\n ['\"42.py', '42\"'],\n ['\"42.py', '43\"'],\n ['\"42.py', '44\"'],\n ['\"43.py', '13\"'],\n ['\"43.py', '14\"'],\n ['\"43.py', '15\"'],\n ['\"44.py', '13\"'],\n ['\"44.py', '17\"'],\n ['\"44.py', '25\"'],\n ['\"44.py', '35\"'],\n ['\"44.py', '37\"'],\n ['\"45.py', '9\"'],\n ['\"45.py', '33\"'],\n ['\"45.py', '35\"'],\n ['\"45.py', '37\"'],\n ['\"45.py', '45\"'],\n ['\"45.py', '51\"'],\n ['\"45.py', '53\"'],\n ['\"45.py', '55\"'],\n ['\"45.py', '57\"'],\n ['\"45.py', '59\"'],\n ['\"45.py', '61\"'],\n ['\"45.py', '63\"'],\n ['\"45.py', '65\"'],\n ['\"45.py', '67\"'],\n ['\"45.py', '69\"'],\n ['\"45.py', '71\"'],\n ['\"45.py', '73\"'],\n ['\"45.py', '75\"'],\n ['\"45.py', '81\"'],\n ['\"45.py', '85\"'],\n ['\"45.py', '103\"'],\n ['\"45.py', '155\"'],\n ['\"45.py', '195\"'],\n ['\"45.py', '241\"'],\n ['\"45.py', '271\"'],\n ['\"45.py', '307\"'],\n ['\"45.py', '323\"'],\n ['\"45.py', '329\"'],\n ['\"45.py', '331\"'],\n ['\"45.py', '335\"'],\n ['\"45.py', '339\"'],\n ['\"45.py', '353\"'],\n ['\"45.py', '389\"'],\n ['\"45.py', '405\"'],\n ['\"45.py', '423\"'],\n ['\"45.py', '439\"'],\n ['\"45.py', '443\"'],\n ['\"45.py', '451\"'],\n ['\"45.py', '457\"'],\n ['\"45.py', '465\"'],\n ['\"45.py', '477\"'],\n ['\"45.py', '489\"'],\n ['\"46.py', '6\"'],\n ['\"46.py', '10\"'],\n ['\"46.py', '15\"'],\n ['\"47.py', '25\"'],\n ['\"47.py', '26\"'],\n ['\"47.py', '28\"'],\n ['\"47.py', '29\"'],\n ['\"47.py', '31\"'],\n ['\"47.py', '36\"'],\n ['\"47.py', '40\"'],\n ['\"47.py', '48\"'],\n ['\"47.py', '54\"'],\n ['\"47.py', '55\"'],\n ['\"47.py', '56\"'],\n ['\"48.py', '31\"'],\n ['\"48.py', '32\"'],\n ['\"48.py', '34\"'],\n ['\"48.py', '40\"'],\n ['\"48.py', '45\"'],\n ['\"48.py', '47\"'],\n ['\"48.py', '51\"'],\n ['\"48.py', '53\"'],\n ['\"49.py', '8\"'],\n ['\"5.py', '33\"'],\n ['\"5.py', '34\"'],\n ['\"5.py', '35\"'],\n ['\"5.py', '49\"'],\n ['\"5.py', '51\"'],\n ['\"5.py', '57\"'],\n ['\"5.py', '66\"'],\n ['\"50.py', '10\"'],\n ['\"50.py', '12\"'],\n ['\"50.py', '13\"'],\n ['\"52.py', '17\"'],\n ['\"52.py', '20\"'],\n ['\"52.py', '24\"'],\n ['\"52.py', '29\"'],\n ['\"52.py', '35\"'],\n ['\"53.py', '3\"'],\n ['\"53.py', '4\"'],\n ['\"53.py', '5\"'],\n ['\"53.py', '6\"'],\n ['\"53.py', '7\"'],\n ['\"53.py', '8\"'],\n ['\"53.py', '9\"'],\n ['\"53.py', '10\"'],\n ['\"53.py', '11\"'],\n ['\"53.py', '12\"'],\n ['\"54.py', '17\"'],\n ['\"54.py', '20\"'],\n ['\"54.py', '33\"'],\n ['\"54.py', '39\"'],\n ['\"55.py', '8\"'],\n ['\"55.py', '10\"'],\n ['\"55.py', '19\"'],\n ['\"56.py', '4\"'],\n ['\"56.py', '5\"'],\n ['\"56.py', '9\"'],\n ['\"56.py', '15\"'],\n ['\"57.py', '5\"'],\n ['\"57.py', '6\"'],\n ['\"57.py', '9\"'],\n ['\"57.py', '16\"'],\n ['\"57.py', '22\"'],\n ['\"57.py', '24\"'],\n ['\"57.py', '25\"'],\n ['\"57.py', '27\"'],\n ['\"57.py', '30\"'],\n ['\"57.py', '31\"'],\n ['\"57.py', '32\"'],\n ['\"57.py', '37\"'],\n ['\"57.py', '39\"'],\n ['\"57.py', '42\"'],\n ['\"57.py', '44\"'],\n ['\"57.py', '50\"'],\n ['\"57.py', '51\"'],\n ['\"57.py', '53\"'],\n ['\"57.py', '55\"'],\n ['\"57.py', '60\"'],\n ['\"57.py', '62\"'],\n ['\"57.py', '63\"'],\n ['\"57.py', '65\"'],\n ['\"57.py', '66\"'],\n ['\"58.py', '8\"'],\n ['\"58.py', '9\"'],\n ['\"59.py', '4\"'],\n ['\"6.py', '6\"'],\n ['\"6.py', '7\"'],\n ['\"6.py', '9\"'],\n ['\"60.py', '5\"'],\n ['\"61.py', '6\"'],\n ['\"62.py', '10\"'],\n ['\"62.py', '11\"'],\n ['\"62.py', '12\"'],\n ['\"62.py', '13\"'],\n ['\"64.py', '3\"'],\n ['\"64.py', '4\"'],\n ['\"64.py', '8\"'],\n ['\"66.py', '8\"'],\n ['\"68.py', '6\"'],\n ['\"68.py', '17\"'],\n ['\"68.py', '19\"'],\n ['\"68.py', '21\"'],\n ['\"68.py', '36\"'],\n ['\"69.py', '29\"'],\n ['\"69.py', '31\"'],\n ['\"69.py', '33\"'],\n ['\"7.py', '19\"'],\n ['\"7.py', '23\"'],\n ['\"70.py', '18\"'],\n ['\"70.py', '21\"'],\n ['\"70.py', '24\"'],\n ['\"70.py', '27\"'],\n ['\"70.py', '29\"'],\n ['\"70.py', '30\"'],\n ['\"70.py', '32\"'],\n ['\"71.py', '4\"'],\n ['\"71.py', '8\"'],\n ['\"71.py', '10\"'],\n ['\"71.py', '13\"'],\n ['\"71.py', '18\"'],\n ['\"71.py', '20\"'],\n ['\"71.py', '26\"'],\n ['\"73.py', '18\"'],\n ['\"73.py', '20\"'],\n ['\"74.py', '17\"'],\n ['\"74.py', '20\"'],\n ['\"74.py', '33\"'],\n ['\"74.py', '39\"'],\n ['\"75.py', '3\"'],\n ['\"76.py', '6\"'],\n ['\"76.py', '8\"'],\n ['\"77.py', '13\"'],\n ['\"77.py', '15\"'],\n ['\"77.py', '16\"'],\n ['\"77.py', '17\"'],\n ['\"77.py', '19\"'],\n ['\"77.py', '20\"'],\n ['\"77.py', '21\"'],\n ['\"78.py', '3\"'],\n ['\"78.py', '4\"'],\n ['\"79.py', '21\"'],\n ['\"79.py', '23\"'],\n ['\"79.py', '25\"'],\n ['\"79.py', '29\"'],\n ['\"79.py', '33\"'],\n ['\"79.py', '34\"'],\n ['\"79.py', '36\"'],\n ['\"8.py', '9\"'],\n ['\"80.py', '9\"'],\n ['\"81.py', '11\"'],\n ['\"81.py', '12\"'],\n ['\"82.py', '30\"'],\n ['\"82.py', '43\"'],\n ['\"82.py', '44\"'],\n ['\"82.py', '45\"'],\n ['\"82.py', '47\"'],\n ['\"82.py', '48\"'],\n ['\"82.py', '50\"'],\n ['\"82.py', '60\"'],\n ['\"82.py', '64\"'],\n ['\"82.py', '79\"'],\n ['\"82.py', '84\"'],\n ['\"82.py', '89\"'],\n ['\"82.py', '94\"'],\n ['\"82.py', '95\"'],\n ['\"82.py', '98\"'],\n ['\"82.py', '99\"'],\n ['\"82.py', '100\"'],\n ['\"82.py', '104\"'],\n ['\"82.py', '105\"'],\n ['\"83.py', '22\"'],\n ['\"83.py', '23\"'],\n ['\"83.py', '24\"'],\n ['\"83.py', '29\"'],\n ['\"83.py', '32\"'],\n ['\"83.py', '34\"'],\n ['\"83.py', '35\"'],\n ['\"83.py', '38\"'],\n ['\"83.py', '40\"'],\n ['\"83.py', '41\"'],\n ['\"83.py', '48\"'],\n ['\"83.py', '50\"'],\n ['\"84.py', '3\"'],\n ['\"84.py', '5\"'],\n ['\"84.py', '6\"'],\n ['\"85.py', '7\"'],\n ['\"85.py', '8\"'],\n ['\"85.py', '10\"'],\n ['\"85.py', '12\"'],\n ['\"85.py', '14\"'],\n ['\"86.py', '15\"'],\n ['\"86.py', '16\"'],\n ['\"86.py', '17\"'],\n ['\"86.py', '18\"'],\n ['\"87.py', '5\"'],\n ['\"87.py', '6\"'],\n ['\"87.py', '7\"'],\n ['\"87.py', '8\"'],\n ['\"87.py', '9\"'],\n ['\"87.py', '10\"'],\n ['\"88.py', '7\"'],\n ['\"89.py', '35\"'],\n ['\"89.py', '37\"'],\n ['\"90.py', '18\"'],\n ['\"90.py', '20\"'],\n ['\"90.py', '22\"'],\n ['\"91.py', '22\"'],\n ['\"91.py', '26\"'],\n ['\"92.py', '14\"'],\n ['\"92.py', '16\"'],\n ['\"93.py', '16\"'],\n ['\"93.py', '20\"'],\n ['\"94.py', '30\"'],\n ['\"94.py', '34\"'],\n ['\"94.py', '35\"'],\n ['\"94.py', '38\"'],\n ['\"94.py', '41\"'],\n ['\"95.py', '22\"'],\n ['\"95.py', '23\"'],\n ['\"96.py', '50\"'],\n ['\"96.py', '54\"'],\n ['\"96.py', '56\"'],\n ['\"96.py', '60\"'],\n ['\"96.py', '63\"'],\n ['\"96.py', '75\"'],\n ['\"96.py', '76\"'],\n ['\"96.py', '77\"'],\n ['\"96.py', '89\"'],\n ['\"96.py', '92\"'],\n ['\"96.py', '94\"'],\n ['\"97.py', '15\"'],\n ['\"97.py', '19\"'],\n ['\"97.py', '23\"'],\n ['\"97.py', '26\"'],\n ['\"97.py', '28\"'],\n ['\"97.py', '30\"'],\n ['\"97.py', '34\"'],\n ['\"97.py', '36\"'],\n ['\"97.py', '38\"'],\n ['\"97.py', '42\"'],\n ['\"97.py', '45\"'],\n ['\"97.py', '52\"'],\n ['\"97.py', '56\"'],\n ['\"97.py', '61\"'],\n ['\"98.py', '8\"'],\n ['\"99.py', '10\"'],\n ['\"99.py', '14\"']]"
     },
     "execution_count": 30,
     "metadata": {},
     "output_type": "execute_result"
    }
   ],
   "source": [
    "with open(\"X:/UIUC/CS 598/ml4se/results/python/assignstmt.csv\") as fp:\n",
    "    assign_stmt = fp.read()\n",
    "    assign_stmt = [path.replace(PY_LOC, \"\").split(\":\") for path in assign_stmt.split(\"\\n\")]\n",
    "assign_stmt"
   ],
   "metadata": {
    "collapsed": false
   }
  },
  {
   "cell_type": "code",
   "execution_count": 31,
   "outputs": [
    {
     "data": {
      "text/plain": "[['\"10.py', '20\"'],\n ['\"10.py', '32\"'],\n ['\"10.py', '33\"'],\n ['\"36.py', '65\"'],\n ['\"36.py', '67\"'],\n ['\"36.py', '69\"'],\n ['\"43.py', '24\"'],\n ['\"43.py', '25\"'],\n ['\"8.py', '13\"'],\n ['\"8.py', '15\"']]"
     },
     "execution_count": 31,
     "metadata": {},
     "output_type": "execute_result"
    }
   ],
   "source": [
    "with open(\"X:/UIUC/CS 598/ml4se/results/python/augassign.csv\") as fp:\n",
    "    augassign = fp.read()\n",
    "    augassign = [path.replace(PY_LOC, \"\").split(\":\") for path in augassign.split(\"\\n\")]\n",
    "augassign"
   ],
   "metadata": {
    "collapsed": false
   }
  },
  {
   "cell_type": "code",
   "execution_count": 167,
   "outputs": [
    {
     "data": {
      "text/plain": "[['29.py:3', '29.py:3', 'second__o', 'None', '[object Object]'],\n ['29.py:3', '29.py:3', 'second__o', 'second__o', '[object Object]'],\n ['29.py:3', '29.py:4', 'second__o', 'second__o', '[object Object]'],\n ['29.py:3', '29.py:4', 'second__o', 'Attribute', '[object Object]'],\n ['10.py:26', '10.py:27', 'delay', 'delay', '[object Object]'],\n ['10.py:26', '10.py:27', 'delay', 'BinaryExpr', '[object Object]'],\n ['10.py:26', '10.py:39', 'delay', 'None', '[object Object]'],\n ['10.py:26', '10.py:39', 'delay', 'delay', '[object Object]'],\n ['10.py:34', '10.py:35', 'Attribute', 'delay', '[object Object]'],\n ['10.py:34', '10.py:35', 'Attribute', 'Attribute', '[object Object]'],\n ['10.py:36', '10.py:37', 'Attribute', 'delay', '[object Object]'],\n ['10.py:36', '10.py:37', 'Attribute', 'Attribute', '[object Object]'],\n ['100.py:113', '100.py:114', 'Attribute', 'Attribute', '[object Object]'],\n ['100.py:113', '100.py:114', 'Attribute', 'int()', '[object Object]'],\n ['100.py:113', '100.py:115', 'result', 'result', '[object Object]'],\n ['100.py:113', '100.py:115', 'result', 'Attribute()', '[object Object]'],\n ['100.py:116', '100.py:117', 'Subscript', 'level', '[object Object]'],\n ['100.py:116', '100.py:117', 'Subscript', 'Subscript', '[object Object]'],\n ['100.py:116', '100.py:119', 'Subscript', 'Str', '[object Object]'],\n ['100.py:116', '100.py:119', 'Subscript', 'Subscript', '[object Object]'],\n ['100.py:116', '100.py:120', 'Subscript', 'False', '[object Object]'],\n ['100.py:116', '100.py:120', 'Subscript', 'Subscript', '[object Object]'],\n ['100.py:122', '100.py:123', 'Attribute', 'recommended', '[object Object]'],\n ['100.py:122', '100.py:123', 'Attribute', 'Attribute', '[object Object]'],\n ['100.py:122', '100.py:124', 'result', 'result', '[object Object]'],\n ['100.py:122', '100.py:124', 'result', 'Attribute()', '[object Object]'],\n ['100.py:125', '100.py:126', 'Subscript', 'recommended', '[object Object]'],\n ['100.py:125', '100.py:126', 'Subscript', 'Subscript', '[object Object]'],\n ['100.py:125', '100.py:128', 'Subscript', 'Str', '[object Object]'],\n ['100.py:125', '100.py:128', 'Subscript', 'Subscript', '[object Object]'],\n ['100.py:125', '100.py:129', 'Subscript', 'False', '[object Object]'],\n ['100.py:125', '100.py:129', 'Subscript', 'Subscript', '[object Object]'],\n ['100.py:131', '100.py:132', 'Attribute', 'featured', '[object Object]'],\n ['100.py:131', '100.py:132', 'Attribute', 'Attribute', '[object Object]'],\n ['100.py:131', '100.py:133', 'result', 'result', '[object Object]'],\n ['100.py:131', '100.py:133', 'result', 'Attribute()', '[object Object]'],\n ['100.py:134', '100.py:135', 'Subscript', 'featured', '[object Object]'],\n ['100.py:134', '100.py:135', 'Subscript', 'Subscript', '[object Object]'],\n ['100.py:134', '100.py:137', 'Subscript', 'Str', '[object Object]'],\n ['100.py:134', '100.py:137', 'Subscript', 'Subscript', '[object Object]'],\n ['100.py:134', '100.py:138', 'Subscript', 'False', '[object Object]'],\n ['100.py:134', '100.py:138', 'Subscript', 'Subscript', '[object Object]'],\n ['100.py:140', '100.py:141', 'Attribute', 'elevated', '[object Object]'],\n ['100.py:140', '100.py:141', 'Attribute', 'Attribute', '[object Object]'],\n ['100.py:140', '100.py:142', 'result', 'result', '[object Object]'],\n ['100.py:140', '100.py:142', 'result', 'Attribute()', '[object Object]'],\n ['100.py:143', '100.py:144', 'Subscript', 'elevated', '[object Object]'],\n ['100.py:143', '100.py:144', 'Subscript', 'Subscript', '[object Object]'],\n ['100.py:143', '100.py:146', 'Subscript', 'Str', '[object Object]'],\n ['100.py:143', '100.py:146', 'Subscript', 'Subscript', '[object Object]'],\n ['100.py:143', '100.py:147', 'Subscript', 'False', '[object Object]'],\n ['100.py:143', '100.py:147', 'Subscript', 'Subscript', '[object Object]'],\n ['100.py:149', '100.py:151', 'days', 'days', '[object Object]'],\n ['100.py:149', '100.py:151', 'days', 'Dict', '[object Object]'],\n ['100.py:159', '100.py:160', 'Subscript', 'Str', '[object Object]'],\n ['100.py:159', '100.py:160', 'Subscript', 'Subscript', '[object Object]'],\n ['100.py:159', '100.py:163', 'Subscript', 'False', '[object Object]'],\n ['100.py:159', '100.py:163', 'Subscript', 'Subscript', '[object Object]'],\n ['100.py:159', '100.py:166', 'Attribute', 'Attribute', '[object Object]'],\n ['100.py:159', '100.py:166', 'Attribute', 'Subscript', '[object Object]'],\n ['100.py:159', '100.py:167', 'result', 'result', '[object Object]'],\n ['100.py:159', '100.py:167', 'result', 'Attribute()', '[object Object]'],\n ['100.py:168', '100.py:169', 'Subscript', 'day', '[object Object]'],\n ['100.py:168', '100.py:169', 'Subscript', 'Subscript', '[object Object]'],\n ['100.py:168', '100.py:171', 'Subscript', 'Str', '[object Object]'],\n ['100.py:168', '100.py:171', 'Subscript', 'Subscript', '[object Object]'],\n ['100.py:168', '100.py:172', 'Subscript', 'False', '[object Object]'],\n ['100.py:168', '100.py:172', 'Subscript', 'Subscript', '[object Object]'],\n ['100.py:177', '100.py:178', 'Subscript', 'Subscript', '[object Object]'],\n ['100.py:177', '100.py:178', 'Subscript', 'Attribute()', '[object Object]'],\n ['100.py:177', '100.py:180', 'Subscript', 'False', '[object Object]'],\n ['100.py:177', '100.py:180', 'Subscript', 'Subscript', '[object Object]'],\n ['100.py:182', '100.py:183', 'Subscript', 'Subscript', '[object Object]'],\n ['100.py:182', '100.py:183', 'Subscript', 'Attribute()', '[object Object]'],\n ['100.py:182', '100.py:185', 'Subscript', 'False', '[object Object]'],\n ['100.py:182', '100.py:185', 'Subscript', 'Subscript', '[object Object]'],\n ['100.py:182', '100.py:188', 't', 't', '[object Object]'],\n ['100.py:182', '100.py:188', 't', 'Attribute()', '[object Object]'],\n ['100.py:182', '100.py:190', 'Attribute', 'Attribute', '[object Object]'],\n ['100.py:182', '100.py:190', 'Attribute', 'Subscript', '[object Object]'],\n ['100.py:182', '100.py:191', 'result', 'result', '[object Object]'],\n ['100.py:182', '100.py:191', 'result', 'Attribute()', '[object Object]'],\n ['100.py:192', '100.py:193', 'Subscript', 'time', '[object Object]'],\n ['100.py:192', '100.py:193', 'Subscript', 'Subscript', '[object Object]'],\n ['100.py:192', '100.py:195', 'Subscript', 'Str', '[object Object]'],\n ['100.py:192', '100.py:195', 'Subscript', 'Subscript', '[object Object]'],\n ['100.py:192', '100.py:196', 'Subscript', 'False', '[object Object]'],\n ['100.py:192', '100.py:196', 'Subscript', 'Subscript', '[object Object]'],\n ['100.py:198', '100.py:205', 'Attribute', 'Str', '[object Object]'],\n ['100.py:198', '100.py:205', 'Attribute', 'Attribute', '[object Object]'],\n ['100.py:221', '100.py:235', 'Subscript', 'msupdate', '[object Object]'],\n ['100.py:221', '100.py:235', 'Subscript', 'Subscript', '[object Object]'],\n ['11.py:25', '11.py:30', 'Subscript', 'Subscript', '[object Object]'],\n ['11.py:25', '11.py:30', 'Subscript', 'Attribute()', '[object Object]'],\n ['11.py:26', '11.py:27', 'description', 'description', '[object Object]'],\n ['11.py:26', '11.py:27', 'description', 'BoolExpr', '[object Object]'],\n ['11.py:26', '11.py:29', 'Subscript', 'description', '[object Object]'],\n ['11.py:26', '11.py:29', 'Subscript', 'Subscript', '[object Object]'],\n ['11.py:34', '11.py:35', 'Subscript', 'info', '[object Object]'],\n ['11.py:34', '11.py:35', 'Subscript', 'Subscript', '[object Object]'],\n ['15.py:29', '15.py:32', 'chunks', 'chunks', '[object Object]'],\n ['15.py:29', '15.py:32', 'chunks', 'chain()', '[object Object]'],\n ['15.py:33', '15.py:34', 'chunks', 'chunks', '[object Object]'],\n ['15.py:33', '15.py:34', 'chunks', 'repeat()', '[object Object]'],\n ['17.py:21', '17.py:22', 'Subscript', 'Subscript', '[object Object]'],\n ['17.py:21', '17.py:22', 'Subscript', '_exit_status()', '[object Object]'],\n ['17.py:33', '17.py:34', 'Subscript', 'data', '[object Object]'],\n ['17.py:33', '17.py:34', 'Subscript', 'Subscript', '[object Object]'],\n ['18.py:14', '18.py:15', 'bucket_scheme', 'bucket_scheme', '[object Object]'],\n ['18.py:14', '18.py:15', 'bucket_scheme', 'Attribute()', '[object Object]'],\n ['18.py:16', '18.py:17', 'bucket_scheme', 'bucket_scheme', '[object Object]'],\n ['18.py:16', '18.py:17', 'bucket_scheme', 'Attribute()', '[object Object]'],\n ['18.py:18', '18.py:19', 'bucket_scheme', 'bucket_scheme', '[object Object]'],\n ['18.py:18', '18.py:19', 'bucket_scheme', 'Attribute()', '[object Object]'],\n ['19.py:42', '19.py:43', 'entries', 'entries', '[object Object]'],\n ['19.py:42', '19.py:43', 'entries', '_parse_members()', '[object Object]'],\n ['19.py:42', '19.py:45', 'entries', 'entries', '[object Object]'],\n ['19.py:42', '19.py:45', 'entries', 'List', '[object Object]'],\n ['23.py:27', '23.py:28', 'format_key1', 'format_key1', '[object Object]'],\n ['23.py:27', '23.py:28', 'format_key1', 'Subscript', '[object Object]'],\n ['23.py:27', '23.py:29', 'm', 'm', '[object Object]'],\n ['23.py:27', '23.py:29', 'm', 'getattr()', '[object Object]'],\n ['23.py:27', '23.py:30', 'key_method', 'key_method', '[object Object]'],\n ['23.py:27', '23.py:30', 'key_method', 'KeyMethod()', '[object Object]'],\n ['23.py:27', '23.py:32', 'format_key2', 'Tuple', '[object Object]'],\n ['23.py:27', '23.py:32', 'format_key2', 'format_key2', '[object Object]'],\n ['23.py:27', '23.py:33', 'm', 'm', '[object Object]'],\n ['23.py:27', '23.py:33', 'm', 'getattr()', '[object Object]'],\n ['23.py:27', '23.py:34', 'key_method', 'key_method', '[object Object]'],\n ['23.py:27', '23.py:34', 'key_method', 'KeyMethod()', '[object Object]'],\n ['24.py:19', '24.py:20', 'startMembers', 'True', '[object Object]'],\n ['24.py:19', '24.py:20', 'startMembers', 'startMembers', '[object Object]'],\n ['3.py:17', '3.py:18', 'initial_mode', 'initial_mode', '[object Object]'],\n ['3.py:17',\n  '3.py:18',\n  'initial_mode',\n  '_get_adapter_mode_info()',\n  '[object Object]'],\n ['31.py:26', '31.py:27', 'Subscript', 'topic', '[object Object]'],\n ['31.py:26', '31.py:27', 'Subscript', 'Subscript', '[object Object]'],\n ['31.py:28', '31.py:29', 'Subscript', 'ruleDisabled', '[object Object]'],\n ['31.py:28', '31.py:29', 'Subscript', 'Subscript', '[object Object]'],\n ['35.py:41', '35.py:42', 'loss', 'loss', '[object Object]'],\n ['35.py:41', '35.py:42', 'loss', 'UnaryExpr', '[object Object]'],\n ['35.py:66', '35.py:67', 'ax', 'ax', '[object Object]'],\n ['35.py:66', '35.py:67', 'ax', 'Attribute()', '[object Object]'],\n ['36.py:51', '36.py:52', 'ret', 'ret', '[object Object]'],\n ['36.py:51', '36.py:52', 'ret', 'Dict', '[object Object]'],\n ['36.py:51', '36.py:57', 'window', 'None', '[object Object]'],\n ['36.py:51', '36.py:57', 'window', 'window', '[object Object]'],\n ['36.py:51', '36.py:63', 'comment', 'comment', '[object Object]'],\n ['36.py:51', '36.py:63', 'comment', 'Attribute()', '[object Object]'],\n ['36.py:51', '36.py:71', 'Subscript', 'comment', '[object Object]'],\n ['36.py:51', '36.py:71', 'Subscript', 'Subscript', '[object Object]'],\n ['36.py:66', '36.py:70', 'Subscript', 'True', '[object Object]'],\n ['36.py:66', '36.py:70', 'Subscript', 'Subscript', '[object Object]'],\n ['36.py:74', '36.py:75', 'old', 'None', '[object Object]'],\n ['36.py:74', '36.py:75', 'old', 'old', '[object Object]'],\n ['36.py:74', '36.py:77', 'old', 'old', '[object Object]'],\n ['36.py:74', '36.py:77', 'old', 'Subscript()', '[object Object]'],\n ['36.py:107', '36.py:108', 'Subscript', 'Dict', '[object Object]'],\n ['36.py:107', '36.py:108', 'Subscript', 'Subscript', '[object Object]'],\n ['36.py:107', '36.py:115', 'Subscript', 'Dict', '[object Object]'],\n ['36.py:107', '36.py:115', 'Subscript', 'Subscript', '[object Object]'],\n ['36.py:110', '36.py:111', 'new', 'None', '[object Object]'],\n ['36.py:110', '36.py:111', 'new', 'new', '[object Object]'],\n ['36.py:110', '36.py:113', 'new', 'new', '[object Object]'],\n ['36.py:110', '36.py:113', 'new', 'Subscript()', '[object Object]'],\n ['37.py:13', '37.py:16', 'Subscript', 'List', '[object Object]'],\n ['37.py:13', '37.py:16', 'Subscript', 'Subscript', '[object Object]'],\n ['37.py:13', '37.py:17', 'Subscript', 'List', '[object Object]'],\n ['37.py:13', '37.py:17', 'Subscript', 'Subscript', '[object Object]'],\n ['39.py:19', '39.py:22', 'data', 'data', '[object Object]'],\n ['39.py:19', '39.py:22', 'data', 'Attribute()', '[object Object]'],\n ['44.py:15', '44.py:17', 'dtype_dict', 'dtype_dict', '[object Object]'],\n ['44.py:15', '44.py:17', 'dtype_dict', 'DictComp', '[object Object]'],\n ['44.py:15', '44.py:25', 'df', 'df', '[object Object]'],\n ['44.py:15', '44.py:25', 'df', 'Attribute()', '[object Object]'],\n ['44.py:15', '44.py:35', 'Attribute', 'Attribute', '[object Object]'],\n ['44.py:15', '44.py:37', 'Attribute', 'Attribute', '[object Object]'],\n ['45.py:13', '45.py:33', 'min_width', 'min_width', '[object Object]'],\n ['45.py:13', '45.py:33', 'min_width', 'Attribute()', '[object Object]'],\n ['45.py:13', '45.py:35', 'max_width', 'max_width', '[object Object]'],\n ['45.py:13', '45.py:35', 'max_width', 'Attribute()', '[object Object]'],\n ['45.py:13', '45.py:37', 'base_width', 'base_width', '[object Object]'],\n ['45.py:13', '45.py:37', 'base_width', 'Attribute()', '[object Object]'],\n ['45.py:441', '45.py:443', '_widgets', '_widgets', '[object Object]'],\n ['45.py:441', '45.py:443', '_widgets', 'ListComp', '[object Object]'],\n ['45.py:455', '45.py:457', '_widgets', '_widgets', '[object Object]'],\n ['45.py:455', '45.py:457', '_widgets', 'ListComp', '[object Object]'],\n ['45.py:487', '45.py:489', 'Attribute', 'False', '[object Object]'],\n ['45.py:487', '45.py:489', 'Attribute', 'Attribute', '[object Object]'],\n ['46.py:5', '46.py:6', 'cachedir', 'cachedir', '[object Object]'],\n ['46.py:5', '46.py:6', 'cachedir', '__cachedir()', '[object Object]'],\n ['46.py:9', '46.py:10', 'target', 'target', '[object Object]'],\n ['46.py:9', '46.py:10', 'target', 'Attribute()', '[object Object]'],\n ['46.py:9', '46.py:15', 'target', 'target', '[object Object]'],\n ['46.py:9', '46.py:15', 'target', 'Attribute()', '[object Object]'],\n ['47.py:22', '47.py:25', 'fr', 'fr', '[object Object]'],\n ['47.py:22', '47.py:25', 'fr', 'FeatherReader()', '[object Object]'],\n ['47.py:22', '47.py:26', 'columns', 'columns', '[object Object]'],\n ['47.py:22', '47.py:26', 'columns', 'ListComp', '[object Object]'],\n ['48.py:33',\n  '48.py:34',\n  'scsi_address_to_lun',\n  'scsi_address_to_lun',\n  '[object Object]'],\n ['48.py:33',\n  '48.py:34',\n  'scsi_address_to_lun',\n  'Attribute()',\n  '[object Object]'],\n ['48.py:33', '48.py:40', 'disk_id', 'disk_id', '[object Object]'],\n ['48.py:33', '48.py:40', 'disk_id', 'Attribute', '[object Object]'],\n ['5.py:50', '5.py:51', 'to_concat', 'to_concat', '[object Object]'],\n ['5.py:50', '5.py:51', 'to_concat', 'ListComp', '[object Object]'],\n ['5.py:53', '5.py:57', 'typs', 'typs', '[object Object]'],\n ['5.py:53', '5.py:57', 'typs', 'get_dtype_kinds()', '[object Object]'],\n ['5.py:60', '5.py:66', 'to_concat', 'to_concat', '[object Object]'],\n ['5.py:60', '5.py:66', 'to_concat', 'ListComp', '[object Object]'],\n ['52.py:18',\n  '52.py:20',\n  'node_name_to_op_type',\n  'node_name_to_op_type',\n  '[object Object]'],\n ['52.py:18', '52.py:20', 'node_name_to_op_type', 'dict()', '[object Object]'],\n ['52.py:18', '52.py:24', 'gated', 'List', '[object Object]'],\n ['52.py:18', '52.py:24', 'gated', 'gated', '[object Object]'],\n ['52.py:18', '52.py:35', 'Subscript', 'gated', '[object Object]'],\n ['52.py:18', '52.py:35', 'Subscript', 'Subscript', '[object Object]'],\n ['52.py:28', '52.py:29', 'Tuple', 'Tuple', '[object Object]'],\n ['52.py:28', '52.py:29', 'Tuple', 'Attribute()', '[object Object]'],\n ['54.py:38', '54.py:39', 'policy_names', 'List', '[object Object]'],\n ['54.py:38', '54.py:39', 'policy_names', 'policy_names', '[object Object]'],\n ['55.py:12', '55.py:19', 'np', 'None', '[object Object]'],\n ['55.py:12', '55.py:19', 'np', 'np', '[object Object]'],\n ['56.py:7',\n  '56.py:9',\n  'non_reserved_start_index',\n  'non_reserved_start_index',\n  '[object Object]'],\n ['56.py:7',\n  '56.py:9',\n  'non_reserved_start_index',\n  'len()',\n  '[object Object]'],\n ['57.py:21', '57.py:22', 'mask', 'mask', '[object Object]'],\n ['57.py:21', '57.py:22', 'mask', 'Subscript', '[object Object]'],\n ['57.py:21', '57.py:25', 'mask', 'mask', '[object Object]'],\n ['57.py:21', '57.py:25', 'mask', 'Attribute()', '[object Object]'],\n ['57.py:21', '57.py:27', 'mask', 'None', '[object Object]'],\n ['57.py:21', '57.py:27', 'mask', 'mask', '[object Object]'],\n ['57.py:36', '57.py:37', 'repeater', 'repeater', '[object Object]'],\n ['57.py:36', '57.py:37', 'repeater', 'Attribute()', '[object Object]'],\n ['57.py:36', '57.py:39', 'idx', 'idx', '[object Object]'],\n ['57.py:36', '57.py:39', 'idx', 'Attribute()', '[object Object]'],\n ['57.py:41', '57.py:42', 'repeater', 'repeater', '[object Object]'],\n ['57.py:41', '57.py:42', 'repeater', 'Attribute()', '[object Object]'],\n ['57.py:41', '57.py:44', 'idx', 'idx', '[object Object]'],\n ['57.py:41', '57.py:44', 'idx', 'Attribute()', '[object Object]'],\n ['57.py:59', '57.py:60', 'chunksize', 'chunksize', '[object Object]'],\n ['57.py:59', '57.py:60', 'chunksize', 'IntegerLiteral', '[object Object]'],\n ['60.py:4', '60.py:5', 'Subscript', 'Subscript', '[object Object]'],\n ['60.py:4', '60.py:5', 'Subscript', 'Attribute()', '[object Object]'],\n ['61.py:5', '61.py:6', 'Tuple', 'Tuple', '[object Object]'],\n ['61.py:5', '61.py:6', 'Tuple', 'divmod()', '[object Object]'],\n ['69.py:23',\n  '69.py:29',\n  'actual_callback',\n  'remove_then_invoke',\n  '[object Object]'],\n ['69.py:23',\n  '69.py:29',\n  'actual_callback',\n  'actual_callback',\n  '[object Object]'],\n ['69.py:23', '69.py:31', 'actual_callback', 'callback', '[object Object]'],\n ['69.py:23',\n  '69.py:31',\n  'actual_callback',\n  'actual_callback',\n  '[object Object]'],\n ['7.py:20', '7.py:23', 'data', 'data', '[object Object]'],\n ['7.py:20', '7.py:23', 'data', 'Attribute()', '[object Object]'],\n ['71.py:9', '71.py:10', 'msg', 'msg', '[object Object]'],\n ['71.py:9', '71.py:10', 'msg', 'BinaryExpr', '[object Object]'],\n ['71.py:19', '71.py:20', 'msg', 'msg', '[object Object]'],\n ['71.py:19', '71.py:20', 'msg', 'BinaryExpr', '[object Object]'],\n ['71.py:25', '71.py:26', 'Subscript', 'Subscript', '[object Object]'],\n ['73.py:17', '73.py:18', 'dataset', 'dataset', '[object Object]'],\n ['73.py:17', '73.py:18', 'dataset', '_SFrame()', '[object Object]'],\n ['73.py:17', '73.py:20', 'dataset', 'dataset', '[object Object]'],\n ['73.py:17', '73.py:20', 'dataset', '_SFrame()', '[object Object]'],\n ['74.py:38', '74.py:39', 'policy_names', 'List', '[object Object]'],\n ['74.py:38', '74.py:39', 'policy_names', 'policy_names', '[object Object]'],\n ['76.py:7', '76.py:8', 'timetuple', 'timetuple', '[object Object]'],\n ['76.py:7', '76.py:8', 'timetuple', 'parsedate()', '[object Object]'],\n ['77.py:18', '77.py:19', 'byteslen', 'byteslen', '[object Object]'],\n ['77.py:18', '77.py:19', 'byteslen', 'BinaryExpr', '[object Object]'],\n ['77.py:18', '77.py:20', 'details', 'details', '[object Object]'],\n ['77.py:18', '77.py:20', 'details', '_compat_to_bytes()', '[object Object]'],\n ['77.py:18', '77.py:21', 'msg', 'msg', '[object Object]'],\n ['77.py:18', '77.py:21', 'msg', 'Str', '[object Object]'],\n ['79.py:22', '79.py:23', 'Subscript', 'Str', '[object Object]'],\n ['79.py:22', '79.py:23', 'Subscript', 'Subscript', '[object Object]'],\n ['79.py:35', '79.py:36', 'Subscript', 'IfExp', '[object Object]'],\n ['79.py:35', '79.py:36', 'Subscript', 'Subscript', '[object Object]'],\n ['82.py:42',\n  '82.py:43',\n  'smallest_array',\n  'smallest_array',\n  '[object Object]'],\n ['82.py:42', '82.py:43', 'smallest_array', 'Subscript', '[object Object]'],\n ['82.py:42', '82.py:44', 'seq_len', 'seq_len', '[object Object]'],\n ['82.py:42', '82.py:44', 'seq_len', 'BinaryExpr', '[object Object]'],\n ['82.py:42', '82.py:45', 'Attribute', 'seq_len', '[object Object]'],\n ['82.py:42', '82.py:45', 'Attribute', 'Attribute', '[object Object]'],\n ['82.py:42',\n  '82.py:47',\n  'smallest_array',\n  'smallest_array',\n  '[object Object]'],\n ['82.py:42', '82.py:47', 'smallest_array', 'Subscript', '[object Object]'],\n ['82.py:42', '82.py:48', 'Attribute', 'IntegerLiteral', '[object Object]'],\n ['82.py:42', '82.py:48', 'Attribute', 'Attribute', '[object Object]'],\n ['82.py:53',\n  '82.py:60',\n  'sequences_per_minibatch',\n  'sequences_per_minibatch',\n  '[object Object]'],\n ['82.py:53',\n  '82.py:60',\n  'sequences_per_minibatch',\n  'IntegerLiteral',\n  '[object Object]'],\n ['82.py:62',\n  '82.py:64',\n  'sequences_per_minibatch',\n  'sequences_per_minibatch',\n  '[object Object]'],\n ['82.py:62',\n  '82.py:64',\n  'sequences_per_minibatch',\n  'make_divisible_by()',\n  '[object Object]'],\n ['82.py:82', '82.py:84', 'state_inputs', 'state_inputs', '[object Object]'],\n ['82.py:82', '82.py:84', 'state_inputs', 'ListComp', '[object Object]'],\n ['82.py:82', '82.py:89', 'inputs', 'inputs', '[object Object]'],\n ['82.py:82', '82.py:89', 'inputs', 'ListComp', '[object Object]'],\n ['82.py:82', '82.py:95', 'truncated_len', 'truncated_len', '[object Object]'],\n ['82.py:82', '82.py:95', 'truncated_len', 'len()', '[object Object]'],\n ['83.py:31', '83.py:32', 'net', 'net', '[object Object]'],\n ['83.py:31', '83.py:32', 'net', 'Attribute()', '[object Object]'],\n ['83.py:31', '83.py:34', 'net', 'net', '[object Object]'],\n ['83.py:31', '83.py:34', 'net', 'Attribute()', '[object Object]'],\n ['83.py:31', '83.py:35', 'net', 'net', '[object Object]'],\n ['83.py:31', '83.py:35', 'net', 'Attribute()()', '[object Object]'],\n ['83.py:37', '83.py:38', 'net', 'net', '[object Object]'],\n ['83.py:37', '83.py:38', 'net', 'Attribute()', '[object Object]'],\n ['83.py:37', '83.py:40', 'net', 'net', '[object Object]'],\n ['83.py:37', '83.py:40', 'net', 'Attribute()', '[object Object]'],\n ['83.py:37', '83.py:41', 'net', 'net', '[object Object]'],\n ['83.py:37', '83.py:41', 'net', 'Attribute()()', '[object Object]'],\n ['83.py:43', '83.py:48', 'net', 'net', '[object Object]'],\n ['83.py:43', '83.py:48', 'net', 'Attribute()()', '[object Object]'],\n ['83.py:43', '83.py:50', 'net', 'net', '[object Object]'],\n ['83.py:43', '83.py:50', 'net', 'Subscript', '[object Object]'],\n ['90.py:17', '90.py:18', 'api_key', 'api_key', '[object Object]'],\n ['90.py:17', '90.py:18', 'api_key', '_get_api_key()', '[object Object]'],\n ['90.py:21', '90.py:22', 'users', 'users', '[object Object]'],\n ['90.py:21', '90.py:22', 'users', 'Subscript', '[object Object]'],\n ['91.py:23', '91.py:26', 'data', 'data', '[object Object]'],\n ['91.py:23', '91.py:26', 'data', 'Attribute()', '[object Object]'],\n ['92.py:13', '92.py:14', 'subclass', 'subclass', '[object Object]'],\n ['92.py:13', '92.py:14', 'subclass', 'Attribute', '[object Object]'],\n ['96.py:59', '96.py:60', 'loc', 'loc', '[object Object]'],\n ['96.py:59', '96.py:60', 'loc', 'Attribute()', '[object Object]'],\n ['96.py:93', '96.py:94', 'loc', 'loc', '[object Object]'],\n ['96.py:93', '96.py:94', 'loc', 'Subscript', '[object Object]'],\n ['97.py:18', '97.py:19', 'user_id', 'user_id', '[object Object]'],\n ['97.py:18', '97.py:19', 'user_id', 'Attribute', '[object Object]'],\n ['97.py:25', '97.py:26', 'name', 'name', '[object Object]'],\n ['97.py:25', '97.py:26', 'name', 'Attribute', '[object Object]'],\n ['97.py:27', '97.py:28', 'email', 'email', '[object Object]'],\n ['97.py:27', '97.py:28', 'email', 'Attribute', '[object Object]'],\n ['97.py:29', '97.py:30', 'enabled', 'enabled', '[object Object]'],\n ['97.py:29', '97.py:30', 'enabled', 'Attribute', '[object Object]'],\n ['97.py:32', '97.py:38', 'project_id', 'None', '[object Object]'],\n ['97.py:32', '97.py:38', 'project_id', 'project_id', '[object Object]'],\n ['97.py:32', '97.py:52', 'tenant_id', 'None', '[object Object]'],\n ['97.py:32', '97.py:52', 'tenant_id', 'tenant_id', '[object Object]'],\n ['97.py:33', '97.py:34', 'description', 'description', '[object Object]'],\n ['97.py:33', '97.py:34', 'description', 'getattr()', '[object Object]'],\n ['97.py:33', '97.py:36', 'description', 'description', '[object Object]'],\n ['97.py:33', '97.py:36', 'description', 'Attribute()', '[object Object]'],\n ['97.py:41', '97.py:42', 'project_id', 'project_id', '[object Object]'],\n ['97.py:41', '97.py:42', 'project_id', 'Attribute', '[object Object]'],\n ['97.py:44', '97.py:45', 'project_id', 'project_id', '[object Object]'],\n ['97.py:44', '97.py:45', 'project_id', 'getattr()', '[object Object]'],\n ['97.py:55', '97.py:56', 'tenant_id', 'tenant_id', '[object Object]'],\n ['97.py:55', '97.py:56', 'tenant_id', 'Attribute', '[object Object]'],\n ['']]"
     },
     "execution_count": 167,
     "metadata": {},
     "output_type": "execute_result"
    }
   ],
   "source": [
    "with open(\"X:/UIUC/CS 598/ml4se/results/python/dataflow.csv\") as fp:\n",
    "    lines = fp.read().split('\\n')\n",
    "    dataflow = []\n",
    "    for line in lines:\n",
    "        dataflow.append([path.replace(PY_LOC, \"\").replace('\"', '') for path in line.split(\",\")])\n",
    "dataflow"
   ],
   "metadata": {
    "collapsed": false
   }
  },
  {
   "cell_type": "code",
   "execution_count": 169,
   "outputs": [
    {
     "data": {
      "text/plain": "[['10.py:1', '10.py:22', 'recvTime', 'Tuple', '[object Object]'],\n ['10.py:1', '10.py:22', 'recvTime', 'Tuple', '[object Object]'],\n ['10.py:1', '10.py:22', 'recvTime', 'receive_one_ping()', '[object Object]'],\n ['10.py:1', '10.py:22', 'recvTime', 'receive_one_ping()', '[object Object]'],\n ['10.py:1', '10.py:22', 'dataSize', 'Tuple', '[object Object]'],\n ['10.py:1', '10.py:22', 'dataSize', 'Tuple', '[object Object]'],\n ['10.py:1', '10.py:22', 'dataSize', 'receive_one_ping()', '[object Object]'],\n ['10.py:1', '10.py:22', 'dataSize', 'receive_one_ping()', '[object Object]'],\n ['10.py:1', '10.py:22', 'iphSrcIP', 'Tuple', '[object Object]'],\n ['10.py:1', '10.py:22', 'iphSrcIP', 'Tuple', '[object Object]'],\n ['10.py:1', '10.py:22', 'iphSrcIP', 'receive_one_ping()', '[object Object]'],\n ['10.py:1', '10.py:22', 'iphSrcIP', 'receive_one_ping()', '[object Object]'],\n ['10.py:1', '10.py:22', 'icmpSeqNumber', 'Tuple', '[object Object]'],\n ['10.py:1', '10.py:22', 'icmpSeqNumber', 'Tuple', '[object Object]'],\n ['10.py:1',\n  '10.py:22',\n  'icmpSeqNumber',\n  'receive_one_ping()',\n  '[object Object]'],\n ['10.py:1',\n  '10.py:22',\n  'icmpSeqNumber',\n  'receive_one_ping()',\n  '[object Object]'],\n ['10.py:1', '10.py:22', 'iphTTL', 'Tuple', '[object Object]'],\n ['10.py:1', '10.py:22', 'iphTTL', 'Tuple', '[object Object]'],\n ['10.py:1', '10.py:22', 'iphTTL', 'receive_one_ping()', '[object Object]'],\n ['10.py:1', '10.py:22', 'iphTTL', 'receive_one_ping()', '[object Object]'],\n ['35.py:1', '35.py:29', 'y', 'Tuple', '[object Object]'],\n ['35.py:1', '35.py:29', 'y', 'Tuple', '[object Object]'],\n ['35.py:1', '35.py:29', 'y', 'Attribute()', '[object Object]'],\n ['35.py:1', '35.py:29', 'y', 'Attribute()', '[object Object]'],\n ['35.py:1', '35.py:29', '_nb_classes', 'Tuple', '[object Object]'],\n ['35.py:1', '35.py:29', '_nb_classes', 'Tuple', '[object Object]'],\n ['35.py:1', '35.py:29', '_nb_classes', 'Attribute()', '[object Object]'],\n ['35.py:1', '35.py:29', '_nb_classes', 'Attribute()', '[object Object]'],\n ['35.py:1', '35.py:73', 'adv_x', 'Tuple', '[object Object]'],\n ['35.py:1', '35.py:73', 'adv_x', 'Tuple', '[object Object]'],\n ['35.py:1', '35.py:73', 'adv_x', 'Attribute()', '[object Object]'],\n ['35.py:1', '35.py:73', 'adv_x', 'Attribute()', '[object Object]'],\n ['35.py:1', '35.py:73', '_', 'Tuple', '[object Object]'],\n ['35.py:1', '35.py:73', '_', 'Tuple', '[object Object]'],\n ['35.py:1', '35.py:73', '_', 'Attribute()', '[object Object]'],\n ['35.py:1', '35.py:73', '_', 'Attribute()', '[object Object]'],\n ['35.py:37', '35.py:45', 'grad', 'Tuple', '[object Object]'],\n ['35.py:37', '35.py:45', 'grad', 'Tuple', '[object Object]'],\n ['35.py:37', '35.py:45', 'grad', 'Attribute()', '[object Object]'],\n ['35.py:37', '35.py:45', 'grad', 'Attribute()', '[object Object]'],\n ['45.py:1', '45.py:45', 'MATLAB', 'Tuple', '[object Object]'],\n ['45.py:1', '45.py:45', 'MATLAB', 'Tuple', '[object Object]'],\n ['45.py:1', '45.py:45', 'MATLAB', 'range()', '[object Object]'],\n ['45.py:1', '45.py:45', 'MATLAB', 'range()', '[object Object]'],\n ['45.py:1', '45.py:45', 'RSTUDIO', 'Tuple', '[object Object]'],\n ['45.py:1', '45.py:45', 'RSTUDIO', 'Tuple', '[object Object]'],\n ['45.py:1', '45.py:45', 'RSTUDIO', 'range()', '[object Object]'],\n ['45.py:1', '45.py:45', 'RSTUDIO', 'range()', '[object Object]'],\n ['45.py:1', '45.py:45', 'VERTICAL', 'Tuple', '[object Object]'],\n ['45.py:1', '45.py:45', 'VERTICAL', 'Tuple', '[object Object]'],\n ['45.py:1', '45.py:45', 'VERTICAL', 'range()', '[object Object]'],\n ['45.py:1', '45.py:45', 'VERTICAL', 'range()', '[object Object]'],\n ['45.py:1', '45.py:45', 'HORIZONTAL', 'Tuple', '[object Object]'],\n ['45.py:1', '45.py:45', 'HORIZONTAL', 'Tuple', '[object Object]'],\n ['45.py:1', '45.py:45', 'HORIZONTAL', 'range()', '[object Object]'],\n ['45.py:1', '45.py:45', 'HORIZONTAL', 'range()', '[object Object]'],\n ['78.py:1', '78.py:3', 'width', 'Tuple', '[object Object]'],\n ['78.py:1', '78.py:3', 'width', 'Tuple', '[object Object]'],\n ['78.py:1', '78.py:3', 'width', 'Attribute()', '[object Object]'],\n ['78.py:1', '78.py:3', 'width', 'Attribute()', '[object Object]'],\n ['78.py:1', '78.py:3', 'height', 'Tuple', '[object Object]'],\n ['78.py:1', '78.py:3', 'height', 'Tuple', '[object Object]'],\n ['78.py:1', '78.py:3', 'height', 'Attribute()', '[object Object]'],\n ['78.py:1', '78.py:3', 'height', 'Attribute()', '[object Object]'],\n ['80.py:1', '80.py:9', 'key', 'Tuple', '[object Object]'],\n ['80.py:1', '80.py:9', 'key', 'Tuple', '[object Object]'],\n ['80.py:1', '80.py:9', 'key', 'Attribute()', '[object Object]'],\n ['80.py:1', '80.py:9', 'key', 'Attribute()', '[object Object]'],\n ['80.py:1', '80.py:9', 'bucket', 'Tuple', '[object Object]'],\n ['80.py:1', '80.py:9', 'bucket', 'Tuple', '[object Object]'],\n ['80.py:1', '80.py:9', 'bucket', 'Attribute()', '[object Object]'],\n ['80.py:1', '80.py:9', 'bucket', 'Attribute()', '[object Object]'],\n ['96.py:1', '96.py:76', 'lead_key', 'Tuple', '[object Object]'],\n ['96.py:1', '96.py:76', 'lead_key', 'Tuple', '[object Object]'],\n ['96.py:1', '96.py:76', 'follow_key', 'Tuple', '[object Object]'],\n ['96.py:1', '96.py:76', 'follow_key', 'Tuple', '[object Object]'],\n ['96.py:1', '96.py:77', 'start', 'Tuple', '[object Object]'],\n ['96.py:1', '96.py:77', 'start', 'Tuple', '[object Object]'],\n ['96.py:1', '96.py:77', 'start', 'IfExp', '[object Object]'],\n ['96.py:1', '96.py:77', 'start', 'IfExp', '[object Object]'],\n ['96.py:1', '96.py:77', 'stop', 'Tuple', '[object Object]'],\n ['96.py:1', '96.py:77', 'stop', 'Tuple', '[object Object]'],\n ['96.py:1', '96.py:77', 'stop', 'IfExp', '[object Object]'],\n ['96.py:1', '96.py:77', 'stop', 'IfExp', '[object Object]'],\n ['100.py:212', '100.py:213', 'msg', 'Tuple', '[object Object]'],\n ['100.py:212', '100.py:213', 'msg', 'Tuple', '[object Object]'],\n ['100.py:212', '100.py:213', 'msg', 'Attribute', '[object Object]'],\n ['100.py:212', '100.py:213', 'msg', 'Attribute', '[object Object]'],\n ['100.py:212', '100.py:213', 'hr', 'Tuple', '[object Object]'],\n ['100.py:212', '100.py:213', 'hr', 'Tuple', '[object Object]'],\n ['100.py:212', '100.py:213', 'hr', 'Attribute', '[object Object]'],\n ['100.py:212', '100.py:213', 'hr', 'Attribute', '[object Object]'],\n ['100.py:212', '100.py:213', 'exc', 'Tuple', '[object Object]'],\n ['100.py:212', '100.py:213', 'exc', 'Tuple', '[object Object]'],\n ['100.py:212', '100.py:213', 'exc', 'Attribute', '[object Object]'],\n ['100.py:212', '100.py:213', 'exc', 'Attribute', '[object Object]'],\n ['100.py:212', '100.py:213', 'arg', 'Tuple', '[object Object]'],\n ['100.py:212', '100.py:213', 'arg', 'Tuple', '[object Object]'],\n ['100.py:212', '100.py:213', 'arg', 'Attribute', '[object Object]'],\n ['100.py:212', '100.py:213', 'arg', 'Attribute', '[object Object]'],\n ['100.py:226', '100.py:227', 'msg', 'Tuple', '[object Object]'],\n ['100.py:226', '100.py:227', 'msg', 'Tuple', '[object Object]'],\n ['100.py:226', '100.py:227', 'msg', 'Attribute', '[object Object]'],\n ['100.py:226', '100.py:227', 'msg', 'Attribute', '[object Object]'],\n ['100.py:226', '100.py:227', 'hr', 'Tuple', '[object Object]'],\n ['100.py:226', '100.py:227', 'hr', 'Tuple', '[object Object]'],\n ['100.py:226', '100.py:227', 'hr', 'Attribute', '[object Object]'],\n ['100.py:226', '100.py:227', 'hr', 'Attribute', '[object Object]'],\n ['100.py:226', '100.py:227', 'exc', 'Tuple', '[object Object]'],\n ['100.py:226', '100.py:227', 'exc', 'Tuple', '[object Object]'],\n ['100.py:226', '100.py:227', 'exc', 'Attribute', '[object Object]'],\n ['100.py:226', '100.py:227', 'exc', 'Attribute', '[object Object]'],\n ['100.py:226', '100.py:227', 'arg', 'Tuple', '[object Object]'],\n ['100.py:226', '100.py:227', 'arg', 'Tuple', '[object Object]'],\n ['100.py:226', '100.py:227', 'arg', 'Attribute', '[object Object]'],\n ['100.py:226', '100.py:227', 'arg', 'Attribute', '[object Object]'],\n ['28.py:16', '28.py:26', 'considered_actions', 'Tuple', '[object Object]'],\n ['28.py:16', '28.py:26', 'considered_actions', 'Tuple', '[object Object]'],\n ['28.py:16', '28.py:26', 'considered_actions', 'zip()', '[object Object]'],\n ['28.py:16', '28.py:26', 'considered_actions', 'zip()', '[object Object]'],\n ['28.py:16', '28.py:26', 'probabilities', 'Tuple', '[object Object]'],\n ['28.py:16', '28.py:26', 'probabilities', 'Tuple', '[object Object]'],\n ['28.py:16', '28.py:26', 'probabilities', 'zip()', '[object Object]'],\n ['28.py:16', '28.py:26', 'probabilities', 'zip()', '[object Object]'],\n ['30.py:19', '30.py:24', 'p1', 'Tuple', '[object Object]'],\n ['30.py:19', '30.py:24', 'p1', 'Tuple', '[object Object]'],\n ['30.py:19', '30.py:24', 'p1', 'Attribute()', '[object Object]'],\n ['30.py:19', '30.py:24', 'p1', 'Attribute()', '[object Object]'],\n ['30.py:19', '30.py:24', 'p2', 'Tuple', '[object Object]'],\n ['30.py:19', '30.py:24', 'p2', 'Tuple', '[object Object]'],\n ['30.py:19', '30.py:24', 'p2', 'Attribute()', '[object Object]'],\n ['30.py:19', '30.py:24', 'p2', 'Attribute()', '[object Object]'],\n ['40.py:5', '40.py:6', 'num_q', 'Tuple', '[object Object]'],\n ['40.py:5', '40.py:6', 'num_q', 'Tuple', '[object Object]'],\n ['40.py:5', '40.py:6', 'num_q', 'Attribute()', '[object Object]'],\n ['40.py:5', '40.py:6', 'num_q', 'Attribute()', '[object Object]'],\n ['40.py:5', '40.py:6', 'ok_list', 'Tuple', '[object Object]'],\n ['40.py:5', '40.py:6', 'ok_list', 'Tuple', '[object Object]'],\n ['40.py:5', '40.py:6', 'ok_list', 'Attribute()', '[object Object]'],\n ['40.py:5', '40.py:6', 'ok_list', 'Attribute()', '[object Object]'],\n ['40.py:5', '40.py:6', 'err_list', 'Tuple', '[object Object]'],\n ['40.py:5', '40.py:6', 'err_list', 'Tuple', '[object Object]'],\n ['40.py:5', '40.py:6', 'err_list', 'Attribute()', '[object Object]'],\n ['40.py:5', '40.py:6', 'err_list', 'Attribute()', '[object Object]'],\n ['45.py:387', '45.py:389', 'second', 'Tuple', '[object Object]'],\n ['45.py:387', '45.py:389', 'second', 'Tuple', '[object Object]'],\n ['45.py:387', '45.py:389', 'first', 'Tuple', '[object Object]'],\n ['45.py:387', '45.py:389', 'first', 'Tuple', '[object Object]'],\n ['45.py:403', '45.py:405', 'first_row', 'Tuple', '[object Object]'],\n ['45.py:403', '45.py:405', 'first_row', 'Tuple', '[object Object]'],\n ['45.py:403', '45.py:405', 'second_row', 'Tuple', '[object Object]'],\n ['45.py:403', '45.py:405', 'second_row', 'Tuple', '[object Object]'],\n ['45.py:421', '45.py:423', 'second', 'Tuple', '[object Object]'],\n ['45.py:421', '45.py:423', 'second', 'Tuple', '[object Object]'],\n ['45.py:421', '45.py:423', 'first', 'Tuple', '[object Object]'],\n ['45.py:421', '45.py:423', 'first', 'Tuple', '[object Object]'],\n ['99.py:8', '99.py:14', '_', 'Tuple', '[object Object]'],\n ['99.py:8', '99.py:14', '_', 'Tuple', '[object Object]'],\n ['99.py:8', '99.py:14', '_', 'Attribute()', '[object Object]'],\n ['99.py:8', '99.py:14', '_', 'Attribute()', '[object Object]'],\n ['99.py:8', '99.py:14', 'dones', 'Tuple', '[object Object]'],\n ['99.py:8', '99.py:14', 'dones', 'Tuple', '[object Object]'],\n ['99.py:8', '99.py:14', 'dones', 'Attribute()', '[object Object]'],\n ['99.py:8', '99.py:14', 'dones', 'Attribute()', '[object Object]'],\n ['']]"
     },
     "execution_count": 169,
     "metadata": {},
     "output_type": "execute_result"
    }
   ],
   "source": [
    "with open(\"X:/UIUC/CS 598/ml4se/results/python/tuple-assignstmt.csv\") as fp:\n",
    "    lines = fp.read().split('\\n')\n",
    "    dataflow = []\n",
    "    for line in lines:\n",
    "        dataflow.append([path.replace(PY_LOC, \"\").replace('\"', '') for path in line.split(\",\")])\n",
    "dataflow"
   ],
   "metadata": {
    "collapsed": false
   }
  },
  {
   "cell_type": "markdown",
   "source": [],
   "metadata": {
    "collapsed": false
   }
  },
  {
   "cell_type": "code",
   "execution_count": 33,
   "outputs": [
    {
     "data": {
      "text/plain": "defaultdict(dict,\n            {'\"10.py': {'5\"': {'type': 'AssignStmt'},\n              '8\"': {'type': 'AssignStmt'},\n              '13\"': {'type': 'AssignStmt'},\n              '15\"': {'type': 'AssignStmt'},\n              '22\"': {'type': 'AssignStmt'},\n              '27\"': {'type': 'AssignStmt'},\n              '35\"': {'type': 'AssignStmt'},\n              '37\"': {'type': 'AssignStmt'},\n              '39\"': {'type': 'AssignStmt'},\n              '20\"': {'type': 'AugAssign'},\n              '32\"': {'type': 'AugAssign'},\n              '33\"': {'type': 'AugAssign'}},\n             '\"100.py': {'101\"': {'type': 'AssignStmt'},\n              '107\"': {'type': 'AssignStmt'},\n              '110\"': {'type': 'AssignStmt'},\n              '114\"': {'type': 'AssignStmt'},\n              '115\"': {'type': 'AssignStmt'},\n              '117\"': {'type': 'AssignStmt'},\n              '119\"': {'type': 'AssignStmt'},\n              '120\"': {'type': 'AssignStmt'},\n              '123\"': {'type': 'AssignStmt'},\n              '124\"': {'type': 'AssignStmt'},\n              '126\"': {'type': 'AssignStmt'},\n              '128\"': {'type': 'AssignStmt'},\n              '129\"': {'type': 'AssignStmt'},\n              '132\"': {'type': 'AssignStmt'},\n              '133\"': {'type': 'AssignStmt'},\n              '135\"': {'type': 'AssignStmt'},\n              '137\"': {'type': 'AssignStmt'},\n              '138\"': {'type': 'AssignStmt'},\n              '141\"': {'type': 'AssignStmt'},\n              '142\"': {'type': 'AssignStmt'},\n              '144\"': {'type': 'AssignStmt'},\n              '146\"': {'type': 'AssignStmt'},\n              '147\"': {'type': 'AssignStmt'},\n              '151\"': {'type': 'AssignStmt'},\n              '160\"': {'type': 'AssignStmt'},\n              '163\"': {'type': 'AssignStmt'},\n              '166\"': {'type': 'AssignStmt'},\n              '167\"': {'type': 'AssignStmt'},\n              '169\"': {'type': 'AssignStmt'},\n              '171\"': {'type': 'AssignStmt'},\n              '172\"': {'type': 'AssignStmt'},\n              '178\"': {'type': 'AssignStmt'},\n              '180\"': {'type': 'AssignStmt'},\n              '183\"': {'type': 'AssignStmt'},\n              '185\"': {'type': 'AssignStmt'},\n              '188\"': {'type': 'AssignStmt'},\n              '190\"': {'type': 'AssignStmt'},\n              '191\"': {'type': 'AssignStmt'},\n              '193\"': {'type': 'AssignStmt'},\n              '195\"': {'type': 'AssignStmt'},\n              '196\"': {'type': 'AssignStmt'},\n              '202\"': {'type': 'AssignStmt'},\n              '205\"': {'type': 'AssignStmt'},\n              '211\"': {'type': 'AssignStmt'},\n              '213\"': {'type': 'AssignStmt'},\n              '215\"': {'type': 'AssignStmt'},\n              '216\"': {'type': 'AssignStmt'},\n              '225\"': {'type': 'AssignStmt'},\n              '227\"': {'type': 'AssignStmt'},\n              '232\"': {'type': 'AssignStmt'},\n              '233\"': {'type': 'AssignStmt'},\n              '235\"': {'type': 'AssignStmt'},\n              '237\"': {'type': 'AssignStmt'}},\n             '\"11.py': {'12\"': {'type': 'AssignStmt'},\n              '16\"': {'type': 'AssignStmt'},\n              '17\"': {'type': 'AssignStmt'},\n              '20\"': {'type': 'AssignStmt'},\n              '27\"': {'type': 'AssignStmt'},\n              '29\"': {'type': 'AssignStmt'},\n              '30\"': {'type': 'AssignStmt'},\n              '33\"': {'type': 'AssignStmt'},\n              '35\"': {'type': 'AssignStmt'}},\n             '\"12.py': {'4\"': {'type': 'AssignStmt'}},\n             '\"14.py': {'17\"': {'type': 'AssignStmt'},\n              '18\"': {'type': 'AssignStmt'}},\n             '\"15.py': {'32\"': {'type': 'AssignStmt'},\n              '34\"': {'type': 'AssignStmt'},\n              '39\"': {'type': 'AssignStmt'}},\n             '\"17.py': {'17\"': {'type': 'AssignStmt'},\n              '18\"': {'type': 'AssignStmt'},\n              '19\"': {'type': 'AssignStmt'},\n              '20\"': {'type': 'AssignStmt'},\n              '22\"': {'type': 'AssignStmt'},\n              '31\"': {'type': 'AssignStmt'},\n              '32\"': {'type': 'AssignStmt'},\n              '34\"': {'type': 'AssignStmt'}},\n             '\"18.py': {'4\"': {'type': 'AssignStmt'},\n              '5\"': {'type': 'AssignStmt'},\n              '6\"': {'type': 'AssignStmt'},\n              '7\"': {'type': 'AssignStmt'},\n              '9\"': {'type': 'AssignStmt'},\n              '12\"': {'type': 'AssignStmt'},\n              '13\"': {'type': 'AssignStmt'},\n              '15\"': {'type': 'AssignStmt'},\n              '17\"': {'type': 'AssignStmt'},\n              '19\"': {'type': 'AssignStmt'},\n              '22\"': {'type': 'AssignStmt'},\n              '31\"': {'type': 'AssignStmt'},\n              '36\"': {'type': 'AssignStmt'},\n              '44\"': {'type': 'AssignStmt'},\n              '48\"': {'type': 'AssignStmt'},\n              '56\"': {'type': 'AssignStmt'}},\n             '\"19.py': {'33\"': {'type': 'AssignStmt'},\n              '37\"': {'type': 'AssignStmt'},\n              '43\"': {'type': 'AssignStmt'},\n              '45\"': {'type': 'AssignStmt'}},\n             '\"2.py': {'7\"': {'type': 'AssignStmt'}},\n             '\"20.py': {'12\"': {'type': 'AssignStmt'}},\n             '\"21.py': {'6\"': {'type': 'AssignStmt'}},\n             '\"22.py': {'21\"': {'type': 'AssignStmt'}},\n             '\"23.py': {'24\"': {'type': 'AssignStmt'},\n              '28\"': {'type': 'AssignStmt'},\n              '29\"': {'type': 'AssignStmt'},\n              '30\"': {'type': 'AssignStmt'},\n              '32\"': {'type': 'AssignStmt'},\n              '33\"': {'type': 'AssignStmt'},\n              '34\"': {'type': 'AssignStmt'},\n              '39\"': {'type': 'AssignStmt'},\n              '40\"': {'type': 'AssignStmt'}},\n             '\"24.py': {'6\"': {'type': 'AssignStmt'},\n              '7\"': {'type': 'AssignStmt'},\n              '13\"': {'type': 'AssignStmt'},\n              '14\"': {'type': 'AssignStmt'},\n              '15\"': {'type': 'AssignStmt'},\n              '20\"': {'type': 'AssignStmt'}},\n             '\"27.py': {'11\"': {'type': 'AssignStmt'},\n              '14\"': {'type': 'AssignStmt'},\n              '17\"': {'type': 'AssignStmt'}},\n             '\"28.py': {'10\"': {'type': 'AssignStmt'},\n              '11\"': {'type': 'AssignStmt'},\n              '12\"': {'type': 'AssignStmt'},\n              '13\"': {'type': 'AssignStmt'},\n              '15\"': {'type': 'AssignStmt'},\n              '17\"': {'type': 'AssignStmt'},\n              '18\"': {'type': 'AssignStmt'},\n              '19\"': {'type': 'AssignStmt'},\n              '20\"': {'type': 'AssignStmt'},\n              '21\"': {'type': 'AssignStmt'},\n              '26\"': {'type': 'AssignStmt'},\n              '27\"': {'type': 'AssignStmt'},\n              '28\"': {'type': 'AssignStmt'},\n              '29\"': {'type': 'AssignStmt'},\n              '32\"': {'type': 'AssignStmt'}},\n             '\"29.py': {'3\"': {'type': 'AssignStmt'},\n              '4\"': {'type': 'AssignStmt'},\n              '5\"': {'type': 'AssignStmt'},\n              '7\"': {'type': 'AssignStmt'}},\n             '\"3.py': {'18\"': {'type': 'AssignStmt'},\n              '27\"': {'type': 'AssignStmt'},\n              '30\"': {'type': 'AssignStmt'},\n              '31\"': {'type': 'AssignStmt'},\n              '32\"': {'type': 'AssignStmt'},\n              '33\"': {'type': 'AssignStmt'},\n              '34\"': {'type': 'AssignStmt'},\n              '35\"': {'type': 'AssignStmt'},\n              '40\"': {'type': 'AssignStmt'}},\n             '\"30.py': {'23\"': {'type': 'AssignStmt'},\n              '24\"': {'type': 'AssignStmt'}},\n             '\"31.py': {'24\"': {'type': 'AssignStmt'},\n              '25\"': {'type': 'AssignStmt'},\n              '27\"': {'type': 'AssignStmt'},\n              '29\"': {'type': 'AssignStmt'},\n              '30\"': {'type': 'AssignStmt'}},\n             '\"32.py': {'7\"': {'type': 'AssignStmt'},\n              '8\"': {'type': 'AssignStmt'}},\n             '\"33.py': {'51\"': {'type': 'AssignStmt'},\n              '53\"': {'type': 'AssignStmt'},\n              '56\"': {'type': 'AssignStmt'}},\n             '\"35.py': {'11\"': {'type': 'AssignStmt'},\n              '25\"': {'type': 'AssignStmt'},\n              '26\"': {'type': 'AssignStmt'},\n              '29\"': {'type': 'AssignStmt'},\n              '30\"': {'type': 'AssignStmt'},\n              '31\"': {'type': 'AssignStmt'},\n              '39\"': {'type': 'AssignStmt'},\n              '40\"': {'type': 'AssignStmt'},\n              '42\"': {'type': 'AssignStmt'},\n              '45\"': {'type': 'AssignStmt'},\n              '48\"': {'type': 'AssignStmt'},\n              '49\"': {'type': 'AssignStmt'},\n              '50\"': {'type': 'AssignStmt'},\n              '53\"': {'type': 'AssignStmt'},\n              '55\"': {'type': 'AssignStmt'},\n              '63\"': {'type': 'AssignStmt'},\n              '64\"': {'type': 'AssignStmt'},\n              '67\"': {'type': 'AssignStmt'},\n              '69\"': {'type': 'AssignStmt'},\n              '73\"': {'type': 'AssignStmt'},\n              '79\"': {'type': 'AssignStmt'}},\n             '\"36.py': {'52\"': {'type': 'AssignStmt'},\n              '57\"': {'type': 'AssignStmt'},\n              '59\"': {'type': 'AssignStmt'},\n              '63\"': {'type': 'AssignStmt'},\n              '70\"': {'type': 'AssignStmt'},\n              '71\"': {'type': 'AssignStmt'},\n              '75\"': {'type': 'AssignStmt'},\n              '77\"': {'type': 'AssignStmt'},\n              '79\"': {'type': 'AssignStmt'},\n              '101\"': {'type': 'AssignStmt'},\n              '108\"': {'type': 'AssignStmt'},\n              '111\"': {'type': 'AssignStmt'},\n              '113\"': {'type': 'AssignStmt'},\n              '115\"': {'type': 'AssignStmt'},\n              '65\"': {'type': 'AugAssign'},\n              '67\"': {'type': 'AugAssign'},\n              '69\"': {'type': 'AugAssign'}},\n             '\"37.py': {'11\"': {'type': 'AssignStmt'},\n              '16\"': {'type': 'AssignStmt'},\n              '17\"': {'type': 'AssignStmt'}},\n             '\"38.py': {'29\"': {'type': 'AssignStmt'},\n              '32\"': {'type': 'AssignStmt'}},\n             '\"39.py': {'18\"': {'type': 'AssignStmt'},\n              '22\"': {'type': 'AssignStmt'}},\n             '\"4.py': {'7\"': {'type': 'AssignStmt'},\n              '10\"': {'type': 'AssignStmt'}},\n             '\"40.py': {'6\"': {'type': 'AssignStmt'}},\n             '\"41.py': {'3\"': {'type': 'AssignStmt'},\n              '11\"': {'type': 'AssignStmt'}},\n             '\"42.py': {'27\"': {'type': 'AssignStmt'},\n              '28\"': {'type': 'AssignStmt'},\n              '29\"': {'type': 'AssignStmt'},\n              '42\"': {'type': 'AssignStmt'},\n              '43\"': {'type': 'AssignStmt'},\n              '44\"': {'type': 'AssignStmt'}},\n             '\"43.py': {'13\"': {'type': 'AssignStmt'},\n              '14\"': {'type': 'AssignStmt'},\n              '15\"': {'type': 'AssignStmt'},\n              '24\"': {'type': 'AugAssign'},\n              '25\"': {'type': 'AugAssign'}},\n             '\"44.py': {'13\"': {'type': 'AssignStmt'},\n              '17\"': {'type': 'AssignStmt'},\n              '25\"': {'type': 'AssignStmt'},\n              '35\"': {'type': 'AssignStmt'},\n              '37\"': {'type': 'AssignStmt'}},\n             '\"45.py': {'9\"': {'type': 'AssignStmt'},\n              '33\"': {'type': 'AssignStmt'},\n              '35\"': {'type': 'AssignStmt'},\n              '37\"': {'type': 'AssignStmt'},\n              '45\"': {'type': 'AssignStmt'},\n              '51\"': {'type': 'AssignStmt'},\n              '53\"': {'type': 'AssignStmt'},\n              '55\"': {'type': 'AssignStmt'},\n              '57\"': {'type': 'AssignStmt'},\n              '59\"': {'type': 'AssignStmt'},\n              '61\"': {'type': 'AssignStmt'},\n              '63\"': {'type': 'AssignStmt'},\n              '65\"': {'type': 'AssignStmt'},\n              '67\"': {'type': 'AssignStmt'},\n              '69\"': {'type': 'AssignStmt'},\n              '71\"': {'type': 'AssignStmt'},\n              '73\"': {'type': 'AssignStmt'},\n              '75\"': {'type': 'AssignStmt'},\n              '81\"': {'type': 'AssignStmt'},\n              '85\"': {'type': 'AssignStmt'},\n              '103\"': {'type': 'AssignStmt'},\n              '155\"': {'type': 'AssignStmt'},\n              '195\"': {'type': 'AssignStmt'},\n              '241\"': {'type': 'AssignStmt'},\n              '271\"': {'type': 'AssignStmt'},\n              '307\"': {'type': 'AssignStmt'},\n              '323\"': {'type': 'AssignStmt'},\n              '329\"': {'type': 'AssignStmt'},\n              '331\"': {'type': 'AssignStmt'},\n              '335\"': {'type': 'AssignStmt'},\n              '339\"': {'type': 'AssignStmt'},\n              '353\"': {'type': 'AssignStmt'},\n              '389\"': {'type': 'AssignStmt'},\n              '405\"': {'type': 'AssignStmt'},\n              '423\"': {'type': 'AssignStmt'},\n              '439\"': {'type': 'AssignStmt'},\n              '443\"': {'type': 'AssignStmt'},\n              '451\"': {'type': 'AssignStmt'},\n              '457\"': {'type': 'AssignStmt'},\n              '465\"': {'type': 'AssignStmt'},\n              '477\"': {'type': 'AssignStmt'},\n              '489\"': {'type': 'AssignStmt'}},\n             '\"46.py': {'6\"': {'type': 'AssignStmt'},\n              '10\"': {'type': 'AssignStmt'},\n              '15\"': {'type': 'AssignStmt'}},\n             '\"47.py': {'25\"': {'type': 'AssignStmt'},\n              '26\"': {'type': 'AssignStmt'},\n              '28\"': {'type': 'AssignStmt'},\n              '29\"': {'type': 'AssignStmt'},\n              '31\"': {'type': 'AssignStmt'},\n              '36\"': {'type': 'AssignStmt'},\n              '40\"': {'type': 'AssignStmt'},\n              '48\"': {'type': 'AssignStmt'},\n              '54\"': {'type': 'AssignStmt'},\n              '55\"': {'type': 'AssignStmt'},\n              '56\"': {'type': 'AssignStmt'}},\n             '\"48.py': {'31\"': {'type': 'AssignStmt'},\n              '32\"': {'type': 'AssignStmt'},\n              '34\"': {'type': 'AssignStmt'},\n              '40\"': {'type': 'AssignStmt'},\n              '45\"': {'type': 'AssignStmt'},\n              '47\"': {'type': 'AssignStmt'},\n              '51\"': {'type': 'AssignStmt'},\n              '53\"': {'type': 'AssignStmt'}},\n             '\"49.py': {'8\"': {'type': 'AssignStmt'}},\n             '\"5.py': {'33\"': {'type': 'AssignStmt'},\n              '34\"': {'type': 'AssignStmt'},\n              '35\"': {'type': 'AssignStmt'},\n              '49\"': {'type': 'AssignStmt'},\n              '51\"': {'type': 'AssignStmt'},\n              '57\"': {'type': 'AssignStmt'},\n              '66\"': {'type': 'AssignStmt'}},\n             '\"50.py': {'10\"': {'type': 'AssignStmt'},\n              '12\"': {'type': 'AssignStmt'},\n              '13\"': {'type': 'AssignStmt'}},\n             '\"52.py': {'17\"': {'type': 'AssignStmt'},\n              '20\"': {'type': 'AssignStmt'},\n              '24\"': {'type': 'AssignStmt'},\n              '29\"': {'type': 'AssignStmt'},\n              '35\"': {'type': 'AssignStmt'}},\n             '\"53.py': {'3\"': {'type': 'AssignStmt'},\n              '4\"': {'type': 'AssignStmt'},\n              '5\"': {'type': 'AssignStmt'},\n              '6\"': {'type': 'AssignStmt'},\n              '7\"': {'type': 'AssignStmt'},\n              '8\"': {'type': 'AssignStmt'},\n              '9\"': {'type': 'AssignStmt'},\n              '10\"': {'type': 'AssignStmt'},\n              '11\"': {'type': 'AssignStmt'},\n              '12\"': {'type': 'AssignStmt'}},\n             '\"54.py': {'17\"': {'type': 'AssignStmt'},\n              '20\"': {'type': 'AssignStmt'},\n              '33\"': {'type': 'AssignStmt'},\n              '39\"': {'type': 'AssignStmt'}},\n             '\"55.py': {'8\"': {'type': 'AssignStmt'},\n              '10\"': {'type': 'AssignStmt'},\n              '19\"': {'type': 'AssignStmt'}},\n             '\"56.py': {'4\"': {'type': 'AssignStmt'},\n              '5\"': {'type': 'AssignStmt'},\n              '9\"': {'type': 'AssignStmt'},\n              '15\"': {'type': 'AssignStmt'}},\n             '\"57.py': {'5\"': {'type': 'AssignStmt'},\n              '6\"': {'type': 'AssignStmt'},\n              '9\"': {'type': 'AssignStmt'},\n              '16\"': {'type': 'AssignStmt'},\n              '22\"': {'type': 'AssignStmt'},\n              '24\"': {'type': 'AssignStmt'},\n              '25\"': {'type': 'AssignStmt'},\n              '27\"': {'type': 'AssignStmt'},\n              '30\"': {'type': 'AssignStmt'},\n              '31\"': {'type': 'AssignStmt'},\n              '32\"': {'type': 'AssignStmt'},\n              '37\"': {'type': 'AssignStmt'},\n              '39\"': {'type': 'AssignStmt'},\n              '42\"': {'type': 'AssignStmt'},\n              '44\"': {'type': 'AssignStmt'},\n              '50\"': {'type': 'AssignStmt'},\n              '51\"': {'type': 'AssignStmt'},\n              '53\"': {'type': 'AssignStmt'},\n              '55\"': {'type': 'AssignStmt'},\n              '60\"': {'type': 'AssignStmt'},\n              '62\"': {'type': 'AssignStmt'},\n              '63\"': {'type': 'AssignStmt'},\n              '65\"': {'type': 'AssignStmt'},\n              '66\"': {'type': 'AssignStmt'}},\n             '\"58.py': {'8\"': {'type': 'AssignStmt'},\n              '9\"': {'type': 'AssignStmt'}},\n             '\"59.py': {'4\"': {'type': 'AssignStmt'}},\n             '\"6.py': {'6\"': {'type': 'AssignStmt'},\n              '7\"': {'type': 'AssignStmt'},\n              '9\"': {'type': 'AssignStmt'}},\n             '\"60.py': {'5\"': {'type': 'AssignStmt'}},\n             '\"61.py': {'6\"': {'type': 'AssignStmt'}},\n             '\"62.py': {'10\"': {'type': 'AssignStmt'},\n              '11\"': {'type': 'AssignStmt'},\n              '12\"': {'type': 'AssignStmt'},\n              '13\"': {'type': 'AssignStmt'}},\n             '\"64.py': {'3\"': {'type': 'AssignStmt'},\n              '4\"': {'type': 'AssignStmt'},\n              '8\"': {'type': 'AssignStmt'}},\n             '\"66.py': {'8\"': {'type': 'AssignStmt'}},\n             '\"68.py': {'6\"': {'type': 'AssignStmt'},\n              '17\"': {'type': 'AssignStmt'},\n              '19\"': {'type': 'AssignStmt'},\n              '21\"': {'type': 'AssignStmt'},\n              '36\"': {'type': 'AssignStmt'}},\n             '\"69.py': {'29\"': {'type': 'AssignStmt'},\n              '31\"': {'type': 'AssignStmt'},\n              '33\"': {'type': 'AssignStmt'}},\n             '\"7.py': {'19\"': {'type': 'AssignStmt'},\n              '23\"': {'type': 'AssignStmt'}},\n             '\"70.py': {'18\"': {'type': 'AssignStmt'},\n              '21\"': {'type': 'AssignStmt'},\n              '24\"': {'type': 'AssignStmt'},\n              '27\"': {'type': 'AssignStmt'},\n              '29\"': {'type': 'AssignStmt'},\n              '30\"': {'type': 'AssignStmt'},\n              '32\"': {'type': 'AssignStmt'}},\n             '\"71.py': {'4\"': {'type': 'AssignStmt'},\n              '8\"': {'type': 'AssignStmt'},\n              '10\"': {'type': 'AssignStmt'},\n              '13\"': {'type': 'AssignStmt'},\n              '18\"': {'type': 'AssignStmt'},\n              '20\"': {'type': 'AssignStmt'},\n              '26\"': {'type': 'AssignStmt'}},\n             '\"73.py': {'18\"': {'type': 'AssignStmt'},\n              '20\"': {'type': 'AssignStmt'}},\n             '\"74.py': {'17\"': {'type': 'AssignStmt'},\n              '20\"': {'type': 'AssignStmt'},\n              '33\"': {'type': 'AssignStmt'},\n              '39\"': {'type': 'AssignStmt'}},\n             '\"75.py': {'3\"': {'type': 'AssignStmt'}},\n             '\"76.py': {'6\"': {'type': 'AssignStmt'},\n              '8\"': {'type': 'AssignStmt'}},\n             '\"77.py': {'13\"': {'type': 'AssignStmt'},\n              '15\"': {'type': 'AssignStmt'},\n              '16\"': {'type': 'AssignStmt'},\n              '17\"': {'type': 'AssignStmt'},\n              '19\"': {'type': 'AssignStmt'},\n              '20\"': {'type': 'AssignStmt'},\n              '21\"': {'type': 'AssignStmt'}},\n             '\"78.py': {'3\"': {'type': 'AssignStmt'},\n              '4\"': {'type': 'AssignStmt'}},\n             '\"79.py': {'21\"': {'type': 'AssignStmt'},\n              '23\"': {'type': 'AssignStmt'},\n              '25\"': {'type': 'AssignStmt'},\n              '29\"': {'type': 'AssignStmt'},\n              '33\"': {'type': 'AssignStmt'},\n              '34\"': {'type': 'AssignStmt'},\n              '36\"': {'type': 'AssignStmt'}},\n             '\"8.py': {'9\"': {'type': 'AssignStmt'},\n              '13\"': {'type': 'AugAssign'},\n              '15\"': {'type': 'AugAssign'}},\n             '\"80.py': {'9\"': {'type': 'AssignStmt'}},\n             '\"81.py': {'11\"': {'type': 'AssignStmt'},\n              '12\"': {'type': 'AssignStmt'}},\n             '\"82.py': {'30\"': {'type': 'AssignStmt'},\n              '43\"': {'type': 'AssignStmt'},\n              '44\"': {'type': 'AssignStmt'},\n              '45\"': {'type': 'AssignStmt'},\n              '47\"': {'type': 'AssignStmt'},\n              '48\"': {'type': 'AssignStmt'},\n              '50\"': {'type': 'AssignStmt'},\n              '60\"': {'type': 'AssignStmt'},\n              '64\"': {'type': 'AssignStmt'},\n              '79\"': {'type': 'AssignStmt'},\n              '84\"': {'type': 'AssignStmt'},\n              '89\"': {'type': 'AssignStmt'},\n              '94\"': {'type': 'AssignStmt'},\n              '95\"': {'type': 'AssignStmt'},\n              '98\"': {'type': 'AssignStmt'},\n              '99\"': {'type': 'AssignStmt'},\n              '100\"': {'type': 'AssignStmt'},\n              '104\"': {'type': 'AssignStmt'},\n              '105\"': {'type': 'AssignStmt'}},\n             '\"83.py': {'22\"': {'type': 'AssignStmt'},\n              '23\"': {'type': 'AssignStmt'},\n              '24\"': {'type': 'AssignStmt'},\n              '29\"': {'type': 'AssignStmt'},\n              '32\"': {'type': 'AssignStmt'},\n              '34\"': {'type': 'AssignStmt'},\n              '35\"': {'type': 'AssignStmt'},\n              '38\"': {'type': 'AssignStmt'},\n              '40\"': {'type': 'AssignStmt'},\n              '41\"': {'type': 'AssignStmt'},\n              '48\"': {'type': 'AssignStmt'},\n              '50\"': {'type': 'AssignStmt'}},\n             '\"84.py': {'3\"': {'type': 'AssignStmt'},\n              '5\"': {'type': 'AssignStmt'},\n              '6\"': {'type': 'AssignStmt'}},\n             '\"85.py': {'7\"': {'type': 'AssignStmt'},\n              '8\"': {'type': 'AssignStmt'},\n              '10\"': {'type': 'AssignStmt'},\n              '12\"': {'type': 'AssignStmt'},\n              '14\"': {'type': 'AssignStmt'}},\n             '\"86.py': {'15\"': {'type': 'AssignStmt'},\n              '16\"': {'type': 'AssignStmt'},\n              '17\"': {'type': 'AssignStmt'},\n              '18\"': {'type': 'AssignStmt'}},\n             '\"87.py': {'5\"': {'type': 'AssignStmt'},\n              '6\"': {'type': 'AssignStmt'},\n              '7\"': {'type': 'AssignStmt'},\n              '8\"': {'type': 'AssignStmt'},\n              '9\"': {'type': 'AssignStmt'},\n              '10\"': {'type': 'AssignStmt'}},\n             '\"88.py': {'7\"': {'type': 'AssignStmt'}},\n             '\"89.py': {'35\"': {'type': 'AssignStmt'},\n              '37\"': {'type': 'AssignStmt'}},\n             '\"90.py': {'18\"': {'type': 'AssignStmt'},\n              '20\"': {'type': 'AssignStmt'},\n              '22\"': {'type': 'AssignStmt'}},\n             '\"91.py': {'22\"': {'type': 'AssignStmt'},\n              '26\"': {'type': 'AssignStmt'}},\n             '\"92.py': {'14\"': {'type': 'AssignStmt'},\n              '16\"': {'type': 'AssignStmt'}},\n             '\"93.py': {'16\"': {'type': 'AssignStmt'},\n              '20\"': {'type': 'AssignStmt'}},\n             '\"94.py': {'30\"': {'type': 'AssignStmt'},\n              '34\"': {'type': 'AssignStmt'},\n              '35\"': {'type': 'AssignStmt'},\n              '38\"': {'type': 'AssignStmt'},\n              '41\"': {'type': 'AssignStmt'}},\n             '\"95.py': {'22\"': {'type': 'AssignStmt'},\n              '23\"': {'type': 'AssignStmt'}},\n             '\"96.py': {'50\"': {'type': 'AssignStmt'},\n              '54\"': {'type': 'AssignStmt'},\n              '56\"': {'type': 'AssignStmt'},\n              '60\"': {'type': 'AssignStmt'},\n              '63\"': {'type': 'AssignStmt'},\n              '75\"': {'type': 'AssignStmt'},\n              '76\"': {'type': 'AssignStmt'},\n              '77\"': {'type': 'AssignStmt'},\n              '89\"': {'type': 'AssignStmt'},\n              '92\"': {'type': 'AssignStmt'},\n              '94\"': {'type': 'AssignStmt'}},\n             '\"97.py': {'15\"': {'type': 'AssignStmt'},\n              '19\"': {'type': 'AssignStmt'},\n              '23\"': {'type': 'AssignStmt'},\n              '26\"': {'type': 'AssignStmt'},\n              '28\"': {'type': 'AssignStmt'},\n              '30\"': {'type': 'AssignStmt'},\n              '34\"': {'type': 'AssignStmt'},\n              '36\"': {'type': 'AssignStmt'},\n              '38\"': {'type': 'AssignStmt'},\n              '42\"': {'type': 'AssignStmt'},\n              '45\"': {'type': 'AssignStmt'},\n              '52\"': {'type': 'AssignStmt'},\n              '56\"': {'type': 'AssignStmt'},\n              '61\"': {'type': 'AssignStmt'}},\n             '\"98.py': {'8\"': {'type': 'AssignStmt'}},\n             '\"99.py': {'10\"': {'type': 'AssignStmt'},\n              '14\"': {'type': 'AssignStmt'}}})"
     },
     "execution_count": 33,
     "metadata": {},
     "output_type": "execute_result"
    }
   ],
   "source": [
    "all_stmt = defaultdict(dict)\n",
    "\n",
    "for stmt in assign_stmt:\n",
    "    all_stmt[stmt[0]][stmt[1]] = {\"type\": ASSIGN_STMT}\n",
    "\n",
    "for stmt in augassign:\n",
    "    all_stmt[stmt[0]][stmt[1]] = {\"type\": AUG_ASSIGN}\n",
    "\n",
    "all_stmt"
   ],
   "metadata": {
    "collapsed": false
   }
  },
  {
   "cell_type": "code",
   "execution_count": 170,
   "outputs": [],
   "source": [
    "def read_code(file):\n",
    "    with open(PY_LOC + file, 'r') as reader:\n",
    "        return reader.read().split(\"\\n\")"
   ],
   "metadata": {
    "collapsed": false
   }
  },
  {
   "cell_type": "code",
   "execution_count": 195,
   "outputs": [
    {
     "name": "stdout",
     "output_type": "stream",
     "text": [
      "echo 'digraph {start->a;a->while1;while1->b;block1->if1;b->block1;block1->while1;if1->end;if1->block2;block2->end;a[shape=box, label=\"wait_timeout = time.time() + wait_timeout\"];b[shape=box, label=\"operation_result = conn.get_request()\"];while1[shape=box, label=\"while: wait_timeout > time.time() \"];if1[shape=box, label=\"if: operation_result[metadata][status] == DONE\"]}' | dot -Tsvg > 4.svg\n"
     ]
    }
   ],
   "source": [
    "i = 4\n",
    "code = read_code(str(i) + \".py\")\n",
    "START = \"start\"\n",
    "EDGE = \"->\"\n",
    "ans = [\n",
    "    'start->a',\n",
    "    'a->while1',\n",
    "    'while1->b',\n",
    "    'block1->if1',\n",
    "    'b->block1',\n",
    "    'block1->while1',\n",
    "    'if1->end',\n",
    "    'if1->block2',\n",
    "    'block2->end',\n",
    "    'a[shape=box, label=\"wait_timeout = time.time() + wait_timeout\"]',\n",
    "    'b[shape=box, label=\"operation_result = conn.get_request()\"]',\n",
    "    'while1[shape=box, label=\"while: wait_timeout > time.time() \"]',\n",
    "    'if1[shape=box, label=\"if: operation_result[metadata][status] == DONE\"]'\n",
    "]\n",
    "string = \";\".join(ans)\n",
    "\n",
    "graphviz = \"echo 'digraph {\" + string + \"}' | dot -Tsvg > \" + str(i) + \".svg\"\n",
    "print(graphviz)"
   ],
   "metadata": {
    "collapsed": false
   }
  },
  {
   "cell_type": "code",
   "execution_count": 202,
   "outputs": [
    {
     "name": "stdout",
     "output_type": "stream",
     "text": [
      "echo 'digraph {if1 -> a;a -> if2;if2 -> block2;if2 -> block3;block2 -> end;block3 -> end;if1 -> b;b -> c;c -> d;d -> e;e -> f;f -> g;g -> h;h -> try;try -> block4;try -> except;except -> i;i -> end;block4->end;a[shape=box, label=\"initial_mode = _get_adapter_mode_info(interface)\"];b[shape=box, label=\"service = _interface_to_service(interface)\"];c[shape=box, label=\"service = pyconnman.ConnService(os.path.join(SERVICE_PATH, service))\"];d[shape=box, label=\"ipv4 = service.get_property(IPv4.Configuration)\"];e[shape=box, label=\"ipv4[Method] = dbus.String(dhcp, variant_level=1)\"];f[shape=box, label=\"ipv4[Address] = dbus.String(, variant_level=1)\"];g[shape=box, label=\"ipv4[Netmask] = dbus.String(, variant_level=1)\"];h[shape=box, label=\"ipv4[Gateway] = dbus.String(, variant_level=1)\"];i[shape=box, label=\"exc_msg\"]}' | dot -Tsvg > 3.svg\n"
     ]
    }
   ],
   "source": [
    "i = 3\n",
    "code = read_code(str(i) + \".py\")\n",
    "START = \"start\"\n",
    "EDGE = \"->\"\n",
    "ans = [\n",
    "    'if1 -> a',\n",
    "    'a -> if2',\n",
    "    'if2 -> block2',\n",
    "    'if2 -> block3',\n",
    "    'block2 -> end',\n",
    "    'block3 -> end',\n",
    "    'if1 -> b',\n",
    "    'b -> c',\n",
    "    'c -> d',\n",
    "    'd -> e',\n",
    "    'e -> f',\n",
    "    'f -> g',\n",
    "    'g -> h',\n",
    "    'h -> try',\n",
    "    'try -> block4',\n",
    "    'try -> except',\n",
    "    'except -> i',\n",
    "    'i -> end',\n",
    "    'block4->end',\n",
    "    'a[shape=box, label=\"initial_mode = _get_adapter_mode_info(interface)\"]',\n",
    "    'b[shape=box, label=\"service = _interface_to_service(interface)\"]',\n",
    "    'c[shape=box, label=\"service = pyconnman.ConnService(os.path.join(SERVICE_PATH, service))\"]',\n",
    "    'd[shape=box, label=\"ipv4 = service.get_property(IPv4.Configuration)\"]',\n",
    "    'e[shape=box, label=\"ipv4[Method] = dbus.String(dhcp, variant_level=1)\"]',\n",
    "    'f[shape=box, label=\"ipv4[Address] = dbus.String('', variant_level=1)\"]',\n",
    "    'g[shape=box, label=\"ipv4[Netmask] = dbus.String('', variant_level=1)\"]',\n",
    "    'h[shape=box, label=\"ipv4[Gateway] = dbus.String('', variant_level=1)\"]',\n",
    "    'i[shape=box, label=\"exc_msg\"]',\n",
    "]\n",
    "string = \";\".join(ans)\n",
    "\n",
    "graphviz = \"echo 'digraph {\" + string + \"}' | dot -Tsvg > \" + str(i) + \".svg\"\n",
    "print(graphviz)"
   ],
   "metadata": {
    "collapsed": false
   }
  },
  {
   "cell_type": "code",
   "execution_count": 210,
   "outputs": [
    {
     "name": "stdout",
     "output_type": "stream",
     "text": [
      "echo 'digraph {start -> a;a -> b;b -> c;c -> if1;if1 -> block1;if1 -> block2;block2 -> end;block1 -> end;if1 -> d;d -> if2;if2 -> e;if2 -> end;e -> if3;if3 -> end;if3 -> f;f -> if4;if4 -> end;if4 -> g;g -> end;a[shape=box, label=\"typs = get_dtype_kinds(to_concat)\"];b[shape=box, label=\"_contains_datetime = any(typ.startswith(datetime) for typ in typs)\"];c[shape=box, label=\"_contains_period = any(typ.startswith(period) for typ in typs)\"];d[shape=box, label=\"all_empty = all(not is_nonempty(x) for x in to_concat)\"];e[shape=box, label=\"to_concat = [np.atleast_2d(x.astype(object)) for x in to_concat]\"];f[shape=box, label=\"typs = get_dtype_kinds(to_concat)\"];g[shape=box, label=\"to_concat = [x.astype(object) for x in to_concat]\"]}' | dot -Tsvg > 5.svg\n"
     ]
    }
   ],
   "source": [
    "i = 5\n",
    "code = read_code(str(i) + \".py\")\n",
    "START = \"start\"\n",
    "EDGE = \"->\"\n",
    "ans = [\n",
    "    'start -> a',\n",
    "    'a -> b',\n",
    "    'b -> c',\n",
    "    'c -> if1',\n",
    "    'if1 -> block1',\n",
    "    'if1 -> block2',\n",
    "    'block2 -> end',\n",
    "    'block1 -> end',\n",
    "    'if1 -> d',\n",
    "    'd -> if2',\n",
    "    'if2 -> e',\n",
    "    'if2 -> end',\n",
    "    'e -> if3',\n",
    "    'if3 -> end',\n",
    "    'if3 -> f',\n",
    "    'f -> if4',\n",
    "    'if4 -> end',\n",
    "    'if4 -> g',\n",
    "    'g -> end',\n",
    "    'a[shape=box, label=\"typs = get_dtype_kinds(to_concat)\"]',\n",
    "    'b[shape=box, label=\"_contains_datetime = any(typ.startswith(datetime) for typ in typs)\"]',\n",
    "    'c[shape=box, label=\"_contains_period = any(typ.startswith(period) for typ in typs)\"]',\n",
    "    'd[shape=box, label=\"all_empty = all(not is_nonempty(x) for x in to_concat)\"]',\n",
    "    'e[shape=box, label=\"to_concat = [np.atleast_2d(x.astype(object)) for x in to_concat]\"]',\n",
    "    'f[shape=box, label=\"typs = get_dtype_kinds(to_concat)\"]',\n",
    "    'g[shape=box, label=\"to_concat = [x.astype(object) for x in to_concat]\"]',\n",
    "]\n",
    "string = \";\".join(ans)\n",
    "\n",
    "graphviz = \"echo 'digraph {\" + string + \"}' | dot -Tsvg > \" + str(i) + \".svg\"\n",
    "print(graphviz)"
   ],
   "metadata": {
    "collapsed": false
   }
  },
  {
   "cell_type": "code",
   "execution_count": 214,
   "outputs": [
    {
     "name": "stdout",
     "output_type": "stream",
     "text": [
      "echo 'digraph {start -> a;a -> b;b -> c;c -> end;a[shape=box, label=\"tblist = traceback.extract_tb(sys.exc_info()[2])\"];b[shape=box, label=\"tblist = [item for item ...]\"];c[shape=box, label=\"traceback.format_list(tblist)\"]}' | dot -Tsvg > 6.svg\n"
     ]
    }
   ],
   "source": [
    "i = 6\n",
    "code = read_code(str(i) + \".py\")\n",
    "START = \"start\"\n",
    "EDGE = \"->\"\n",
    "ans = [\n",
    "    'start -> a',\n",
    "    'a -> b',\n",
    "    'b -> c',\n",
    "    'c -> end',\n",
    "    'a[shape=box, label=\"tblist = traceback.extract_tb(sys.exc_info()[2])\"]',\n",
    "    'b[shape=box, label=\"tblist = [item for item ...]\"]',\n",
    "    'c[shape=box, label=\"traceback.format_list(tblist)\"]',\n",
    "]\n",
    "string = \";\".join(ans)\n",
    "\n",
    "graphviz = \"echo 'digraph {\" + string + \"}' | dot -Tsvg > \" + str(i) + \".svg\"\n",
    "print(graphviz)"
   ],
   "metadata": {
    "collapsed": false
   }
  },
  {
   "cell_type": "code",
   "execution_count": 215,
   "outputs": [
    {
     "name": "stdout",
     "output_type": "stream",
     "text": [
      "echo 'digraph {start -> a;a -> if1;if1 -> block1;block1 -> end;if1 -> b;b -> end;a[shape=box, label=\"kwargs[_return_http_data_only] = True\"];b[shape=box, label=\"(data) = self.create_namespaced_pod_preset_with_http_info(namespace, body, **kwargs)\"];if1[shape=box, label=\"If: kwargs.get(async_req)\"]}' | dot -Tsvg > 7.svg\n"
     ]
    }
   ],
   "source": [
    "i = 7\n",
    "code = read_code(str(i) + \".py\")\n",
    "START = \"start\"\n",
    "EDGE = \"->\"\n",
    "ans = [\n",
    "    'start -> a',\n",
    "    'a -> if1',\n",
    "    'if1 -> block1',\n",
    "    'block1 -> end',\n",
    "    'if1 -> b',\n",
    "    'b -> end',\n",
    "    'a[shape=box, label=\"kwargs[_return_http_data_only] = True\"]',\n",
    "    'b[shape=box, label=\"(data) = self.create_namespaced_pod_preset_with_http_info(namespace, body, **kwargs)\"]',\n",
    "    'if1[shape=box, label=\"If: kwargs.get(async_req)\"]',\n",
    "]\n",
    "string = \";\".join(ans)\n",
    "\n",
    "graphviz = \"echo 'digraph {\" + string + \"}' | dot -Tsvg > \" + str(i) + \".svg\"\n",
    "print(graphviz)"
   ],
   "metadata": {
    "collapsed": false
   }
  },
  {
   "cell_type": "code",
   "execution_count": 222,
   "outputs": [
    {
     "name": "stdout",
     "output_type": "stream",
     "text": [
      "echo 'digraph {start -> a;a -> if1;if1 -> block1;block1 -> end;if1 -> for;for -> b;b -> if2;if2 -> d;d -> end;d -> for;if2 -> end;a[shape=box, label=\"result = 1\"];b[shape=box, label=\"result *= i\"];d[shape=box, label=\"result %= mod\"];if1[shape=box, label=\"if n == 0\"];for[shape=box, label=\"for i in range(2, n+1)\"]}' | dot -Tsvg > 8.svg\n"
     ]
    }
   ],
   "source": [
    "i = 8\n",
    "code = read_code(str(i) + \".py\")\n",
    "START = \"start\"\n",
    "EDGE = \"->\"\n",
    "ans = [\n",
    "    'start -> a',\n",
    "    'a -> if1',\n",
    "    'if1 -> block1',\n",
    "    'block1 -> end',\n",
    "    'if1 -> for',\n",
    "    'for -> b',\n",
    "    'b -> if2',\n",
    "    'if2 -> d',\n",
    "    'd -> end',\n",
    "    'd -> for',\n",
    "    'if2 -> end',\n",
    "    'a[shape=box, label=\"result = 1\"]',\n",
    "    'b[shape=box, label=\"result *= i\"]',\n",
    "    'd[shape=box, label=\"result %= mod\"]',\n",
    "    'if1[shape=box, label=\"if n == 0\"]',\n",
    "    'for[shape=box, label=\"for i in range(2, n+1)\"]'\n",
    "]\n",
    "string = \";\".join(ans)\n",
    "\n",
    "graphviz = \"echo 'digraph {\" + string + \"}' | dot -Tsvg > \" + str(i) + \".svg\"\n",
    "print(graphviz)"
   ],
   "metadata": {
    "collapsed": false
   }
  },
  {
   "cell_type": "code",
   "execution_count": 225,
   "outputs": [
    {
     "name": "stdout",
     "output_type": "stream",
     "text": [
      "echo 'digraph {start -> try;try -> a;try -> except;except -> end;a -> b;b -> c;c -> for;for -> d;d -> for;d -> if1;for -> if1;if1 -> if2;if2 -> e;if2 -> g;e -> f;f -> g;g -> end;if1 -> for2;for2 -> h;h -> if3;if3 -> i;i -> end;a[shape=box, label=\"module = _resolver.load_module(module)\"];b[shape=box, label=\"doc = {}\"];c[shape=box, label=\"ret = {}\"];d[shape=box, label=\"docset = salt.utils.yaml.safe_load(docset)\"];for[shape=box, label=\"for docset in module.DOCUMENTATION.split(---)\"];for2[shape=box, label=\"for arg in args\"];if1[shape=box, label=\"if not args\"];if2[shape=box, label=\"if description in doc\"];e[shape=box, label=\"description = doc.get(description) or \"];f[shape=box, label=\"ret[Description] = description\"];g[shape=box, label=\"ret[...]= doc.keys()\"];h[shape=box, label=\"info = doc.get(arg)\"];if3[shape=box, label=\"if info is not None\"];i[shape=box, label=\"ret[arg] = info\"]}' | dot -Tsvg > 11.svg\n"
     ]
    }
   ],
   "source": [
    "i = 11\n",
    "code = read_code(str(i) + \".py\")\n",
    "START = \"start\"\n",
    "EDGE = \"->\"\n",
    "ans = [\n",
    "    'start -> try',\n",
    "    'try -> a',\n",
    "    'try -> except',\n",
    "    'except -> end',\n",
    "    'a -> b',\n",
    "    'b -> c',\n",
    "    'c -> for',\n",
    "    'for -> d',\n",
    "    'd -> for',\n",
    "    'd -> if1',\n",
    "    'for -> if1',\n",
    "    'if1 -> if2',\n",
    "    'if2 -> e',\n",
    "    'if2 -> g',\n",
    "    'e -> f',\n",
    "    'f -> g',\n",
    "    'g -> end',\n",
    "    'if1 -> for2',\n",
    "    'for2 -> h',\n",
    "    'h -> if3',\n",
    "    'if3 -> i',\n",
    "    'i -> end',\n",
    "    'a[shape=box, label=\"module = _resolver.load_module(module)\"]',\n",
    "    'b[shape=box, label=\"doc = {}\"]',\n",
    "    'c[shape=box, label=\"ret = {}\"]',\n",
    "    'd[shape=box, label=\"docset = salt.utils.yaml.safe_load(docset)\"]',\n",
    "    'for[shape=box, label=\"for docset in module.DOCUMENTATION.split(---)\"]',\n",
    "    'for2[shape=box, label=\"for arg in args\"]',\n",
    "    'if1[shape=box, label=\"if not args\"]',\n",
    "    'if2[shape=box, label=\"if description in doc\"]',\n",
    "    'e[shape=box, label=\"description = doc.get(description) or ''\"]',\n",
    "    'f[shape=box, label=\"ret[Description] = description\"]',\n",
    "    'g[shape=box, label=\"ret[...]= doc.keys()\"]',\n",
    "    'h[shape=box, label=\"info = doc.get(arg)\"]',\n",
    "    'if3[shape=box, label=\"if info is not None\"]',\n",
    "    'i[shape=box, label=\"ret[arg] = info\"]',\n",
    "]\n",
    "string = \";\".join(ans)\n",
    "\n",
    "graphviz = \"echo 'digraph {\" + string + \"}' | dot -Tsvg > \" + str(i) + \".svg\"\n",
    "print(graphviz)"
   ],
   "metadata": {
    "collapsed": false
   }
  },
  {
   "cell_type": "code",
   "execution_count": 230,
   "outputs": [
    {
     "name": "stdout",
     "output_type": "stream",
     "text": [
      "echo 'digraph {start -> try;try -> a;try -> end[label=\"except\"];a -> b;b -> if;if -> log1;if -> log2;log1 -> end;log2 -> end;a[shape=box, label=\"conn = _get_conn(region=region, key=key, keyid=keyid, profile=profile)\"];b[shape=box, label=\"alias = conn.create_alias()\"];if[shape=box, label=\"if alias\"];log1[shape=box, label=\"log.info(The newly created alias name is %s, alias[Name])\"];log2[shape=box, label=\" log.warning(Alias was not created)\"]}' | dot -Tsvg > 14.svg\n"
     ]
    }
   ],
   "source": [
    "i = 14\n",
    "code = read_code(str(i) + \".py\")\n",
    "START = \"start\"\n",
    "EDGE = \"->\"\n",
    "ans = [\n",
    "    'start -> try',\n",
    "    'try -> a',\n",
    "    'try -> end[label=\"except\"]',\n",
    "    'a -> b',\n",
    "    'b -> if',\n",
    "    'if -> log1',\n",
    "    'if -> log2',\n",
    "    'log1 -> end',\n",
    "    'log2 -> end',\n",
    "    'a[shape=box, label=\"conn = _get_conn(region=region, key=key, keyid=keyid, profile=profile)\"]',\n",
    "    'b[shape=box, label=\"alias = conn.create_alias()\"]',\n",
    "    'if[shape=box, label=\"if alias\"]',\n",
    "    'log1[shape=box, label=\"log.info(The newly created alias name is %s, alias[Name])\"]',\n",
    "    'log2[shape=box, label=\" log.warning(Alias was not created)\"]',\n",
    "]\n",
    "string = \";\".join(ans)\n",
    "\n",
    "graphviz = \"echo 'digraph {\" + string + \"}' | dot -Tsvg > \" + str(i) + \".svg\"\n",
    "print(graphviz)"
   ],
   "metadata": {
    "collapsed": false
   }
  },
  {
   "cell_type": "code",
   "execution_count": 227,
   "outputs": [
    {
     "name": "stdout",
     "output_type": "stream",
     "text": [
      "echo 'digraph {start -> if;if -> a;if -> b;a -> c;b -> c;c -> end;a[shape=box, label=\"chunks = chain([5], repeat(126))\"];b[shape=box, label=\"chunks = repeat(chunks)\"];c[shape=box, label=\"self._pipelines[name] = AttachedPipeline(pipeline, iter(chunks), eager)\"]}' | dot -Tsvg > 15.svg\n"
     ]
    }
   ],
   "source": [
    "i = 15\n",
    "code = read_code(str(i) + \".py\")\n",
    "START = \"start\"\n",
    "EDGE = \"->\"\n",
    "ans = [\n",
    "    'start -> if',\n",
    "    'if -> a',\n",
    "    'if -> b',\n",
    "    'a -> c',\n",
    "    'b -> c',\n",
    "    'c -> end',\n",
    "    'a[shape=box, label=\"chunks = chain([5], repeat(126))\"]',\n",
    "    'b[shape=box, label=\"chunks = repeat(chunks)\"]',\n",
    "    'c[shape=box, label=\"self._pipelines[name] = AttachedPipeline(pipeline, iter(chunks), eager)\"]',\n",
    "]\n",
    "string = \";\".join(ans)\n",
    "\n",
    "graphviz = \"echo 'digraph {\" + string + \"}' | dot -Tsvg > \" + str(i) + \".svg\"\n",
    "print(graphviz)"
   ],
   "metadata": {
    "collapsed": false
   }
  },
  {
   "cell_type": "code",
   "execution_count": 234,
   "outputs": [
    {
     "name": "stdout",
     "output_type": "stream",
     "text": [
      "echo 'digraph {start -> a;a -> b;b -> c;c -> d;d -> if;e -> for;if -> for;for -> e;for -> end;e -> f;f -> g;g -> if2;if2 -> h;if2 -> end;h -> end;a[shape=box, label=\"ret = {}\"];b[shape=box, label=\"cmd = imgadm avail -j\"];c[shape=box, label=\"res = __salt__[cmd.run_all](cmd)\"];d[shape=box, label=\"retcode = res[retcode]\"];e[shape=box, label=\"ret[Error] = _exit_status(retcode)\"];f[shape=box, label=\"uuid = image[manifest][uuid]\"];g[shape=box, label=\"data = _parse_image_meta(image, verbose)\"];h[shape=box, label=\"ret[uuid] = data\"]}' | dot -Tsvg > 17.svg\n"
     ]
    }
   ],
   "source": [
    "i = 17\n",
    "code = read_code(str(i) + \".py\")\n",
    "START = \"start\"\n",
    "EDGE = \"->\"\n",
    "ans = [\n",
    "    'start -> a',\n",
    "    'a -> b',\n",
    "    'b -> c',\n",
    "    'c -> d',\n",
    "    'd -> if',\n",
    "    'e -> for',\n",
    "    'if -> for',\n",
    "    'for -> e',\n",
    "    'for -> end',\n",
    "    'e -> f',\n",
    "    'f -> g',\n",
    "    'g -> if2',\n",
    "    'if2 -> h',\n",
    "    'if2 -> end',\n",
    "    'h -> end',\n",
    "    'a[shape=box, label=\"ret = {}\"]',\n",
    "    'b[shape=box, label=\"cmd = imgadm avail -j\"]',\n",
    "    'c[shape=box, label=\"res = __salt__[cmd.run_all](cmd)\"]',\n",
    "    'd[shape=box, label=\"retcode = res[retcode]\"]',\n",
    "    'e[shape=box, label=\"ret[Error] = _exit_status(retcode)\"]',\n",
    "    'f[shape=box, label=\"uuid = image[manifest][uuid]\"]',\n",
    "    'g[shape=box, label=\"data = _parse_image_meta(image, verbose)\"]',\n",
    "    'h[shape=box, label=\"ret[uuid] = data\"]',\n",
    "]\n",
    "string = \";\".join(ans)\n",
    "\n",
    "graphviz = \"echo 'digraph {\" + string + \"}' | dot -Tsvg > \" + str(i) + \".svg\"\n",
    "print(graphviz)"
   ],
   "metadata": {
    "collapsed": false
   }
  },
  {
   "cell_type": "code",
   "execution_count": 237,
   "outputs": [
    {
     "name": "stdout",
     "output_type": "stream",
     "text": [
      "echo 'digraph {start -> a;a -> b;b -> if;if -> c;if -> d;d -> for;c -> for;for -> for2;for -> end;for2 -> end;for2 -> block;block -> end;a[shape=box, label=\"settype = _find_set_type(set)\"];b[shape=box, label=\"current_members = _parse_members(settype, _find_set_members(set))\"];c[shape=box, label=\"entries = _parse_members(settype, entry)\"];d[shape=box, label=\"entries = [_parse_member(settype, entry)]\"]}' | dot -Tsvg > 19.svg\n"
     ]
    }
   ],
   "source": [
    "i = 19\n",
    "code = read_code(str(i) + \".py\")\n",
    "START = \"start\"\n",
    "EDGE = \"->\"\n",
    "ans = [\n",
    "    'start -> a',\n",
    "    'a -> b',\n",
    "    'b -> if',\n",
    "    'if -> c',\n",
    "    'if -> d',\n",
    "    'd -> for',\n",
    "    'c -> for',\n",
    "    'for -> for2',\n",
    "    'for -> end',\n",
    "    'for2 -> end',\n",
    "    'for2 -> block',\n",
    "    'block -> end',\n",
    "    'a[shape=box, label=\"settype = _find_set_type(set)\"]',\n",
    "    'b[shape=box, label=\"current_members = _parse_members(settype, _find_set_members(set))\"]',\n",
    "    'c[shape=box, label=\"entries = _parse_members(settype, entry)\"]',\n",
    "    'd[shape=box, label=\"entries = [_parse_member(settype, entry)]\"]',\n",
    "]\n",
    "string = \";\".join(ans)\n",
    "\n",
    "graphviz = \"echo 'digraph {\" + string + \"}' | dot -Tsvg > \" + str(i) + \".svg\"\n",
    "print(graphviz)"
   ],
   "metadata": {
    "collapsed": false
   }
  },
  {
   "cell_type": "code",
   "execution_count": 239,
   "outputs": [
    {
     "name": "stdout",
     "output_type": "stream",
     "text": [
      "echo 'digraph {start -> a;a -> if;if -> return1;if -> return2;return2 -> end;return1 -> end;a[shape=box, label=\"s2d = shape2d(a)\"]}' | dot -Tsvg > 20.svg\n"
     ]
    }
   ],
   "source": [
    "i = 20\n",
    "code = read_code(str(i) + \".py\")\n",
    "START = \"start\"\n",
    "EDGE = \"->\"\n",
    "ans = [\n",
    "    'start -> a',\n",
    "    'a -> if',\n",
    "    'if -> return1',\n",
    "    'if -> return2',\n",
    "    'return2 -> end',\n",
    "    'return1 -> end',\n",
    "    'a[shape=box, label=\"s2d = shape2d(a)\"]',\n",
    "]\n",
    "string = \";\".join(ans)\n",
    "\n",
    "graphviz = \"echo 'digraph {\" + string + \"}' | dot -Tsvg > \" + str(i) + \".svg\"\n",
    "print(graphviz)"
   ],
   "metadata": {
    "collapsed": false
   }
  },
  {
   "cell_type": "markdown",
   "source": [
    "# Control Flow"
   ],
   "metadata": {
    "collapsed": false
   }
  },
  {
   "cell_type": "code",
   "execution_count": 240,
   "outputs": [
    {
     "name": "stdout",
     "output_type": "stream",
     "text": [
      "echo 'digraph {start -> a;a -> if;if -> block;if -> end;block -> end;a[shape=box, label=\"ret = libxml2mod.xmlLoadACatalog(filename)\"]}' | dot -Tsvg > 21.svg\n"
     ]
    }
   ],
   "source": [
    "i = 21\n",
    "code = read_code(str(i) + \".py\")\n",
    "START = \"start\"\n",
    "EDGE = \"->\"\n",
    "ans = [\n",
    "    'start -> a',\n",
    "    'a -> if',\n",
    "    'if -> block',\n",
    "    'if -> end',\n",
    "    'block -> end',\n",
    "    'a[shape=box, label=\"ret = libxml2mod.xmlLoadACatalog(filename)\"]',\n",
    "]\n",
    "string = \";\".join(ans)\n",
    "\n",
    "graphviz = \"echo 'digraph {\" + string + \"}' | dot -Tsvg > \" + str(i) + \".svg\"\n",
    "print(graphviz)"
   ],
   "metadata": {
    "collapsed": false
   }
  },
  {
   "cell_type": "code",
   "execution_count": 241,
   "outputs": [
    {
     "name": "stdout",
     "output_type": "stream",
     "text": [
      "echo 'digraph {start -> a;a -> if;if -> block;if -> end;block -> end;a[shape=box, label=\"trans = _LazyTransformDataset(self, fn)\"]}' | dot -Tsvg > 22.svg\n"
     ]
    }
   ],
   "source": [
    "i = 22\n",
    "code = read_code(str(i) + \".py\")\n",
    "START = \"start\"\n",
    "EDGE = \"->\"\n",
    "ans = [\n",
    "    'start -> a',\n",
    "    'a -> if',\n",
    "    'if -> block',\n",
    "    'if -> end',\n",
    "    'block -> end',\n",
    "    'a[shape=box, label=\"trans = _LazyTransformDataset(self, fn)\"]',\n",
    "]\n",
    "string = \";\".join(ans)\n",
    "\n",
    "graphviz = \"echo 'digraph {\" + string + \"}' | dot -Tsvg > \" + str(i) + \".svg\"\n",
    "print(graphviz)"
   ],
   "metadata": {
    "collapsed": false
   }
  },
  {
   "cell_type": "code",
   "execution_count": null,
   "outputs": [],
   "source": [
    "i = 22\n",
    "code = read_code(str(i) + \".py\")\n",
    "START = \"start\"\n",
    "EDGE = \"->\"\n",
    "ans = [\n",
    "    'start -> a',\n",
    "    'a -> if',\n",
    "    'if -> block',\n",
    "    'if -> end',\n",
    "    'block -> end',\n",
    "    'a[shape=box, label=\"trans = _LazyTransformDataset(self, fn)\"]',\n",
    "]\n",
    "string = \";\".join(ans)\n",
    "\n",
    "graphviz = \"echo 'digraph {\" + string + \"}' | dot -Tsvg > \" + str(i) + \".svg\"\n",
    "print(graphviz)"
   ],
   "metadata": {
    "collapsed": false
   }
  },
  {
   "cell_type": "code",
   "execution_count": 242,
   "outputs": [
    {
     "name": "stdout",
     "output_type": "stream",
     "text": [
      "echo 'digraph {start -> a;a -> for;for -> b;b -> c;c -> end;for -> if;if -> d;d -> e;e -> f;f -> g;g -> b;if -> h;h -> i;i -> j;a[shape=box, label=\"methods = list()\"];d[shape=box, label=\"format_key1 = self.LOG_FORMAT_MAP[atom[0]]\"];e[shape=box, label=\"m = getattr(AccessLogger, _format_%s % atom[0])\"];f[shape=box, label=\"key_method = KeyMethod(format_key1, m)\"];g[shape=box, label=\"m = getattr(AccessLogger, _format_%s % atom[2])\"];h[shape=box, label=\"key_method = KeyMethod(format_key2,functools.partial(m, atom[1]))\"];i[shape=box, label=\"methods.append(key_method)\"];j[shape=box, label=\"methods.append(key_method)\"];b[shape=box, label=\"log_format = self.FORMAT_RE.sub(r%s, log_format)\"];c[shape=box, label=\"log_format = self.CLEANUP_RE.sub(r%\u0001, log_format)\"]}' | dot -Tsvg > 23.svg\n"
     ]
    }
   ],
   "source": [
    "i = 23\n",
    "code = read_code(str(i) + \".py\")\n",
    "START = \"start\"\n",
    "EDGE = \"->\"\n",
    "ans = [\n",
    "    'start -> a',\n",
    "    'a -> for',\n",
    "    'for -> b',\n",
    "    'b -> c',\n",
    "    'c -> end',\n",
    "    'for -> if',\n",
    "    'if -> d',\n",
    "    'd -> e',\n",
    "    'e -> f',\n",
    "    'f -> g',\n",
    "    'g -> b',\n",
    "    'if -> h',\n",
    "    'h -> i',\n",
    "    'i -> j',\n",
    "    'a[shape=box, label=\"methods = list()\"]',\n",
    "    'd[shape=box, label=\"format_key1 = self.LOG_FORMAT_MAP[atom[0]]\"]',\n",
    "    'e[shape=box, label=\"m = getattr(AccessLogger, _format_%s % atom[0])\"]',\n",
    "    'f[shape=box, label=\"key_method = KeyMethod(format_key1, m)\"]',\n",
    "    'g[shape=box, label=\"m = getattr(AccessLogger, _format_%s % atom[2])\"]',\n",
    "    'h[shape=box, label=\"key_method = KeyMethod(format_key2,functools.partial(m, atom[1]))\"]',\n",
    "    'i[shape=box, label=\"methods.append(key_method)\"]',\n",
    "    'j[shape=box, label=\"methods.append(key_method)\"]',\n",
    "    'b[shape=box, label=\"log_format = self.FORMAT_RE.sub(r%s, log_format)\"]',\n",
    "    'c[shape=box, label=\"log_format = self.CLEANUP_RE.sub(r%\\1, log_format)\"]',\n",
    "]\n",
    "string = \";\".join(ans)\n",
    "\n",
    "graphviz = \"echo 'digraph {\" + string + \"}' | dot -Tsvg > \" + str(i) + \".svg\"\n",
    "print(graphviz)"
   ],
   "metadata": {
    "collapsed": false
   }
  },
  {
   "cell_type": "code",
   "execution_count": 142,
   "outputs": [
    {
     "data": {
      "text/plain": "[['10.py', '27', '39', '40'],\n ['10.py', '27', '40', '40'],\n ['100.py', '117', '119', '120'],\n ['100.py', '117', '120', '120'],\n ['100.py', '126', '128', '129'],\n ['100.py', '126', '129', '129'],\n ['100.py', '135', '137', '138'],\n ['100.py', '135', '138', '138'],\n ['100.py', '144', '146', '147'],\n ['100.py', '144', '147', '147'],\n ['100.py', '160', '166', '172'],\n ['100.py', '160', '167', '172'],\n ['100.py', '160', '168', '172'],\n ['100.py', '169', '171', '172'],\n ['100.py', '169', '172', '172'],\n ['100.py', '178', '182', '196'],\n ['100.py', '183', '188', '196'],\n ['100.py', '183', '190', '196'],\n ['100.py', '183', '191', '196'],\n ['100.py', '183', '192', '196'],\n ['100.py', '193', '195', '196'],\n ['100.py', '193', '196', '196'],\n ['100.py', '209', '221', '235'],\n ['100.py', '223', '235', '235'],\n ['11.py', '26', '32', '35'],\n ['14.py', '21', '25', '26'],\n ['14.py', '21', '26', '26'],\n ['15.py', '32', '33', '34'],\n ['18.py', '15', '16', '21'],\n ['18.py', '17', '18', '21'],\n ['18.py', '19', '21', '21'],\n ['19.py', '43', '45', '45'],\n ['20.py', '14', '16', '16'],\n ['23.py', '28', '32', '34'],\n ['23.py', '28', '33', '34'],\n ['23.py', '28', '34', '34'],\n ['29.py', '3', '4', '4'],\n ['3.py', '23', '25', '25'],\n ['36.py', '108', '110', '115'],\n ['36.py', '108', '115', '115'],\n ['36.py', '111', '113', '113'],\n ['36.py', '65', '66', '70'],\n ['36.py', '67', '69', '70'],\n ['36.py', '67', '70', '70'],\n ['36.py', '75', '77', '77'],\n ['39.py', '20', '22', '23'],\n ['39.py', '20', '23', '23'],\n ['4.py', '15', '16', '17'],\n ['44.py', '17', '29', '37'],\n ['44.py', '17', '35', '37'],\n ['44.py', '17', '37', '37'],\n ['45.py', '15', '19', '39'],\n ['45.py', '15', '27', '39'],\n ['45.py', '15', '33', '39'],\n ['45.py', '15', '35', '39'],\n ['45.py', '15', '37', '39'],\n ['45.py', '15', '39', '39'],\n ['45.py', '489', '493', '501'],\n ['45.py', '489', '495', '501'],\n ['45.py', '489', '499', '501'],\n ['46.py', '10', '15', '18'],\n ['46.py', '10', '16', '18'],\n ['46.py', '10', '18', '18'],\n ['5.py', '40', '42', '47'],\n ['5.py', '43', '46', '47'],\n ['5.py', '63', '66', '66'],\n ['50.py', '18', '20', '24'],\n ['50.py', '18', '24', '24'],\n ['55.py', '17', '19', '19'],\n ['57.py', '22', '27', '27'],\n ['58.py', '12', '14', '14'],\n ['61.py', '6', '11', '11'],\n ['68.py', '27', '31', '31'],\n ['69.py', '25', '31', '31'],\n ['7.py', '21', '23', '24'],\n ['7.py', '21', '24', '24'],\n ['73.py', '14', '22', '22'],\n ['73.py', '18', '20', '20'],\n ['82.py', '43', '47', '48'],\n ['82.py', '43', '48', '48'],\n ['82.py', '84', '97', '100'],\n ['83.py', '32', '37', '52'],\n ['83.py', '38', '43', '52'],\n ['83.py', '48', '52', '52'],\n ['91.py', '24', '26', '27'],\n ['91.py', '24', '27', '27'],\n ['97.py', '33', '50', '59'],\n ['97.py', '33', '52', '59'],\n ['97.py', '33', '53', '59'],\n ['97.py', '34', '36', '36']]"
     },
     "execution_count": 142,
     "metadata": {},
     "output_type": "execute_result"
    }
   ],
   "source": [
    "# CONTROL FLOW\n",
    "control = defaultdict(dict)\n",
    "with open(\"X:/UIUC/CS 598/ml4se/results/python/control-if.csv\") as fp:\n",
    "    lines = fp.read().split('\\n')\n",
    "    control_if = []\n",
    "    for line in lines:\n",
    "        control_if.append([path.replace(PY_LOC, \"\").replace('\"', '') for path in line.split(\",\")])\n",
    "\n",
    "    for ctrl_if in control_if:\n",
    "        ctrl_if[1] = ctrl_if[1].replace(ctrl_if[0] + \":\", \"\")\n",
    "        ctrl_if[2] = ctrl_if[2].replace(ctrl_if[0] + \":\", \"\")\n",
    "sorted(control_if) # File, BodyStart, Last\n",
    "\n",
    "with open(\"X:/UIUC/CS 598/ml4se/results/python/control-if-else.csv\") as fp:\n",
    "    lines = fp.read().split('\\n')\n",
    "    control_if_else = []\n",
    "    for line in lines:\n",
    "        control_if_else.append([path.replace(PY_LOC, \"\").replace('\"', '') for path in line.split(\",\")])\n",
    "\n",
    "    for ctrl_if in control_if_else:\n",
    "        ctrl_if[1] = ctrl_if[1].replace(ctrl_if[0] + \":\", \"\")\n",
    "        ctrl_if[2] = ctrl_if[2].replace(ctrl_if[0] + \":\", \"\")\n",
    "        ctrl_if[3] = ctrl_if[3].replace(ctrl_if[0] + \":\", \"\")\n",
    "sorted(control_if_else) # File, BodyStart, Else, Last\n"
   ],
   "metadata": {
    "collapsed": false
   }
  },
  {
   "cell_type": "code",
   "execution_count": 143,
   "outputs": [],
   "source": [
    "for iff in control_if:\n",
    "    control[iff[0]][iff[1]] = {\"type\": \"IF\", \"last\": iff[2]}\n",
    "\n",
    "for iff in control_if_else:\n",
    "    control[iff[0]][iff[1]] = {\"type\": \"IF-ELSE\", \"else\": iff[2], \"last\": iff[3]}"
   ],
   "metadata": {
    "collapsed": false
   }
  },
  {
   "cell_type": "code",
   "execution_count": 145,
   "outputs": [
    {
     "data": {
      "text/plain": "{'48': {'type': 'IF', 'last': '48'},\n '52': {'type': 'IF', 'last': '52'},\n '60': {'type': 'IF', 'last': '61'},\n '69': {'type': 'IF', 'last': '69'},\n '84': {'type': 'IF', 'last': '84'},\n '94': {'type': 'IF', 'last': '94'},\n '42': {'type': 'IF', 'last': '42'},\n '65': {'type': 'IF', 'last': '65'},\n '81': {'type': 'IF', 'last': '81'},\n '96': {'type': 'IF', 'last': '96'}}"
     },
     "execution_count": 145,
     "metadata": {},
     "output_type": "execute_result"
    }
   ],
   "source": [
    "control[\"96.py\"]"
   ],
   "metadata": {
    "collapsed": false
   }
  },
  {
   "cell_type": "code",
   "execution_count": 164,
   "outputs": [
    {
     "name": "stdout",
     "output_type": "stream",
     "text": [
      "3.py\n",
      "[18, 23, 29]\n",
      "echo 'digraph {start->if18_26;if18_26->if_block2[label='True'];if18_26->block3[label='False'];if_block2->block3;block3->if29_29;if29_29->if_block4[label='True'];if29_29->block5[label='False'];if_block4->block5;block5->end}' | dot -Tsvg > 3.svg\n",
      "4.py\n",
      "[6, 15, 17]\n",
      "echo 'digraph {start->if6_6;if6_6->if_block2[label='True'];if6_6->block3[label='False'];if_block2->block3;block3->if15_17;if15_17->if_block4[label='True'];if15_17->else_block5[label='False'];else_block5->block6;if_block4->block6;block6->end}' | dot -Tsvg > 4.svg\n",
      "5.py\n",
      "[40, 43, 47, 51, 57, 60, 63]\n",
      "echo 'digraph {start->if40_47;if40_47->if_block2[label='True'];if40_47->else_block3[label='False'];else_block3->block4;if_block2->block4;block4->if51_51;if51_51->if_block5[label='True'];if51_51->block6[label='False'];if_block5->block6;block6->if57_66;if57_66->if_block7[label='True'];if57_66->block8[label='False'];if_block7->block8;block8->end}' | dot -Tsvg > 5.svg\n",
      "6.py\n",
      "[7]\n",
      "echo 'digraph {start->if7_7;if7_7->if_block2[label='True'];if7_7->block3[label='False'];if_block2->block3;block3->end}' | dot -Tsvg > 6.svg\n",
      "7.py\n",
      "[21]\n",
      "echo 'digraph {start->if21_24;if21_24->if_block2[label='True'];if21_24->else_block3[label='False'];else_block3->block4;if_block2->block4;block4->end}' | dot -Tsvg > 7.svg\n",
      "8.py\n",
      "[6, 8, 11, 15]\n",
      "echo 'digraph {start->if6_6;if6_6->if_block2[label='True'];if6_6->block3[label='False'];if_block2->block3;block3->if8_8;if8_8->if_block4[label='True'];if8_8->block5[label='False'];if_block4->block5;block5->if11_11;if11_11->if_block6[label='True'];if11_11->block7[label='False'];if_block6->block7;block7->if15_15;if15_15->if_block8[label='True'];if15_15->block9[label='False'];if_block8->block9;block9->end}' | dot -Tsvg > 8.svg\n",
      "10.py\n",
      "[17, 27, 29, 35, 37]\n",
      "echo 'digraph {start->if17_18;if17_18->if_block2[label='True'];if17_18->block3[label='False'];if_block2->block3;block3->if27_40;if27_40->if_block4[label='True'];if27_40->else_block5[label='False'];else_block5->block6;if_block4->block6;block6->end}' | dot -Tsvg > 10.svg\n",
      "11.py\n",
      "[9, 22, 26, 27, 35]\n",
      "echo 'digraph {start->if9_9;if9_9->if_block2[label='True'];if9_9->block3[label='False'];if_block2->block3;block3->if22_22;if22_22->if_block4[label='True'];if22_22->block5[label='False'];if_block4->block5;block5->if26_35;if26_35->if_block6[label='True'];if26_35->else_block7[label='False'];else_block7->block8;if_block6->block8;block8->end}' | dot -Tsvg > 11.svg\n",
      "12.py\n",
      "[5]\n",
      "echo 'digraph {start->if5_5;if5_5->if_block2[label='True'];if5_5->block3[label='False'];if_block2->block3;block3->end}' | dot -Tsvg > 12.svg\n",
      "14.py\n",
      "[21]\n",
      "echo 'digraph {start->if21_26;if21_26->if_block2[label='True'];if21_26->else_block3[label='False'];else_block3->block4;if_block2->block4;block4->end}' | dot -Tsvg > 14.svg\n",
      "15.py\n",
      "[32, 34, 37]\n",
      "echo 'digraph {start->if32_34;if32_34->if_block2[label='True'];if32_34->else_block3[label='False'];else_block3->block4;if_block2->block4;block4->if37_37;if37_37->if_block5[label='True'];if37_37->block6[label='False'];if_block5->block6;block6->end}' | dot -Tsvg > 15.svg\n",
      "17.py\n",
      "[22, 27, 30, 34]\n",
      "echo 'digraph {start->if22_23;if22_23->if_block2[label='True'];if22_23->block3[label='False'];if_block2->block3;block3->if27_27;if27_27->if_block4[label='True'];if27_27->block5[label='False'];if_block4->block5;block5->if30_30;if30_30->if_block6[label='True'];if30_30->block7[label='False'];if_block6->block7;block7->if34_34;if34_34->if_block8[label='True'];if34_34->block9[label='False'];if_block8->block9;block9->end}' | dot -Tsvg > 17.svg\n",
      "18.py\n",
      "[15, 17, 19]\n",
      "echo 'digraph {start->if15_21;if15_21->if_block2[label='True'];if15_21->else_block3[label='False'];else_block3->block4;if_block2->block4;block4->end}' | dot -Tsvg > 18.svg\n",
      "19.py\n",
      "[29, 31, 35, 40, 43, 50]\n",
      "echo 'digraph {start->if29_29;if29_29->if_block2[label='True'];if29_29->block3[label='False'];if_block2->block3;block3->if31_31;if31_31->if_block4[label='True'];if31_31->block5[label='False'];if_block4->block5;block5->if35_35;if35_35->if_block6[label='True'];if35_35->block7[label='False'];if_block6->block7;block7->if40_40;if40_40->if_block8[label='True'];if40_40->block9[label='False'];if_block8->block9;block9->if43_45;if43_45->if_block10[label='True'];if43_45->else_block11[label='False'];else_block11->block12;if_block10->block12;block12->if50_50;if50_50->if_block13[label='True'];if50_50->block14[label='False'];if_block13->block14;block14->end}' | dot -Tsvg > 19.svg\n",
      "20.py\n",
      "[14]\n",
      "echo 'digraph {start->if14_16;if14_16->if_block2[label='True'];if14_16->else_block3[label='False'];else_block3->block4;if_block2->block4;block4->end}' | dot -Tsvg > 20.svg\n",
      "21.py\n",
      "[7]\n",
      "echo 'digraph {start->if7_7;if7_7->if_block2[label='True'];if7_7->block3[label='False'];if_block2->block3;block3->end}' | dot -Tsvg > 21.svg\n",
      "22.py\n",
      "[23]\n",
      "echo 'digraph {start->if23_23;if23_23->if_block2[label='True'];if23_23->block3[label='False'];if_block2->block3;block3->end}' | dot -Tsvg > 22.svg\n",
      "23.py\n",
      "[28]\n",
      "echo 'digraph {start->if28_34;if28_34->if_block2[label='True'];if28_34->else_block3[label='False'];else_block3->block4;if_block2->block4;block4->end}' | dot -Tsvg > 23.svg\n",
      "24.py\n",
      "[11, 18, 20]\n",
      "echo 'digraph {start->if11_11;if11_11->if_block2[label='True'];if11_11->block3[label='False'];if_block2->block3;block3->if18_18;if18_18->if_block4[label='True'];if18_18->block5[label='False'];if_block4->block5;block5->if20_20;if20_20->if_block6[label='True'];if20_20->block7[label='False'];if_block6->block7;block7->end}' | dot -Tsvg > 24.svg\n",
      "25.py\n",
      "[27, 29]\n",
      "echo 'digraph {start->if27_29;if27_29->if_block2[label='True'];if27_29->block3[label='False'];if_block2->block3;block3->end}' | dot -Tsvg > 25.svg\n",
      "26.py\n",
      "[4]\n",
      "echo 'digraph {start->if4_4;if4_4->if_block2[label='True'];if4_4->block3[label='False'];if_block2->block3;block3->end}' | dot -Tsvg > 26.svg\n",
      "27.py\n",
      "[7, 22]\n",
      "echo 'digraph {start->if7_7;if7_7->if_block2[label='True'];if7_7->block3[label='False'];if_block2->block3;block3->if22_22;if22_22->if_block4[label='True'];if22_22->block5[label='False'];if_block4->block5;block5->end}' | dot -Tsvg > 27.svg\n",
      "28.py\n",
      "[24]\n",
      "echo 'digraph {start->if24_24;if24_24->if_block2[label='True'];if24_24->block3[label='False'];if_block2->block3;block3->end}' | dot -Tsvg > 28.svg\n",
      "29.py\n",
      "[3, 6]\n",
      "echo 'digraph {start->if3_4;if3_4->if_block2[label='True'];if3_4->else_block3[label='False'];else_block3->block4;if_block2->block4;block4->if6_6;if6_6->if_block5[label='True'];if6_6->block6[label='False'];if_block5->block6;block6->end}' | dot -Tsvg > 29.svg\n",
      "30.py\n",
      "[21]\n",
      "echo 'digraph {start->if21_21;if21_21->if_block2[label='True'];if21_21->block3[label='False'];if_block2->block3;block3->end}' | dot -Tsvg > 30.svg\n",
      "31.py\n",
      "[27, 29, 37]\n",
      "echo 'digraph {start->if27_27;if27_27->if_block2[label='True'];if27_27->block3[label='False'];if_block2->block3;block3->if29_29;if29_29->if_block4[label='True'];if29_29->block5[label='False'];if_block4->block5;block5->if37_37;if37_37->if_block6[label='True'];if37_37->block7[label='False'];if_block6->block7;block7->end}' | dot -Tsvg > 31.svg\n",
      "33.py\n",
      "[58]\n",
      "echo 'digraph {start->if58_58;if58_58->if_block2[label='True'];if58_58->block3[label='False'];if_block2->block3;block3->end}' | dot -Tsvg > 33.svg\n",
      "35.py\n",
      "[15, 20, 42, 57, 67, 78]\n",
      "echo 'digraph {start->if15_15;if15_15->if_block2[label='True'];if15_15->block3[label='False'];if_block2->block3;block3->if20_20;if20_20->if_block4[label='True'];if20_20->block5[label='False'];if_block4->block5;block5->if42_42;if42_42->if_block6[label='True'];if42_42->block7[label='False'];if_block6->block7;block7->if57_57;if57_57->if_block8[label='True'];if57_57->block9[label='False'];if_block8->block9;block9->if67_67;if67_67->if_block10[label='True'];if67_67->block11[label='False'];if_block10->block11;block11->if78_79;if78_79->if_block12[label='True'];if78_79->block13[label='False'];if_block12->block13;block13->end}' | dot -Tsvg > 35.svg\n",
      "36.py\n",
      "[52, 65, 67, 75, 108, 111]\n",
      "echo 'digraph {start->if52_72;if52_72->if_block2[label='True'];if52_72->block3[label='False'];if_block2->block3;block3->if75_77;if75_77->if_block4[label='True'];if75_77->else_block5[label='False'];else_block5->block6;if_block4->block6;block6->if108_115;if108_115->if_block7[label='True'];if108_115->else_block8[label='False'];else_block8->block9;if_block7->block9;block9->end}' | dot -Tsvg > 36.svg\n",
      "37.py\n",
      "[9, 16]\n",
      "echo 'digraph {start->if9_9;if9_9->if_block2[label='True'];if9_9->block3[label='False'];if_block2->block3;block3->if16_17;if16_17->if_block4[label='True'];if16_17->block5[label='False'];if_block4->block5;block5->end}' | dot -Tsvg > 37.svg\n",
      "39.py\n",
      "[20]\n",
      "echo 'digraph {start->if20_23;if20_23->if_block2[label='True'];if20_23->else_block3[label='False'];else_block3->block4;if_block2->block4;block4->end}' | dot -Tsvg > 39.svg\n",
      "40.py\n",
      "[12]\n",
      "echo 'digraph {start->if12_12;if12_12->if_block2[label='True'];if12_12->block3[label='False'];if_block2->block3;block3->end}' | dot -Tsvg > 40.svg\n",
      "41.py\n",
      "[5]\n",
      "echo 'digraph {start->if5_6;if5_6->if_block2[label='True'];if5_6->block3[label='False'];if_block2->block3;block3->end}' | dot -Tsvg > 41.svg\n",
      "42.py\n",
      "[39]\n",
      "echo 'digraph {start->if39_40;if39_40->if_block2[label='True'];if39_40->block3[label='False'];if_block2->block3;block3->end}' | dot -Tsvg > 42.svg\n",
      "44.py\n",
      "[17]\n",
      "echo 'digraph {start->if17_37;if17_37->if_block2[label='True'];if17_37->else_block3[label='False'];else_block3->block4;if_block2->block4;block4->end}' | dot -Tsvg > 44.svg\n",
      "45.py\n",
      "[15, 21, 23, 29, 339, 343, 347, 393, 443, 457, 471, 483, 489, 501]\n",
      "echo 'digraph {start->if15_39;if15_39->if_block2[label='True'];if15_39->else_block3[label='False'];else_block3->block4;if_block2->block4;block4->if339_339;if339_339->if_block5[label='True'];if339_339->block6[label='False'];if_block5->block6;block6->if343_343;if343_343->if_block7[label='True'];if343_343->block8[label='False'];if_block7->block8;block8->if347_347;if347_347->if_block9[label='True'];if347_347->block10[label='False'];if_block9->block10;block10->if393_393;if393_393->if_block11[label='True'];if393_393->block12[label='False'];if_block11->block12;block12->if443_445;if443_445->if_block13[label='True'];if443_445->block14[label='False'];if_block13->block14;block14->if457_459;if457_459->if_block15[label='True'];if457_459->block16[label='False'];if_block15->block16;block16->if471_471;if471_471->if_block17[label='True'];if471_471->block18[label='False'];if_block17->block18;block18->if483_483;if483_483->if_block19[label='True'];if483_483->block20[label='False'];if_block19->block20;block20->if489_501;if489_501->if_block21[label='True'];if489_501->else_block22[label='False'];else_block22->block23;if_block21->block23;block23->end}' | dot -Tsvg > 45.svg\n",
      "46.py\n",
      "[6, 10, 12, 17]\n",
      "echo 'digraph {start->if6_6;if6_6->if_block2[label='True'];if6_6->block3[label='False'];if_block2->block3;block3->if10_18;if10_18->if_block4[label='True'];if10_18->else_block5[label='False'];else_block5->block6;if_block4->block6;block6->end}' | dot -Tsvg > 46.svg\n",
      "47.py\n",
      "[18, 23]\n",
      "echo 'digraph {start->if18_18;if18_18->if_block2[label='True'];if18_18->block3[label='False'];if_block2->block3;block3->if23_26;if23_26->if_block4[label='True'];if23_26->block5[label='False'];if_block4->block5;block5->end}' | dot -Tsvg > 47.svg\n",
      "48.py\n",
      "[29, 34, 37, 51]\n",
      "echo 'digraph {start->if29_29;if29_29->if_block2[label='True'];if29_29->block3[label='False'];if_block2->block3;block3->if34_41;if34_41->if_block4[label='True'];if34_41->block5[label='False'];if_block4->block5;block5->if51_51;if51_51->if_block6[label='True'];if51_51->block7[label='False'];if_block6->block7;block7->end}' | dot -Tsvg > 48.svg\n",
      "50.py\n",
      "[18]\n",
      "echo 'digraph {start->if18_24;if18_24->if_block2[label='True'];if18_24->else_block3[label='False'];else_block3->block4;if_block2->block4;block4->end}' | dot -Tsvg > 50.svg\n",
      "52.py\n",
      "[20, 27, 29]\n",
      "echo 'digraph {start->if20_35;if20_35->if_block2[label='True'];if20_35->block3[label='False'];if_block2->block3;block3->end}' | dot -Tsvg > 52.svg\n",
      "54.py\n",
      "[33, 37, 39, 40]\n",
      "echo 'digraph {start->if33_33;if33_33->if_block2[label='True'];if33_33->block3[label='False'];if_block2->block3;block3->if37_37;if37_37->if_block4[label='True'];if37_37->block5[label='False'];if_block4->block5;block5->if39_39;if39_39->if_block6[label='True'];if39_39->block7[label='False'];if_block6->block7;block7->if40_40;if40_40->if_block8[label='True'];if40_40->block9[label='False'];if_block8->block9;block9->end}' | dot -Tsvg > 54.svg\n",
      "55.py\n",
      "[17]\n",
      "echo 'digraph {start->if17_19;if17_19->if_block2[label='True'];if17_19->else_block3[label='False'];else_block3->block4;if_block2->block4;block4->end}' | dot -Tsvg > 55.svg\n",
      "56.py\n",
      "[8]\n",
      "echo 'digraph {start->if8_9;if8_9->if_block2[label='True'];if8_9->block3[label='False'];if_block2->block3;block3->end}' | dot -Tsvg > 56.svg\n",
      "57.py\n",
      "[12, 18, 22, 37, 42, 60, 68]\n",
      "echo 'digraph {start->if12_18;if12_18->if_block2[label='True'];if12_18->block3[label='False'];if_block2->block3;block3->if22_27;if22_27->if_block4[label='True'];if22_27->else_block5[label='False'];else_block5->block6;if_block4->block6;block6->if37_39;if37_39->if_block7[label='True'];if37_39->block8[label='False'];if_block7->block8;block8->if42_44;if42_44->if_block9[label='True'];if42_44->block10[label='False'];if_block9->block10;block10->if60_60;if60_60->if_block11[label='True'];if60_60->block12[label='False'];if_block11->block12;block12->if68_68;if68_68->if_block13[label='True'];if68_68->block14[label='False'];if_block13->block14;block14->end}' | dot -Tsvg > 57.svg\n",
      "58.py\n",
      "[12]\n",
      "echo 'digraph {start->if12_14;if12_14->if_block2[label='True'];if12_14->else_block3[label='False'];else_block3->block4;if_block2->block4;block4->end}' | dot -Tsvg > 58.svg\n",
      "59.py\n",
      "[5]\n",
      "echo 'digraph {start->if5_5;if5_5->if_block2[label='True'];if5_5->block3[label='False'];if_block2->block3;block3->end}' | dot -Tsvg > 59.svg\n",
      "60.py\n",
      "[5]\n",
      "echo 'digraph {start->if5_5;if5_5->if_block2[label='True'];if5_5->block3[label='False'];if_block2->block3;block3->end}' | dot -Tsvg > 60.svg\n",
      "61.py\n",
      "[6]\n",
      "echo 'digraph {start->if6_11;if6_11->if_block2[label='True'];if6_11->else_block3[label='False'];else_block3->block4;if_block2->block4;block4->end}' | dot -Tsvg > 61.svg\n",
      "64.py\n",
      "[6]\n",
      "echo 'digraph {start->if6_7;if6_7->if_block2[label='True'];if6_7->block3[label='False'];if_block2->block3;block3->end}' | dot -Tsvg > 64.svg\n",
      "66.py\n",
      "[13, 16]\n",
      "echo 'digraph {start->if13_13;if13_13->if_block2[label='True'];if13_13->block3[label='False'];if_block2->block3;block3->if16_18;if16_18->if_block4[label='True'];if16_18->block5[label='False'];if_block4->block5;block5->end}' | dot -Tsvg > 66.svg\n",
      "67.py\n",
      "[16]\n",
      "echo 'digraph {start->if16_16;if16_16->if_block2[label='True'];if16_16->block3[label='False'];if_block2->block3;block3->end}' | dot -Tsvg > 67.svg\n",
      "68.py\n",
      "[27, 34]\n",
      "echo 'digraph {start->if27_31;if27_31->if_block2[label='True'];if27_31->else_block3[label='False'];else_block3->block4;if_block2->block4;block4->if34_34;if34_34->if_block5[label='True'];if34_34->block6[label='False'];if_block5->block6;block6->end}' | dot -Tsvg > 68.svg\n",
      "69.py\n",
      "[25, 27]\n",
      "echo 'digraph {start->if25_31;if25_31->if_block2[label='True'];if25_31->else_block3[label='False'];else_block3->block4;if_block2->block4;block4->end}' | dot -Tsvg > 69.svg\n",
      "70.py\n",
      "[9]\n",
      "echo 'digraph {start->if9_9;if9_9->if_block2[label='True'];if9_9->block3[label='False'];if_block2->block3;block3->end}' | dot -Tsvg > 70.svg\n",
      "71.py\n",
      "[10, 20, 26]\n",
      "echo 'digraph {start->if10_10;if10_10->if_block2[label='True'];if10_10->block3[label='False'];if_block2->block3;block3->if20_20;if20_20->if_block4[label='True'];if20_20->block5[label='False'];if_block4->block5;block5->if26_26;if26_26->if_block6[label='True'];if26_26->block7[label='False'];if_block6->block7;block7->end}' | dot -Tsvg > 71.svg\n",
      "72.py\n",
      "[4]\n",
      "echo 'digraph {start->if4_5;if4_5->if_block2[label='True'];if4_5->block3[label='False'];if_block2->block3;block3->end}' | dot -Tsvg > 72.svg\n",
      "73.py\n",
      "[9, 14, 15, 18]\n",
      "echo 'digraph {start->if9_22;if9_22->if_block2[label='True'];if9_22->block3[label='False'];if_block2->block3;block3->end}' | dot -Tsvg > 73.svg\n",
      "74.py\n",
      "[33, 37, 39, 40]\n",
      "echo 'digraph {start->if33_33;if33_33->if_block2[label='True'];if33_33->block3[label='False'];if_block2->block3;block3->if37_37;if37_37->if_block4[label='True'];if37_37->block5[label='False'];if_block4->block5;block5->if39_39;if39_39->if_block6[label='True'];if39_39->block7[label='False'];if_block6->block7;block7->if40_40;if40_40->if_block8[label='True'];if40_40->block9[label='False'];if_block8->block9;block9->end}' | dot -Tsvg > 74.svg\n",
      "76.py\n",
      "[8, 10]\n",
      "echo 'digraph {start->if8_10;if8_10->if_block2[label='True'];if8_10->block3[label='False'];if_block2->block3;block3->end}' | dot -Tsvg > 76.svg\n",
      "77.py\n",
      "[19]\n",
      "echo 'digraph {start->if19_22;if19_22->if_block2[label='True'];if19_22->block3[label='False'];if_block2->block3;block3->end}' | dot -Tsvg > 77.svg\n",
      "79.py\n",
      "[23, 27, 36]\n",
      "echo 'digraph {start->if23_24;if23_24->if_block2[label='True'];if23_24->block3[label='False'];if_block2->block3;block3->if27_27;if27_27->if_block4[label='True'];if27_27->block5[label='False'];if_block4->block5;block5->if36_37;if36_37->if_block6[label='True'];if36_37->block7[label='False'];if_block6->block7;block7->end}' | dot -Tsvg > 79.svg\n",
      "82.py\n",
      "[22, 43, 54, 64, 68, 75, 84]\n",
      "echo 'digraph {start->if22_22;if22_22->if_block2[label='True'];if22_22->block3[label='False'];if_block2->block3;block3->if43_48;if43_48->if_block4[label='True'];if43_48->else_block5[label='False'];else_block5->block6;if_block4->block6;block6->if54_60;if54_60->if_block7[label='True'];if54_60->block8[label='False'];if_block7->block8;block8->if64_64;if64_64->if_block9[label='True'];if64_64->block10[label='False'];if_block9->block10;block10->if68_68;if68_68->if_block11[label='True'];if68_68->block12[label='False'];if_block11->block12;block12->if75_75;if75_75->if_block13[label='True'];if75_75->block14[label='False'];if_block13->block14;block14->if84_100;if84_100->if_block15[label='True'];if84_100->else_block16[label='False'];else_block16->block17;if_block15->block17;block17->end}' | dot -Tsvg > 82.svg\n",
      "83.py\n",
      "[32, 38, 48]\n",
      "echo 'digraph {start->if32_52;if32_52->if_block2[label='True'];if32_52->else_block3[label='False'];else_block3->block4;if_block2->block4;block4->end}' | dot -Tsvg > 83.svg\n",
      "84.py\n",
      "[4, 7]\n",
      "echo 'digraph {start->if4_4;if4_4->if_block2[label='True'];if4_4->block3[label='False'];if_block2->block3;block3->if7_7;if7_7->if_block4[label='True'];if7_7->block5[label='False'];if_block4->block5;block5->end}' | dot -Tsvg > 84.svg\n",
      "88.py\n",
      "[9, 12]\n",
      "echo 'digraph {start->if9_9;if9_9->if_block2[label='True'];if9_9->block3[label='False'];if_block2->block3;block3->if12_13;if12_13->if_block4[label='True'];if12_13->block5[label='False'];if_block4->block5;block5->end}' | dot -Tsvg > 88.svg\n",
      "90.py\n",
      "[18, 22, 24, 26]\n",
      "echo 'digraph {start->if18_18;if18_18->if_block2[label='True'];if18_18->block3[label='False'];if_block2->block3;block3->if22_26;if22_26->if_block4[label='True'];if22_26->block5[label='False'];if_block4->block5;block5->end}' | dot -Tsvg > 90.svg\n",
      "91.py\n",
      "[24]\n",
      "echo 'digraph {start->if24_27;if24_27->if_block2[label='True'];if24_27->else_block3[label='False'];else_block3->block4;if_block2->block4;block4->end}' | dot -Tsvg > 91.svg\n",
      "92.py\n",
      "[9, 14]\n",
      "echo 'digraph {start->if9_9;if9_9->if_block2[label='True'];if9_9->block3[label='False'];if_block2->block3;block3->if14_14;if14_14->if_block4[label='True'];if14_14->block5[label='False'];if_block4->block5;block5->end}' | dot -Tsvg > 92.svg\n",
      "93.py\n",
      "[19, 22, 25]\n",
      "echo 'digraph {start->if19_19;if19_19->if_block2[label='True'];if19_19->block3[label='False'];if_block2->block3;block3->if22_22;if22_22->if_block4[label='True'];if22_22->block5[label='False'];if_block4->block5;block5->if25_25;if25_25->if_block6[label='True'];if25_25->block7[label='False'];if_block6->block7;block7->end}' | dot -Tsvg > 93.svg\n",
      "94.py\n",
      "[35, 37]\n",
      "echo 'digraph {start->if35_35;if35_35->if_block2[label='True'];if35_35->block3[label='False'];if_block2->block3;block3->if37_37;if37_37->if_block4[label='True'];if37_37->block5[label='False'];if_block4->block5;block5->end}' | dot -Tsvg > 94.svg\n",
      "96.py\n",
      "[42, 48, 52, 60, 65, 69, 81, 84, 94, 96]\n",
      "echo 'digraph {start->if42_42;if42_42->if_block2[label='True'];if42_42->block3[label='False'];if_block2->block3;block3->if48_48;if48_48->if_block4[label='True'];if48_48->block5[label='False'];if_block4->block5;block5->if52_52;if52_52->if_block6[label='True'];if52_52->block7[label='False'];if_block6->block7;block7->if60_61;if60_61->if_block8[label='True'];if60_61->block9[label='False'];if_block8->block9;block9->if65_65;if65_65->if_block10[label='True'];if65_65->block11[label='False'];if_block10->block11;block11->if69_69;if69_69->if_block12[label='True'];if69_69->block13[label='False'];if_block12->block13;block13->if81_81;if81_81->if_block14[label='True'];if81_81->block15[label='False'];if_block14->block15;block15->if84_84;if84_84->if_block16[label='True'];if84_84->block17[label='False'];if_block16->block17;block17->if94_94;if94_94->if_block18[label='True'];if94_94->block19[label='False'];if_block18->block19;block19->if96_96;if96_96->if_block20[label='True'];if96_96->block21[label='False'];if_block20->block21;block21->end}' | dot -Tsvg > 96.svg\n",
      "97.py\n",
      "[17, 19, 22, 26, 28, 30, 33, 34, 40, 42, 45, 54, 56, 59]\n",
      "echo 'digraph {start->if17_22;if17_22->if_block2[label='True'];if17_22->block3[label='False'];if_block2->block3;block3->if26_26;if26_26->if_block4[label='True'];if26_26->block5[label='False'];if_block4->block5;block5->if28_28;if28_28->if_block6[label='True'];if28_28->block7[label='False'];if_block6->block7;block7->if30_30;if30_30->if_block8[label='True'];if30_30->block9[label='False'];if_block8->block9;block9->if33_59;if33_59->if_block10[label='True'];if33_59->else_block11[label='False'];else_block11->block12;if_block10->block12;block12->end}' | dot -Tsvg > 97.svg\n"
     ]
    }
   ],
   "source": [
    "for i in range(1, 100):\n",
    "    file = str(i) + \".py\"\n",
    "    code = read_code(file)\n",
    "    if len(control[file]) > 0:\n",
    "        print(file)\n",
    "        keys = sorted([int(i) for i in control[file].keys()])\n",
    "        last = 1\n",
    "        ans = []\n",
    "        block = 1\n",
    "        start = \"start\"\n",
    "        left, right = None, None\n",
    "        print(keys)\n",
    "        for key in keys:\n",
    "            if not left:\n",
    "                left, right = key, int(control[file][str(key)]['last'])\n",
    "            else:\n",
    "                if right >= key >= left:\n",
    "                    continue\n",
    "                else:\n",
    "                    left = key\n",
    "                    right = int(control[file][str(key)]['last'])\n",
    "            if control[file][str(key)]['type'] == \"IF\":\n",
    "                iff = \"if\" + str(key) + \"_\" + control[file][str(key)]['last']\n",
    "\n",
    "                block_to_if = start + \"->\" + iff\n",
    "\n",
    "                block += 1\n",
    "                if_block = \"if_block\" + str(block)\n",
    "                if_to_if_block = iff + \"->\" + if_block\n",
    "\n",
    "                block += 1\n",
    "                after_block = \"block\" + str(block)\n",
    "                if_to_after_block = iff + \"->\" + after_block\n",
    "\n",
    "                if_block_to_after_block = if_block + \"->\" + after_block\n",
    "\n",
    "                ans.append(block_to_if)\n",
    "                ans.append(if_to_if_block + f\"[label='{True}']\")\n",
    "                ans.append(if_to_after_block + f\"[label='{False}']\")\n",
    "                ans.append(if_block_to_after_block)\n",
    "                start = after_block\n",
    "            else:\n",
    "                iff = \"if\" + str(key) + \"_\" + control[file][str(key)]['last']\n",
    "                block_to_if = start + \"->\" + iff\n",
    "\n",
    "                block += 1\n",
    "                if_block = \"if_block\" + str(block)\n",
    "                if_to_if_block = iff + \"->\" + if_block\n",
    "\n",
    "                block += 1\n",
    "                else_block = \"else_block\" + str(block)\n",
    "                if_to_else_block = iff + \"->\" + else_block\n",
    "\n",
    "                block += 1\n",
    "                after_block = \"block\" + str(block)\n",
    "                else_block_to_after_block = else_block + \"->\" + after_block\n",
    "\n",
    "                if_block_to_after_block = if_block + \"->\" + after_block\n",
    "\n",
    "                ans.append(block_to_if)\n",
    "                ans.append(if_to_if_block + f\"[label='{True}']\")\n",
    "                ans.append(if_to_else_block + f\"[label='{False}']\")\n",
    "                ans.append(else_block_to_after_block)\n",
    "                ans.append(if_block_to_after_block)\n",
    "                start = after_block\n",
    "        ans.append(start + \"->end\")\n",
    "\n",
    "        string = \";\".join(ans)\n",
    "        graphviz = \"echo 'digraph {\" + string + \"}' | dot -Tsvg > \" + str(i) + \".svg\"\n",
    "        print(graphviz)"
   ],
   "metadata": {
    "collapsed": false
   }
  },
  {
   "cell_type": "code",
   "execution_count": 158,
   "outputs": [
    {
     "name": "stdout",
     "output_type": "stream",
     "text": [
      "echo 'digraph {start->if17_22;if17_22->if_block2[label='True'];if17_22->block3[label='False'];if_block2->block3;block3->if19_20;if19_20->if_block4[label='True'];if19_20->block5[label='False'];if_block4->block5;block5->if22_22;if22_22->if_block6[label='True'];if22_22->block7[label='False'];if_block6->block7;block7->if26_26;if26_26->if_block8[label='True'];if26_26->block9[label='False'];if_block8->block9;block9->if28_28;if28_28->if_block10[label='True'];if28_28->block11[label='False'];if_block10->block11;block11->if30_30;if30_30->if_block12[label='True'];if30_30->block13[label='False'];if_block12->block13;block13->if33_59;if33_59->if_block14[label='True'];if33_59->else_block15[label='False'];else_block15->block16;if_block14->block16;block16->if34_36;if34_36->if_block17[label='True'];if34_36->else_block18[label='False'];else_block18->block19;if_block17->block19;block19->if40_43;if40_43->if_block20[label='True'];if40_43->block21[label='False'];if_block20->block21;block21->if42_43;if42_43->if_block22[label='True'];if42_43->block23[label='False'];if_block22->block23;block23->if45_45;if45_45->if_block24[label='True'];if45_45->block25[label='False'];if_block24->block25;block25->if54_59;if54_59->if_block26[label='True'];if54_59->block27[label='False'];if_block26->block27;block27->if56_57;if56_57->if_block28[label='True'];if56_57->block29[label='False'];if_block28->block29;block29->if59_59;if59_59->if_block30[label='True'];if59_59->block31[label='False'];if_block30->block31;block31->end}' | dot -Tsvg > 3.svg\n"
     ]
    }
   ],
   "source": [
    "string = \";\".join(ans)\n",
    "i = 3\n",
    "graphviz = \"echo 'digraph {\" + string + \"}' | dot -Tsvg > \" + str(i) + \".svg\"\n",
    "print(graphviz)"
   ],
   "metadata": {
    "collapsed": false
   }
  },
  {
   "cell_type": "code",
   "execution_count": null,
   "outputs": [],
   "source": [],
   "metadata": {
    "collapsed": false
   }
  }
 ],
 "metadata": {
  "kernelspec": {
   "display_name": "Python 3",
   "language": "python",
   "name": "python3"
  },
  "language_info": {
   "codemirror_mode": {
    "name": "ipython",
    "version": 2
   },
   "file_extension": ".py",
   "mimetype": "text/x-python",
   "name": "python",
   "nbconvert_exporter": "python",
   "pygments_lexer": "ipython2",
   "version": "2.7.6"
  }
 },
 "nbformat": 4,
 "nbformat_minor": 0
}
