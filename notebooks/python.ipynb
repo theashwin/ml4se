{
 "cells": [
  {
   "cell_type": "code",
   "execution_count": 18,
   "outputs": [],
   "source": [
    "from collections import defaultdict"
   ],
   "metadata": {
    "collapsed": false
   }
  },
  {
   "cell_type": "code",
   "execution_count": 19,
   "metadata": {
    "collapsed": true
   },
   "outputs": [],
   "source": [
    "PY_LOC = \"X:/UIUC/CS 598/ml4se/data/functions/py/\""
   ]
  },
  {
   "cell_type": "code",
   "execution_count": 32,
   "outputs": [],
   "source": [
    "ASSIGN_STMT = \"AssignStmt\"\n",
    "AUG_ASSIGN = \"AugAssign\""
   ],
   "metadata": {
    "collapsed": false
   }
  },
  {
   "cell_type": "code",
   "execution_count": 30,
   "outputs": [
    {
     "data": {
      "text/plain": "[['\"10.py', '5\"'],\n ['\"10.py', '8\"'],\n ['\"10.py', '13\"'],\n ['\"10.py', '15\"'],\n ['\"10.py', '22\"'],\n ['\"10.py', '27\"'],\n ['\"10.py', '35\"'],\n ['\"10.py', '37\"'],\n ['\"10.py', '39\"'],\n ['\"100.py', '101\"'],\n ['\"100.py', '107\"'],\n ['\"100.py', '110\"'],\n ['\"100.py', '114\"'],\n ['\"100.py', '115\"'],\n ['\"100.py', '117\"'],\n ['\"100.py', '119\"'],\n ['\"100.py', '120\"'],\n ['\"100.py', '123\"'],\n ['\"100.py', '124\"'],\n ['\"100.py', '126\"'],\n ['\"100.py', '128\"'],\n ['\"100.py', '129\"'],\n ['\"100.py', '132\"'],\n ['\"100.py', '133\"'],\n ['\"100.py', '135\"'],\n ['\"100.py', '137\"'],\n ['\"100.py', '138\"'],\n ['\"100.py', '141\"'],\n ['\"100.py', '142\"'],\n ['\"100.py', '144\"'],\n ['\"100.py', '146\"'],\n ['\"100.py', '147\"'],\n ['\"100.py', '151\"'],\n ['\"100.py', '160\"'],\n ['\"100.py', '163\"'],\n ['\"100.py', '166\"'],\n ['\"100.py', '167\"'],\n ['\"100.py', '169\"'],\n ['\"100.py', '171\"'],\n ['\"100.py', '172\"'],\n ['\"100.py', '178\"'],\n ['\"100.py', '180\"'],\n ['\"100.py', '183\"'],\n ['\"100.py', '185\"'],\n ['\"100.py', '188\"'],\n ['\"100.py', '190\"'],\n ['\"100.py', '191\"'],\n ['\"100.py', '193\"'],\n ['\"100.py', '195\"'],\n ['\"100.py', '196\"'],\n ['\"100.py', '202\"'],\n ['\"100.py', '205\"'],\n ['\"100.py', '211\"'],\n ['\"100.py', '213\"'],\n ['\"100.py', '215\"'],\n ['\"100.py', '216\"'],\n ['\"100.py', '225\"'],\n ['\"100.py', '227\"'],\n ['\"100.py', '232\"'],\n ['\"100.py', '233\"'],\n ['\"100.py', '235\"'],\n ['\"100.py', '237\"'],\n ['\"11.py', '12\"'],\n ['\"11.py', '16\"'],\n ['\"11.py', '17\"'],\n ['\"11.py', '20\"'],\n ['\"11.py', '27\"'],\n ['\"11.py', '29\"'],\n ['\"11.py', '30\"'],\n ['\"11.py', '33\"'],\n ['\"11.py', '35\"'],\n ['\"12.py', '4\"'],\n ['\"14.py', '17\"'],\n ['\"14.py', '18\"'],\n ['\"15.py', '32\"'],\n ['\"15.py', '34\"'],\n ['\"15.py', '39\"'],\n ['\"17.py', '17\"'],\n ['\"17.py', '18\"'],\n ['\"17.py', '19\"'],\n ['\"17.py', '20\"'],\n ['\"17.py', '22\"'],\n ['\"17.py', '31\"'],\n ['\"17.py', '32\"'],\n ['\"17.py', '34\"'],\n ['\"18.py', '4\"'],\n ['\"18.py', '5\"'],\n ['\"18.py', '6\"'],\n ['\"18.py', '7\"'],\n ['\"18.py', '9\"'],\n ['\"18.py', '12\"'],\n ['\"18.py', '13\"'],\n ['\"18.py', '15\"'],\n ['\"18.py', '17\"'],\n ['\"18.py', '19\"'],\n ['\"18.py', '22\"'],\n ['\"18.py', '31\"'],\n ['\"18.py', '36\"'],\n ['\"18.py', '44\"'],\n ['\"18.py', '48\"'],\n ['\"18.py', '56\"'],\n ['\"19.py', '33\"'],\n ['\"19.py', '37\"'],\n ['\"19.py', '43\"'],\n ['\"19.py', '45\"'],\n ['\"2.py', '7\"'],\n ['\"20.py', '12\"'],\n ['\"21.py', '6\"'],\n ['\"22.py', '21\"'],\n ['\"23.py', '24\"'],\n ['\"23.py', '28\"'],\n ['\"23.py', '29\"'],\n ['\"23.py', '30\"'],\n ['\"23.py', '32\"'],\n ['\"23.py', '33\"'],\n ['\"23.py', '34\"'],\n ['\"23.py', '39\"'],\n ['\"23.py', '40\"'],\n ['\"24.py', '6\"'],\n ['\"24.py', '7\"'],\n ['\"24.py', '13\"'],\n ['\"24.py', '14\"'],\n ['\"24.py', '15\"'],\n ['\"24.py', '20\"'],\n ['\"27.py', '11\"'],\n ['\"27.py', '14\"'],\n ['\"27.py', '17\"'],\n ['\"28.py', '10\"'],\n ['\"28.py', '11\"'],\n ['\"28.py', '12\"'],\n ['\"28.py', '13\"'],\n ['\"28.py', '15\"'],\n ['\"28.py', '17\"'],\n ['\"28.py', '18\"'],\n ['\"28.py', '19\"'],\n ['\"28.py', '20\"'],\n ['\"28.py', '21\"'],\n ['\"28.py', '26\"'],\n ['\"28.py', '27\"'],\n ['\"28.py', '28\"'],\n ['\"28.py', '29\"'],\n ['\"28.py', '32\"'],\n ['\"29.py', '3\"'],\n ['\"29.py', '4\"'],\n ['\"29.py', '5\"'],\n ['\"29.py', '7\"'],\n ['\"3.py', '18\"'],\n ['\"3.py', '27\"'],\n ['\"3.py', '30\"'],\n ['\"3.py', '31\"'],\n ['\"3.py', '32\"'],\n ['\"3.py', '33\"'],\n ['\"3.py', '34\"'],\n ['\"3.py', '35\"'],\n ['\"3.py', '40\"'],\n ['\"30.py', '23\"'],\n ['\"30.py', '24\"'],\n ['\"31.py', '24\"'],\n ['\"31.py', '25\"'],\n ['\"31.py', '27\"'],\n ['\"31.py', '29\"'],\n ['\"31.py', '30\"'],\n ['\"32.py', '7\"'],\n ['\"32.py', '8\"'],\n ['\"33.py', '51\"'],\n ['\"33.py', '53\"'],\n ['\"33.py', '56\"'],\n ['\"35.py', '11\"'],\n ['\"35.py', '25\"'],\n ['\"35.py', '26\"'],\n ['\"35.py', '29\"'],\n ['\"35.py', '30\"'],\n ['\"35.py', '31\"'],\n ['\"35.py', '39\"'],\n ['\"35.py', '40\"'],\n ['\"35.py', '42\"'],\n ['\"35.py', '45\"'],\n ['\"35.py', '48\"'],\n ['\"35.py', '49\"'],\n ['\"35.py', '50\"'],\n ['\"35.py', '53\"'],\n ['\"35.py', '55\"'],\n ['\"35.py', '63\"'],\n ['\"35.py', '64\"'],\n ['\"35.py', '67\"'],\n ['\"35.py', '69\"'],\n ['\"35.py', '73\"'],\n ['\"35.py', '79\"'],\n ['\"36.py', '52\"'],\n ['\"36.py', '57\"'],\n ['\"36.py', '59\"'],\n ['\"36.py', '63\"'],\n ['\"36.py', '70\"'],\n ['\"36.py', '71\"'],\n ['\"36.py', '75\"'],\n ['\"36.py', '77\"'],\n ['\"36.py', '79\"'],\n ['\"36.py', '101\"'],\n ['\"36.py', '108\"'],\n ['\"36.py', '111\"'],\n ['\"36.py', '113\"'],\n ['\"36.py', '115\"'],\n ['\"37.py', '11\"'],\n ['\"37.py', '16\"'],\n ['\"37.py', '17\"'],\n ['\"38.py', '29\"'],\n ['\"38.py', '32\"'],\n ['\"39.py', '18\"'],\n ['\"39.py', '22\"'],\n ['\"4.py', '7\"'],\n ['\"4.py', '10\"'],\n ['\"40.py', '6\"'],\n ['\"41.py', '3\"'],\n ['\"41.py', '11\"'],\n ['\"42.py', '27\"'],\n ['\"42.py', '28\"'],\n ['\"42.py', '29\"'],\n ['\"42.py', '42\"'],\n ['\"42.py', '43\"'],\n ['\"42.py', '44\"'],\n ['\"43.py', '13\"'],\n ['\"43.py', '14\"'],\n ['\"43.py', '15\"'],\n ['\"44.py', '13\"'],\n ['\"44.py', '17\"'],\n ['\"44.py', '25\"'],\n ['\"44.py', '35\"'],\n ['\"44.py', '37\"'],\n ['\"45.py', '9\"'],\n ['\"45.py', '33\"'],\n ['\"45.py', '35\"'],\n ['\"45.py', '37\"'],\n ['\"45.py', '45\"'],\n ['\"45.py', '51\"'],\n ['\"45.py', '53\"'],\n ['\"45.py', '55\"'],\n ['\"45.py', '57\"'],\n ['\"45.py', '59\"'],\n ['\"45.py', '61\"'],\n ['\"45.py', '63\"'],\n ['\"45.py', '65\"'],\n ['\"45.py', '67\"'],\n ['\"45.py', '69\"'],\n ['\"45.py', '71\"'],\n ['\"45.py', '73\"'],\n ['\"45.py', '75\"'],\n ['\"45.py', '81\"'],\n ['\"45.py', '85\"'],\n ['\"45.py', '103\"'],\n ['\"45.py', '155\"'],\n ['\"45.py', '195\"'],\n ['\"45.py', '241\"'],\n ['\"45.py', '271\"'],\n ['\"45.py', '307\"'],\n ['\"45.py', '323\"'],\n ['\"45.py', '329\"'],\n ['\"45.py', '331\"'],\n ['\"45.py', '335\"'],\n ['\"45.py', '339\"'],\n ['\"45.py', '353\"'],\n ['\"45.py', '389\"'],\n ['\"45.py', '405\"'],\n ['\"45.py', '423\"'],\n ['\"45.py', '439\"'],\n ['\"45.py', '443\"'],\n ['\"45.py', '451\"'],\n ['\"45.py', '457\"'],\n ['\"45.py', '465\"'],\n ['\"45.py', '477\"'],\n ['\"45.py', '489\"'],\n ['\"46.py', '6\"'],\n ['\"46.py', '10\"'],\n ['\"46.py', '15\"'],\n ['\"47.py', '25\"'],\n ['\"47.py', '26\"'],\n ['\"47.py', '28\"'],\n ['\"47.py', '29\"'],\n ['\"47.py', '31\"'],\n ['\"47.py', '36\"'],\n ['\"47.py', '40\"'],\n ['\"47.py', '48\"'],\n ['\"47.py', '54\"'],\n ['\"47.py', '55\"'],\n ['\"47.py', '56\"'],\n ['\"48.py', '31\"'],\n ['\"48.py', '32\"'],\n ['\"48.py', '34\"'],\n ['\"48.py', '40\"'],\n ['\"48.py', '45\"'],\n ['\"48.py', '47\"'],\n ['\"48.py', '51\"'],\n ['\"48.py', '53\"'],\n ['\"49.py', '8\"'],\n ['\"5.py', '33\"'],\n ['\"5.py', '34\"'],\n ['\"5.py', '35\"'],\n ['\"5.py', '49\"'],\n ['\"5.py', '51\"'],\n ['\"5.py', '57\"'],\n ['\"5.py', '66\"'],\n ['\"50.py', '10\"'],\n ['\"50.py', '12\"'],\n ['\"50.py', '13\"'],\n ['\"52.py', '17\"'],\n ['\"52.py', '20\"'],\n ['\"52.py', '24\"'],\n ['\"52.py', '29\"'],\n ['\"52.py', '35\"'],\n ['\"53.py', '3\"'],\n ['\"53.py', '4\"'],\n ['\"53.py', '5\"'],\n ['\"53.py', '6\"'],\n ['\"53.py', '7\"'],\n ['\"53.py', '8\"'],\n ['\"53.py', '9\"'],\n ['\"53.py', '10\"'],\n ['\"53.py', '11\"'],\n ['\"53.py', '12\"'],\n ['\"54.py', '17\"'],\n ['\"54.py', '20\"'],\n ['\"54.py', '33\"'],\n ['\"54.py', '39\"'],\n ['\"55.py', '8\"'],\n ['\"55.py', '10\"'],\n ['\"55.py', '19\"'],\n ['\"56.py', '4\"'],\n ['\"56.py', '5\"'],\n ['\"56.py', '9\"'],\n ['\"56.py', '15\"'],\n ['\"57.py', '5\"'],\n ['\"57.py', '6\"'],\n ['\"57.py', '9\"'],\n ['\"57.py', '16\"'],\n ['\"57.py', '22\"'],\n ['\"57.py', '24\"'],\n ['\"57.py', '25\"'],\n ['\"57.py', '27\"'],\n ['\"57.py', '30\"'],\n ['\"57.py', '31\"'],\n ['\"57.py', '32\"'],\n ['\"57.py', '37\"'],\n ['\"57.py', '39\"'],\n ['\"57.py', '42\"'],\n ['\"57.py', '44\"'],\n ['\"57.py', '50\"'],\n ['\"57.py', '51\"'],\n ['\"57.py', '53\"'],\n ['\"57.py', '55\"'],\n ['\"57.py', '60\"'],\n ['\"57.py', '62\"'],\n ['\"57.py', '63\"'],\n ['\"57.py', '65\"'],\n ['\"57.py', '66\"'],\n ['\"58.py', '8\"'],\n ['\"58.py', '9\"'],\n ['\"59.py', '4\"'],\n ['\"6.py', '6\"'],\n ['\"6.py', '7\"'],\n ['\"6.py', '9\"'],\n ['\"60.py', '5\"'],\n ['\"61.py', '6\"'],\n ['\"62.py', '10\"'],\n ['\"62.py', '11\"'],\n ['\"62.py', '12\"'],\n ['\"62.py', '13\"'],\n ['\"64.py', '3\"'],\n ['\"64.py', '4\"'],\n ['\"64.py', '8\"'],\n ['\"66.py', '8\"'],\n ['\"68.py', '6\"'],\n ['\"68.py', '17\"'],\n ['\"68.py', '19\"'],\n ['\"68.py', '21\"'],\n ['\"68.py', '36\"'],\n ['\"69.py', '29\"'],\n ['\"69.py', '31\"'],\n ['\"69.py', '33\"'],\n ['\"7.py', '19\"'],\n ['\"7.py', '23\"'],\n ['\"70.py', '18\"'],\n ['\"70.py', '21\"'],\n ['\"70.py', '24\"'],\n ['\"70.py', '27\"'],\n ['\"70.py', '29\"'],\n ['\"70.py', '30\"'],\n ['\"70.py', '32\"'],\n ['\"71.py', '4\"'],\n ['\"71.py', '8\"'],\n ['\"71.py', '10\"'],\n ['\"71.py', '13\"'],\n ['\"71.py', '18\"'],\n ['\"71.py', '20\"'],\n ['\"71.py', '26\"'],\n ['\"73.py', '18\"'],\n ['\"73.py', '20\"'],\n ['\"74.py', '17\"'],\n ['\"74.py', '20\"'],\n ['\"74.py', '33\"'],\n ['\"74.py', '39\"'],\n ['\"75.py', '3\"'],\n ['\"76.py', '6\"'],\n ['\"76.py', '8\"'],\n ['\"77.py', '13\"'],\n ['\"77.py', '15\"'],\n ['\"77.py', '16\"'],\n ['\"77.py', '17\"'],\n ['\"77.py', '19\"'],\n ['\"77.py', '20\"'],\n ['\"77.py', '21\"'],\n ['\"78.py', '3\"'],\n ['\"78.py', '4\"'],\n ['\"79.py', '21\"'],\n ['\"79.py', '23\"'],\n ['\"79.py', '25\"'],\n ['\"79.py', '29\"'],\n ['\"79.py', '33\"'],\n ['\"79.py', '34\"'],\n ['\"79.py', '36\"'],\n ['\"8.py', '9\"'],\n ['\"80.py', '9\"'],\n ['\"81.py', '11\"'],\n ['\"81.py', '12\"'],\n ['\"82.py', '30\"'],\n ['\"82.py', '43\"'],\n ['\"82.py', '44\"'],\n ['\"82.py', '45\"'],\n ['\"82.py', '47\"'],\n ['\"82.py', '48\"'],\n ['\"82.py', '50\"'],\n ['\"82.py', '60\"'],\n ['\"82.py', '64\"'],\n ['\"82.py', '79\"'],\n ['\"82.py', '84\"'],\n ['\"82.py', '89\"'],\n ['\"82.py', '94\"'],\n ['\"82.py', '95\"'],\n ['\"82.py', '98\"'],\n ['\"82.py', '99\"'],\n ['\"82.py', '100\"'],\n ['\"82.py', '104\"'],\n ['\"82.py', '105\"'],\n ['\"83.py', '22\"'],\n ['\"83.py', '23\"'],\n ['\"83.py', '24\"'],\n ['\"83.py', '29\"'],\n ['\"83.py', '32\"'],\n ['\"83.py', '34\"'],\n ['\"83.py', '35\"'],\n ['\"83.py', '38\"'],\n ['\"83.py', '40\"'],\n ['\"83.py', '41\"'],\n ['\"83.py', '48\"'],\n ['\"83.py', '50\"'],\n ['\"84.py', '3\"'],\n ['\"84.py', '5\"'],\n ['\"84.py', '6\"'],\n ['\"85.py', '7\"'],\n ['\"85.py', '8\"'],\n ['\"85.py', '10\"'],\n ['\"85.py', '12\"'],\n ['\"85.py', '14\"'],\n ['\"86.py', '15\"'],\n ['\"86.py', '16\"'],\n ['\"86.py', '17\"'],\n ['\"86.py', '18\"'],\n ['\"87.py', '5\"'],\n ['\"87.py', '6\"'],\n ['\"87.py', '7\"'],\n ['\"87.py', '8\"'],\n ['\"87.py', '9\"'],\n ['\"87.py', '10\"'],\n ['\"88.py', '7\"'],\n ['\"89.py', '35\"'],\n ['\"89.py', '37\"'],\n ['\"90.py', '18\"'],\n ['\"90.py', '20\"'],\n ['\"90.py', '22\"'],\n ['\"91.py', '22\"'],\n ['\"91.py', '26\"'],\n ['\"92.py', '14\"'],\n ['\"92.py', '16\"'],\n ['\"93.py', '16\"'],\n ['\"93.py', '20\"'],\n ['\"94.py', '30\"'],\n ['\"94.py', '34\"'],\n ['\"94.py', '35\"'],\n ['\"94.py', '38\"'],\n ['\"94.py', '41\"'],\n ['\"95.py', '22\"'],\n ['\"95.py', '23\"'],\n ['\"96.py', '50\"'],\n ['\"96.py', '54\"'],\n ['\"96.py', '56\"'],\n ['\"96.py', '60\"'],\n ['\"96.py', '63\"'],\n ['\"96.py', '75\"'],\n ['\"96.py', '76\"'],\n ['\"96.py', '77\"'],\n ['\"96.py', '89\"'],\n ['\"96.py', '92\"'],\n ['\"96.py', '94\"'],\n ['\"97.py', '15\"'],\n ['\"97.py', '19\"'],\n ['\"97.py', '23\"'],\n ['\"97.py', '26\"'],\n ['\"97.py', '28\"'],\n ['\"97.py', '30\"'],\n ['\"97.py', '34\"'],\n ['\"97.py', '36\"'],\n ['\"97.py', '38\"'],\n ['\"97.py', '42\"'],\n ['\"97.py', '45\"'],\n ['\"97.py', '52\"'],\n ['\"97.py', '56\"'],\n ['\"97.py', '61\"'],\n ['\"98.py', '8\"'],\n ['\"99.py', '10\"'],\n ['\"99.py', '14\"']]"
     },
     "execution_count": 30,
     "metadata": {},
     "output_type": "execute_result"
    }
   ],
   "source": [
    "with open(\"X:/UIUC/CS 598/ml4se/results/python/assignstmt.csv\") as fp:\n",
    "    assign_stmt = fp.read()\n",
    "    assign_stmt = [path.replace(PY_LOC, \"\").split(\":\") for path in assign_stmt.split(\"\\n\")]\n",
    "assign_stmt"
   ],
   "metadata": {
    "collapsed": false
   }
  },
  {
   "cell_type": "code",
   "execution_count": 31,
   "outputs": [
    {
     "data": {
      "text/plain": "[['\"10.py', '20\"'],\n ['\"10.py', '32\"'],\n ['\"10.py', '33\"'],\n ['\"36.py', '65\"'],\n ['\"36.py', '67\"'],\n ['\"36.py', '69\"'],\n ['\"43.py', '24\"'],\n ['\"43.py', '25\"'],\n ['\"8.py', '13\"'],\n ['\"8.py', '15\"']]"
     },
     "execution_count": 31,
     "metadata": {},
     "output_type": "execute_result"
    }
   ],
   "source": [
    "with open(\"X:/UIUC/CS 598/ml4se/results/python/augassign.csv\") as fp:\n",
    "    augassign = fp.read()\n",
    "    augassign = [path.replace(PY_LOC, \"\").split(\":\") for path in augassign.split(\"\\n\")]\n",
    "augassign"
   ],
   "metadata": {
    "collapsed": false
   }
  },
  {
   "cell_type": "code",
   "execution_count": 33,
   "outputs": [
    {
     "data": {
      "text/plain": "defaultdict(dict,\n            {'\"10.py': {'5\"': {'type': 'AssignStmt'},\n              '8\"': {'type': 'AssignStmt'},\n              '13\"': {'type': 'AssignStmt'},\n              '15\"': {'type': 'AssignStmt'},\n              '22\"': {'type': 'AssignStmt'},\n              '27\"': {'type': 'AssignStmt'},\n              '35\"': {'type': 'AssignStmt'},\n              '37\"': {'type': 'AssignStmt'},\n              '39\"': {'type': 'AssignStmt'},\n              '20\"': {'type': 'AugAssign'},\n              '32\"': {'type': 'AugAssign'},\n              '33\"': {'type': 'AugAssign'}},\n             '\"100.py': {'101\"': {'type': 'AssignStmt'},\n              '107\"': {'type': 'AssignStmt'},\n              '110\"': {'type': 'AssignStmt'},\n              '114\"': {'type': 'AssignStmt'},\n              '115\"': {'type': 'AssignStmt'},\n              '117\"': {'type': 'AssignStmt'},\n              '119\"': {'type': 'AssignStmt'},\n              '120\"': {'type': 'AssignStmt'},\n              '123\"': {'type': 'AssignStmt'},\n              '124\"': {'type': 'AssignStmt'},\n              '126\"': {'type': 'AssignStmt'},\n              '128\"': {'type': 'AssignStmt'},\n              '129\"': {'type': 'AssignStmt'},\n              '132\"': {'type': 'AssignStmt'},\n              '133\"': {'type': 'AssignStmt'},\n              '135\"': {'type': 'AssignStmt'},\n              '137\"': {'type': 'AssignStmt'},\n              '138\"': {'type': 'AssignStmt'},\n              '141\"': {'type': 'AssignStmt'},\n              '142\"': {'type': 'AssignStmt'},\n              '144\"': {'type': 'AssignStmt'},\n              '146\"': {'type': 'AssignStmt'},\n              '147\"': {'type': 'AssignStmt'},\n              '151\"': {'type': 'AssignStmt'},\n              '160\"': {'type': 'AssignStmt'},\n              '163\"': {'type': 'AssignStmt'},\n              '166\"': {'type': 'AssignStmt'},\n              '167\"': {'type': 'AssignStmt'},\n              '169\"': {'type': 'AssignStmt'},\n              '171\"': {'type': 'AssignStmt'},\n              '172\"': {'type': 'AssignStmt'},\n              '178\"': {'type': 'AssignStmt'},\n              '180\"': {'type': 'AssignStmt'},\n              '183\"': {'type': 'AssignStmt'},\n              '185\"': {'type': 'AssignStmt'},\n              '188\"': {'type': 'AssignStmt'},\n              '190\"': {'type': 'AssignStmt'},\n              '191\"': {'type': 'AssignStmt'},\n              '193\"': {'type': 'AssignStmt'},\n              '195\"': {'type': 'AssignStmt'},\n              '196\"': {'type': 'AssignStmt'},\n              '202\"': {'type': 'AssignStmt'},\n              '205\"': {'type': 'AssignStmt'},\n              '211\"': {'type': 'AssignStmt'},\n              '213\"': {'type': 'AssignStmt'},\n              '215\"': {'type': 'AssignStmt'},\n              '216\"': {'type': 'AssignStmt'},\n              '225\"': {'type': 'AssignStmt'},\n              '227\"': {'type': 'AssignStmt'},\n              '232\"': {'type': 'AssignStmt'},\n              '233\"': {'type': 'AssignStmt'},\n              '235\"': {'type': 'AssignStmt'},\n              '237\"': {'type': 'AssignStmt'}},\n             '\"11.py': {'12\"': {'type': 'AssignStmt'},\n              '16\"': {'type': 'AssignStmt'},\n              '17\"': {'type': 'AssignStmt'},\n              '20\"': {'type': 'AssignStmt'},\n              '27\"': {'type': 'AssignStmt'},\n              '29\"': {'type': 'AssignStmt'},\n              '30\"': {'type': 'AssignStmt'},\n              '33\"': {'type': 'AssignStmt'},\n              '35\"': {'type': 'AssignStmt'}},\n             '\"12.py': {'4\"': {'type': 'AssignStmt'}},\n             '\"14.py': {'17\"': {'type': 'AssignStmt'},\n              '18\"': {'type': 'AssignStmt'}},\n             '\"15.py': {'32\"': {'type': 'AssignStmt'},\n              '34\"': {'type': 'AssignStmt'},\n              '39\"': {'type': 'AssignStmt'}},\n             '\"17.py': {'17\"': {'type': 'AssignStmt'},\n              '18\"': {'type': 'AssignStmt'},\n              '19\"': {'type': 'AssignStmt'},\n              '20\"': {'type': 'AssignStmt'},\n              '22\"': {'type': 'AssignStmt'},\n              '31\"': {'type': 'AssignStmt'},\n              '32\"': {'type': 'AssignStmt'},\n              '34\"': {'type': 'AssignStmt'}},\n             '\"18.py': {'4\"': {'type': 'AssignStmt'},\n              '5\"': {'type': 'AssignStmt'},\n              '6\"': {'type': 'AssignStmt'},\n              '7\"': {'type': 'AssignStmt'},\n              '9\"': {'type': 'AssignStmt'},\n              '12\"': {'type': 'AssignStmt'},\n              '13\"': {'type': 'AssignStmt'},\n              '15\"': {'type': 'AssignStmt'},\n              '17\"': {'type': 'AssignStmt'},\n              '19\"': {'type': 'AssignStmt'},\n              '22\"': {'type': 'AssignStmt'},\n              '31\"': {'type': 'AssignStmt'},\n              '36\"': {'type': 'AssignStmt'},\n              '44\"': {'type': 'AssignStmt'},\n              '48\"': {'type': 'AssignStmt'},\n              '56\"': {'type': 'AssignStmt'}},\n             '\"19.py': {'33\"': {'type': 'AssignStmt'},\n              '37\"': {'type': 'AssignStmt'},\n              '43\"': {'type': 'AssignStmt'},\n              '45\"': {'type': 'AssignStmt'}},\n             '\"2.py': {'7\"': {'type': 'AssignStmt'}},\n             '\"20.py': {'12\"': {'type': 'AssignStmt'}},\n             '\"21.py': {'6\"': {'type': 'AssignStmt'}},\n             '\"22.py': {'21\"': {'type': 'AssignStmt'}},\n             '\"23.py': {'24\"': {'type': 'AssignStmt'},\n              '28\"': {'type': 'AssignStmt'},\n              '29\"': {'type': 'AssignStmt'},\n              '30\"': {'type': 'AssignStmt'},\n              '32\"': {'type': 'AssignStmt'},\n              '33\"': {'type': 'AssignStmt'},\n              '34\"': {'type': 'AssignStmt'},\n              '39\"': {'type': 'AssignStmt'},\n              '40\"': {'type': 'AssignStmt'}},\n             '\"24.py': {'6\"': {'type': 'AssignStmt'},\n              '7\"': {'type': 'AssignStmt'},\n              '13\"': {'type': 'AssignStmt'},\n              '14\"': {'type': 'AssignStmt'},\n              '15\"': {'type': 'AssignStmt'},\n              '20\"': {'type': 'AssignStmt'}},\n             '\"27.py': {'11\"': {'type': 'AssignStmt'},\n              '14\"': {'type': 'AssignStmt'},\n              '17\"': {'type': 'AssignStmt'}},\n             '\"28.py': {'10\"': {'type': 'AssignStmt'},\n              '11\"': {'type': 'AssignStmt'},\n              '12\"': {'type': 'AssignStmt'},\n              '13\"': {'type': 'AssignStmt'},\n              '15\"': {'type': 'AssignStmt'},\n              '17\"': {'type': 'AssignStmt'},\n              '18\"': {'type': 'AssignStmt'},\n              '19\"': {'type': 'AssignStmt'},\n              '20\"': {'type': 'AssignStmt'},\n              '21\"': {'type': 'AssignStmt'},\n              '26\"': {'type': 'AssignStmt'},\n              '27\"': {'type': 'AssignStmt'},\n              '28\"': {'type': 'AssignStmt'},\n              '29\"': {'type': 'AssignStmt'},\n              '32\"': {'type': 'AssignStmt'}},\n             '\"29.py': {'3\"': {'type': 'AssignStmt'},\n              '4\"': {'type': 'AssignStmt'},\n              '5\"': {'type': 'AssignStmt'},\n              '7\"': {'type': 'AssignStmt'}},\n             '\"3.py': {'18\"': {'type': 'AssignStmt'},\n              '27\"': {'type': 'AssignStmt'},\n              '30\"': {'type': 'AssignStmt'},\n              '31\"': {'type': 'AssignStmt'},\n              '32\"': {'type': 'AssignStmt'},\n              '33\"': {'type': 'AssignStmt'},\n              '34\"': {'type': 'AssignStmt'},\n              '35\"': {'type': 'AssignStmt'},\n              '40\"': {'type': 'AssignStmt'}},\n             '\"30.py': {'23\"': {'type': 'AssignStmt'},\n              '24\"': {'type': 'AssignStmt'}},\n             '\"31.py': {'24\"': {'type': 'AssignStmt'},\n              '25\"': {'type': 'AssignStmt'},\n              '27\"': {'type': 'AssignStmt'},\n              '29\"': {'type': 'AssignStmt'},\n              '30\"': {'type': 'AssignStmt'}},\n             '\"32.py': {'7\"': {'type': 'AssignStmt'},\n              '8\"': {'type': 'AssignStmt'}},\n             '\"33.py': {'51\"': {'type': 'AssignStmt'},\n              '53\"': {'type': 'AssignStmt'},\n              '56\"': {'type': 'AssignStmt'}},\n             '\"35.py': {'11\"': {'type': 'AssignStmt'},\n              '25\"': {'type': 'AssignStmt'},\n              '26\"': {'type': 'AssignStmt'},\n              '29\"': {'type': 'AssignStmt'},\n              '30\"': {'type': 'AssignStmt'},\n              '31\"': {'type': 'AssignStmt'},\n              '39\"': {'type': 'AssignStmt'},\n              '40\"': {'type': 'AssignStmt'},\n              '42\"': {'type': 'AssignStmt'},\n              '45\"': {'type': 'AssignStmt'},\n              '48\"': {'type': 'AssignStmt'},\n              '49\"': {'type': 'AssignStmt'},\n              '50\"': {'type': 'AssignStmt'},\n              '53\"': {'type': 'AssignStmt'},\n              '55\"': {'type': 'AssignStmt'},\n              '63\"': {'type': 'AssignStmt'},\n              '64\"': {'type': 'AssignStmt'},\n              '67\"': {'type': 'AssignStmt'},\n              '69\"': {'type': 'AssignStmt'},\n              '73\"': {'type': 'AssignStmt'},\n              '79\"': {'type': 'AssignStmt'}},\n             '\"36.py': {'52\"': {'type': 'AssignStmt'},\n              '57\"': {'type': 'AssignStmt'},\n              '59\"': {'type': 'AssignStmt'},\n              '63\"': {'type': 'AssignStmt'},\n              '70\"': {'type': 'AssignStmt'},\n              '71\"': {'type': 'AssignStmt'},\n              '75\"': {'type': 'AssignStmt'},\n              '77\"': {'type': 'AssignStmt'},\n              '79\"': {'type': 'AssignStmt'},\n              '101\"': {'type': 'AssignStmt'},\n              '108\"': {'type': 'AssignStmt'},\n              '111\"': {'type': 'AssignStmt'},\n              '113\"': {'type': 'AssignStmt'},\n              '115\"': {'type': 'AssignStmt'},\n              '65\"': {'type': 'AugAssign'},\n              '67\"': {'type': 'AugAssign'},\n              '69\"': {'type': 'AugAssign'}},\n             '\"37.py': {'11\"': {'type': 'AssignStmt'},\n              '16\"': {'type': 'AssignStmt'},\n              '17\"': {'type': 'AssignStmt'}},\n             '\"38.py': {'29\"': {'type': 'AssignStmt'},\n              '32\"': {'type': 'AssignStmt'}},\n             '\"39.py': {'18\"': {'type': 'AssignStmt'},\n              '22\"': {'type': 'AssignStmt'}},\n             '\"4.py': {'7\"': {'type': 'AssignStmt'},\n              '10\"': {'type': 'AssignStmt'}},\n             '\"40.py': {'6\"': {'type': 'AssignStmt'}},\n             '\"41.py': {'3\"': {'type': 'AssignStmt'},\n              '11\"': {'type': 'AssignStmt'}},\n             '\"42.py': {'27\"': {'type': 'AssignStmt'},\n              '28\"': {'type': 'AssignStmt'},\n              '29\"': {'type': 'AssignStmt'},\n              '42\"': {'type': 'AssignStmt'},\n              '43\"': {'type': 'AssignStmt'},\n              '44\"': {'type': 'AssignStmt'}},\n             '\"43.py': {'13\"': {'type': 'AssignStmt'},\n              '14\"': {'type': 'AssignStmt'},\n              '15\"': {'type': 'AssignStmt'},\n              '24\"': {'type': 'AugAssign'},\n              '25\"': {'type': 'AugAssign'}},\n             '\"44.py': {'13\"': {'type': 'AssignStmt'},\n              '17\"': {'type': 'AssignStmt'},\n              '25\"': {'type': 'AssignStmt'},\n              '35\"': {'type': 'AssignStmt'},\n              '37\"': {'type': 'AssignStmt'}},\n             '\"45.py': {'9\"': {'type': 'AssignStmt'},\n              '33\"': {'type': 'AssignStmt'},\n              '35\"': {'type': 'AssignStmt'},\n              '37\"': {'type': 'AssignStmt'},\n              '45\"': {'type': 'AssignStmt'},\n              '51\"': {'type': 'AssignStmt'},\n              '53\"': {'type': 'AssignStmt'},\n              '55\"': {'type': 'AssignStmt'},\n              '57\"': {'type': 'AssignStmt'},\n              '59\"': {'type': 'AssignStmt'},\n              '61\"': {'type': 'AssignStmt'},\n              '63\"': {'type': 'AssignStmt'},\n              '65\"': {'type': 'AssignStmt'},\n              '67\"': {'type': 'AssignStmt'},\n              '69\"': {'type': 'AssignStmt'},\n              '71\"': {'type': 'AssignStmt'},\n              '73\"': {'type': 'AssignStmt'},\n              '75\"': {'type': 'AssignStmt'},\n              '81\"': {'type': 'AssignStmt'},\n              '85\"': {'type': 'AssignStmt'},\n              '103\"': {'type': 'AssignStmt'},\n              '155\"': {'type': 'AssignStmt'},\n              '195\"': {'type': 'AssignStmt'},\n              '241\"': {'type': 'AssignStmt'},\n              '271\"': {'type': 'AssignStmt'},\n              '307\"': {'type': 'AssignStmt'},\n              '323\"': {'type': 'AssignStmt'},\n              '329\"': {'type': 'AssignStmt'},\n              '331\"': {'type': 'AssignStmt'},\n              '335\"': {'type': 'AssignStmt'},\n              '339\"': {'type': 'AssignStmt'},\n              '353\"': {'type': 'AssignStmt'},\n              '389\"': {'type': 'AssignStmt'},\n              '405\"': {'type': 'AssignStmt'},\n              '423\"': {'type': 'AssignStmt'},\n              '439\"': {'type': 'AssignStmt'},\n              '443\"': {'type': 'AssignStmt'},\n              '451\"': {'type': 'AssignStmt'},\n              '457\"': {'type': 'AssignStmt'},\n              '465\"': {'type': 'AssignStmt'},\n              '477\"': {'type': 'AssignStmt'},\n              '489\"': {'type': 'AssignStmt'}},\n             '\"46.py': {'6\"': {'type': 'AssignStmt'},\n              '10\"': {'type': 'AssignStmt'},\n              '15\"': {'type': 'AssignStmt'}},\n             '\"47.py': {'25\"': {'type': 'AssignStmt'},\n              '26\"': {'type': 'AssignStmt'},\n              '28\"': {'type': 'AssignStmt'},\n              '29\"': {'type': 'AssignStmt'},\n              '31\"': {'type': 'AssignStmt'},\n              '36\"': {'type': 'AssignStmt'},\n              '40\"': {'type': 'AssignStmt'},\n              '48\"': {'type': 'AssignStmt'},\n              '54\"': {'type': 'AssignStmt'},\n              '55\"': {'type': 'AssignStmt'},\n              '56\"': {'type': 'AssignStmt'}},\n             '\"48.py': {'31\"': {'type': 'AssignStmt'},\n              '32\"': {'type': 'AssignStmt'},\n              '34\"': {'type': 'AssignStmt'},\n              '40\"': {'type': 'AssignStmt'},\n              '45\"': {'type': 'AssignStmt'},\n              '47\"': {'type': 'AssignStmt'},\n              '51\"': {'type': 'AssignStmt'},\n              '53\"': {'type': 'AssignStmt'}},\n             '\"49.py': {'8\"': {'type': 'AssignStmt'}},\n             '\"5.py': {'33\"': {'type': 'AssignStmt'},\n              '34\"': {'type': 'AssignStmt'},\n              '35\"': {'type': 'AssignStmt'},\n              '49\"': {'type': 'AssignStmt'},\n              '51\"': {'type': 'AssignStmt'},\n              '57\"': {'type': 'AssignStmt'},\n              '66\"': {'type': 'AssignStmt'}},\n             '\"50.py': {'10\"': {'type': 'AssignStmt'},\n              '12\"': {'type': 'AssignStmt'},\n              '13\"': {'type': 'AssignStmt'}},\n             '\"52.py': {'17\"': {'type': 'AssignStmt'},\n              '20\"': {'type': 'AssignStmt'},\n              '24\"': {'type': 'AssignStmt'},\n              '29\"': {'type': 'AssignStmt'},\n              '35\"': {'type': 'AssignStmt'}},\n             '\"53.py': {'3\"': {'type': 'AssignStmt'},\n              '4\"': {'type': 'AssignStmt'},\n              '5\"': {'type': 'AssignStmt'},\n              '6\"': {'type': 'AssignStmt'},\n              '7\"': {'type': 'AssignStmt'},\n              '8\"': {'type': 'AssignStmt'},\n              '9\"': {'type': 'AssignStmt'},\n              '10\"': {'type': 'AssignStmt'},\n              '11\"': {'type': 'AssignStmt'},\n              '12\"': {'type': 'AssignStmt'}},\n             '\"54.py': {'17\"': {'type': 'AssignStmt'},\n              '20\"': {'type': 'AssignStmt'},\n              '33\"': {'type': 'AssignStmt'},\n              '39\"': {'type': 'AssignStmt'}},\n             '\"55.py': {'8\"': {'type': 'AssignStmt'},\n              '10\"': {'type': 'AssignStmt'},\n              '19\"': {'type': 'AssignStmt'}},\n             '\"56.py': {'4\"': {'type': 'AssignStmt'},\n              '5\"': {'type': 'AssignStmt'},\n              '9\"': {'type': 'AssignStmt'},\n              '15\"': {'type': 'AssignStmt'}},\n             '\"57.py': {'5\"': {'type': 'AssignStmt'},\n              '6\"': {'type': 'AssignStmt'},\n              '9\"': {'type': 'AssignStmt'},\n              '16\"': {'type': 'AssignStmt'},\n              '22\"': {'type': 'AssignStmt'},\n              '24\"': {'type': 'AssignStmt'},\n              '25\"': {'type': 'AssignStmt'},\n              '27\"': {'type': 'AssignStmt'},\n              '30\"': {'type': 'AssignStmt'},\n              '31\"': {'type': 'AssignStmt'},\n              '32\"': {'type': 'AssignStmt'},\n              '37\"': {'type': 'AssignStmt'},\n              '39\"': {'type': 'AssignStmt'},\n              '42\"': {'type': 'AssignStmt'},\n              '44\"': {'type': 'AssignStmt'},\n              '50\"': {'type': 'AssignStmt'},\n              '51\"': {'type': 'AssignStmt'},\n              '53\"': {'type': 'AssignStmt'},\n              '55\"': {'type': 'AssignStmt'},\n              '60\"': {'type': 'AssignStmt'},\n              '62\"': {'type': 'AssignStmt'},\n              '63\"': {'type': 'AssignStmt'},\n              '65\"': {'type': 'AssignStmt'},\n              '66\"': {'type': 'AssignStmt'}},\n             '\"58.py': {'8\"': {'type': 'AssignStmt'},\n              '9\"': {'type': 'AssignStmt'}},\n             '\"59.py': {'4\"': {'type': 'AssignStmt'}},\n             '\"6.py': {'6\"': {'type': 'AssignStmt'},\n              '7\"': {'type': 'AssignStmt'},\n              '9\"': {'type': 'AssignStmt'}},\n             '\"60.py': {'5\"': {'type': 'AssignStmt'}},\n             '\"61.py': {'6\"': {'type': 'AssignStmt'}},\n             '\"62.py': {'10\"': {'type': 'AssignStmt'},\n              '11\"': {'type': 'AssignStmt'},\n              '12\"': {'type': 'AssignStmt'},\n              '13\"': {'type': 'AssignStmt'}},\n             '\"64.py': {'3\"': {'type': 'AssignStmt'},\n              '4\"': {'type': 'AssignStmt'},\n              '8\"': {'type': 'AssignStmt'}},\n             '\"66.py': {'8\"': {'type': 'AssignStmt'}},\n             '\"68.py': {'6\"': {'type': 'AssignStmt'},\n              '17\"': {'type': 'AssignStmt'},\n              '19\"': {'type': 'AssignStmt'},\n              '21\"': {'type': 'AssignStmt'},\n              '36\"': {'type': 'AssignStmt'}},\n             '\"69.py': {'29\"': {'type': 'AssignStmt'},\n              '31\"': {'type': 'AssignStmt'},\n              '33\"': {'type': 'AssignStmt'}},\n             '\"7.py': {'19\"': {'type': 'AssignStmt'},\n              '23\"': {'type': 'AssignStmt'}},\n             '\"70.py': {'18\"': {'type': 'AssignStmt'},\n              '21\"': {'type': 'AssignStmt'},\n              '24\"': {'type': 'AssignStmt'},\n              '27\"': {'type': 'AssignStmt'},\n              '29\"': {'type': 'AssignStmt'},\n              '30\"': {'type': 'AssignStmt'},\n              '32\"': {'type': 'AssignStmt'}},\n             '\"71.py': {'4\"': {'type': 'AssignStmt'},\n              '8\"': {'type': 'AssignStmt'},\n              '10\"': {'type': 'AssignStmt'},\n              '13\"': {'type': 'AssignStmt'},\n              '18\"': {'type': 'AssignStmt'},\n              '20\"': {'type': 'AssignStmt'},\n              '26\"': {'type': 'AssignStmt'}},\n             '\"73.py': {'18\"': {'type': 'AssignStmt'},\n              '20\"': {'type': 'AssignStmt'}},\n             '\"74.py': {'17\"': {'type': 'AssignStmt'},\n              '20\"': {'type': 'AssignStmt'},\n              '33\"': {'type': 'AssignStmt'},\n              '39\"': {'type': 'AssignStmt'}},\n             '\"75.py': {'3\"': {'type': 'AssignStmt'}},\n             '\"76.py': {'6\"': {'type': 'AssignStmt'},\n              '8\"': {'type': 'AssignStmt'}},\n             '\"77.py': {'13\"': {'type': 'AssignStmt'},\n              '15\"': {'type': 'AssignStmt'},\n              '16\"': {'type': 'AssignStmt'},\n              '17\"': {'type': 'AssignStmt'},\n              '19\"': {'type': 'AssignStmt'},\n              '20\"': {'type': 'AssignStmt'},\n              '21\"': {'type': 'AssignStmt'}},\n             '\"78.py': {'3\"': {'type': 'AssignStmt'},\n              '4\"': {'type': 'AssignStmt'}},\n             '\"79.py': {'21\"': {'type': 'AssignStmt'},\n              '23\"': {'type': 'AssignStmt'},\n              '25\"': {'type': 'AssignStmt'},\n              '29\"': {'type': 'AssignStmt'},\n              '33\"': {'type': 'AssignStmt'},\n              '34\"': {'type': 'AssignStmt'},\n              '36\"': {'type': 'AssignStmt'}},\n             '\"8.py': {'9\"': {'type': 'AssignStmt'},\n              '13\"': {'type': 'AugAssign'},\n              '15\"': {'type': 'AugAssign'}},\n             '\"80.py': {'9\"': {'type': 'AssignStmt'}},\n             '\"81.py': {'11\"': {'type': 'AssignStmt'},\n              '12\"': {'type': 'AssignStmt'}},\n             '\"82.py': {'30\"': {'type': 'AssignStmt'},\n              '43\"': {'type': 'AssignStmt'},\n              '44\"': {'type': 'AssignStmt'},\n              '45\"': {'type': 'AssignStmt'},\n              '47\"': {'type': 'AssignStmt'},\n              '48\"': {'type': 'AssignStmt'},\n              '50\"': {'type': 'AssignStmt'},\n              '60\"': {'type': 'AssignStmt'},\n              '64\"': {'type': 'AssignStmt'},\n              '79\"': {'type': 'AssignStmt'},\n              '84\"': {'type': 'AssignStmt'},\n              '89\"': {'type': 'AssignStmt'},\n              '94\"': {'type': 'AssignStmt'},\n              '95\"': {'type': 'AssignStmt'},\n              '98\"': {'type': 'AssignStmt'},\n              '99\"': {'type': 'AssignStmt'},\n              '100\"': {'type': 'AssignStmt'},\n              '104\"': {'type': 'AssignStmt'},\n              '105\"': {'type': 'AssignStmt'}},\n             '\"83.py': {'22\"': {'type': 'AssignStmt'},\n              '23\"': {'type': 'AssignStmt'},\n              '24\"': {'type': 'AssignStmt'},\n              '29\"': {'type': 'AssignStmt'},\n              '32\"': {'type': 'AssignStmt'},\n              '34\"': {'type': 'AssignStmt'},\n              '35\"': {'type': 'AssignStmt'},\n              '38\"': {'type': 'AssignStmt'},\n              '40\"': {'type': 'AssignStmt'},\n              '41\"': {'type': 'AssignStmt'},\n              '48\"': {'type': 'AssignStmt'},\n              '50\"': {'type': 'AssignStmt'}},\n             '\"84.py': {'3\"': {'type': 'AssignStmt'},\n              '5\"': {'type': 'AssignStmt'},\n              '6\"': {'type': 'AssignStmt'}},\n             '\"85.py': {'7\"': {'type': 'AssignStmt'},\n              '8\"': {'type': 'AssignStmt'},\n              '10\"': {'type': 'AssignStmt'},\n              '12\"': {'type': 'AssignStmt'},\n              '14\"': {'type': 'AssignStmt'}},\n             '\"86.py': {'15\"': {'type': 'AssignStmt'},\n              '16\"': {'type': 'AssignStmt'},\n              '17\"': {'type': 'AssignStmt'},\n              '18\"': {'type': 'AssignStmt'}},\n             '\"87.py': {'5\"': {'type': 'AssignStmt'},\n              '6\"': {'type': 'AssignStmt'},\n              '7\"': {'type': 'AssignStmt'},\n              '8\"': {'type': 'AssignStmt'},\n              '9\"': {'type': 'AssignStmt'},\n              '10\"': {'type': 'AssignStmt'}},\n             '\"88.py': {'7\"': {'type': 'AssignStmt'}},\n             '\"89.py': {'35\"': {'type': 'AssignStmt'},\n              '37\"': {'type': 'AssignStmt'}},\n             '\"90.py': {'18\"': {'type': 'AssignStmt'},\n              '20\"': {'type': 'AssignStmt'},\n              '22\"': {'type': 'AssignStmt'}},\n             '\"91.py': {'22\"': {'type': 'AssignStmt'},\n              '26\"': {'type': 'AssignStmt'}},\n             '\"92.py': {'14\"': {'type': 'AssignStmt'},\n              '16\"': {'type': 'AssignStmt'}},\n             '\"93.py': {'16\"': {'type': 'AssignStmt'},\n              '20\"': {'type': 'AssignStmt'}},\n             '\"94.py': {'30\"': {'type': 'AssignStmt'},\n              '34\"': {'type': 'AssignStmt'},\n              '35\"': {'type': 'AssignStmt'},\n              '38\"': {'type': 'AssignStmt'},\n              '41\"': {'type': 'AssignStmt'}},\n             '\"95.py': {'22\"': {'type': 'AssignStmt'},\n              '23\"': {'type': 'AssignStmt'}},\n             '\"96.py': {'50\"': {'type': 'AssignStmt'},\n              '54\"': {'type': 'AssignStmt'},\n              '56\"': {'type': 'AssignStmt'},\n              '60\"': {'type': 'AssignStmt'},\n              '63\"': {'type': 'AssignStmt'},\n              '75\"': {'type': 'AssignStmt'},\n              '76\"': {'type': 'AssignStmt'},\n              '77\"': {'type': 'AssignStmt'},\n              '89\"': {'type': 'AssignStmt'},\n              '92\"': {'type': 'AssignStmt'},\n              '94\"': {'type': 'AssignStmt'}},\n             '\"97.py': {'15\"': {'type': 'AssignStmt'},\n              '19\"': {'type': 'AssignStmt'},\n              '23\"': {'type': 'AssignStmt'},\n              '26\"': {'type': 'AssignStmt'},\n              '28\"': {'type': 'AssignStmt'},\n              '30\"': {'type': 'AssignStmt'},\n              '34\"': {'type': 'AssignStmt'},\n              '36\"': {'type': 'AssignStmt'},\n              '38\"': {'type': 'AssignStmt'},\n              '42\"': {'type': 'AssignStmt'},\n              '45\"': {'type': 'AssignStmt'},\n              '52\"': {'type': 'AssignStmt'},\n              '56\"': {'type': 'AssignStmt'},\n              '61\"': {'type': 'AssignStmt'}},\n             '\"98.py': {'8\"': {'type': 'AssignStmt'}},\n             '\"99.py': {'10\"': {'type': 'AssignStmt'},\n              '14\"': {'type': 'AssignStmt'}}})"
     },
     "execution_count": 33,
     "metadata": {},
     "output_type": "execute_result"
    }
   ],
   "source": [
    "all_stmt = defaultdict(dict)\n",
    "\n",
    "for stmt in assign_stmt:\n",
    "    all_stmt[stmt[0]][stmt[1]] = {\"type\": ASSIGN_STMT}\n",
    "\n",
    "for stmt in augassign:\n",
    "    all_stmt[stmt[0]][stmt[1]] = {\"type\": AUG_ASSIGN}\n",
    "\n",
    "all_stmt"
   ],
   "metadata": {
    "collapsed": false
   }
  },
  {
   "cell_type": "markdown",
   "source": [
    "# Control Flow"
   ],
   "metadata": {
    "collapsed": false
   }
  },
  {
   "cell_type": "code",
   "execution_count": 142,
   "outputs": [
    {
     "data": {
      "text/plain": "[['10.py', '27', '39', '40'],\n ['10.py', '27', '40', '40'],\n ['100.py', '117', '119', '120'],\n ['100.py', '117', '120', '120'],\n ['100.py', '126', '128', '129'],\n ['100.py', '126', '129', '129'],\n ['100.py', '135', '137', '138'],\n ['100.py', '135', '138', '138'],\n ['100.py', '144', '146', '147'],\n ['100.py', '144', '147', '147'],\n ['100.py', '160', '166', '172'],\n ['100.py', '160', '167', '172'],\n ['100.py', '160', '168', '172'],\n ['100.py', '169', '171', '172'],\n ['100.py', '169', '172', '172'],\n ['100.py', '178', '182', '196'],\n ['100.py', '183', '188', '196'],\n ['100.py', '183', '190', '196'],\n ['100.py', '183', '191', '196'],\n ['100.py', '183', '192', '196'],\n ['100.py', '193', '195', '196'],\n ['100.py', '193', '196', '196'],\n ['100.py', '209', '221', '235'],\n ['100.py', '223', '235', '235'],\n ['11.py', '26', '32', '35'],\n ['14.py', '21', '25', '26'],\n ['14.py', '21', '26', '26'],\n ['15.py', '32', '33', '34'],\n ['18.py', '15', '16', '21'],\n ['18.py', '17', '18', '21'],\n ['18.py', '19', '21', '21'],\n ['19.py', '43', '45', '45'],\n ['20.py', '14', '16', '16'],\n ['23.py', '28', '32', '34'],\n ['23.py', '28', '33', '34'],\n ['23.py', '28', '34', '34'],\n ['29.py', '3', '4', '4'],\n ['3.py', '23', '25', '25'],\n ['36.py', '108', '110', '115'],\n ['36.py', '108', '115', '115'],\n ['36.py', '111', '113', '113'],\n ['36.py', '65', '66', '70'],\n ['36.py', '67', '69', '70'],\n ['36.py', '67', '70', '70'],\n ['36.py', '75', '77', '77'],\n ['39.py', '20', '22', '23'],\n ['39.py', '20', '23', '23'],\n ['4.py', '15', '16', '17'],\n ['44.py', '17', '29', '37'],\n ['44.py', '17', '35', '37'],\n ['44.py', '17', '37', '37'],\n ['45.py', '15', '19', '39'],\n ['45.py', '15', '27', '39'],\n ['45.py', '15', '33', '39'],\n ['45.py', '15', '35', '39'],\n ['45.py', '15', '37', '39'],\n ['45.py', '15', '39', '39'],\n ['45.py', '489', '493', '501'],\n ['45.py', '489', '495', '501'],\n ['45.py', '489', '499', '501'],\n ['46.py', '10', '15', '18'],\n ['46.py', '10', '16', '18'],\n ['46.py', '10', '18', '18'],\n ['5.py', '40', '42', '47'],\n ['5.py', '43', '46', '47'],\n ['5.py', '63', '66', '66'],\n ['50.py', '18', '20', '24'],\n ['50.py', '18', '24', '24'],\n ['55.py', '17', '19', '19'],\n ['57.py', '22', '27', '27'],\n ['58.py', '12', '14', '14'],\n ['61.py', '6', '11', '11'],\n ['68.py', '27', '31', '31'],\n ['69.py', '25', '31', '31'],\n ['7.py', '21', '23', '24'],\n ['7.py', '21', '24', '24'],\n ['73.py', '14', '22', '22'],\n ['73.py', '18', '20', '20'],\n ['82.py', '43', '47', '48'],\n ['82.py', '43', '48', '48'],\n ['82.py', '84', '97', '100'],\n ['83.py', '32', '37', '52'],\n ['83.py', '38', '43', '52'],\n ['83.py', '48', '52', '52'],\n ['91.py', '24', '26', '27'],\n ['91.py', '24', '27', '27'],\n ['97.py', '33', '50', '59'],\n ['97.py', '33', '52', '59'],\n ['97.py', '33', '53', '59'],\n ['97.py', '34', '36', '36']]"
     },
     "execution_count": 142,
     "metadata": {},
     "output_type": "execute_result"
    }
   ],
   "source": [
    "# CONTROL FLOW\n",
    "control = defaultdict(dict)\n",
    "with open(\"X:/UIUC/CS 598/ml4se/results/python/control-if.csv\") as fp:\n",
    "    lines = fp.read().split('\\n')\n",
    "    control_if = []\n",
    "    for line in lines:\n",
    "        control_if.append([path.replace(PY_LOC, \"\").replace('\"', '') for path in line.split(\",\")])\n",
    "\n",
    "    for ctrl_if in control_if:\n",
    "        ctrl_if[1] = ctrl_if[1].replace(ctrl_if[0] + \":\", \"\")\n",
    "        ctrl_if[2] = ctrl_if[2].replace(ctrl_if[0] + \":\", \"\")\n",
    "sorted(control_if) # File, BodyStart, Last\n",
    "\n",
    "with open(\"X:/UIUC/CS 598/ml4se/results/python/control-if-else.csv\") as fp:\n",
    "    lines = fp.read().split('\\n')\n",
    "    control_if_else = []\n",
    "    for line in lines:\n",
    "        control_if_else.append([path.replace(PY_LOC, \"\").replace('\"', '') for path in line.split(\",\")])\n",
    "\n",
    "    for ctrl_if in control_if_else:\n",
    "        ctrl_if[1] = ctrl_if[1].replace(ctrl_if[0] + \":\", \"\")\n",
    "        ctrl_if[2] = ctrl_if[2].replace(ctrl_if[0] + \":\", \"\")\n",
    "        ctrl_if[3] = ctrl_if[3].replace(ctrl_if[0] + \":\", \"\")\n",
    "sorted(control_if_else) # File, BodyStart, Else, Last\n"
   ],
   "metadata": {
    "collapsed": false
   }
  },
  {
   "cell_type": "code",
   "execution_count": 143,
   "outputs": [],
   "source": [
    "for iff in control_if:\n",
    "    control[iff[0]][iff[1]] = {\"type\": \"IF\", \"last\": iff[2]}\n",
    "\n",
    "for iff in control_if_else:\n",
    "    control[iff[0]][iff[1]] = {\"type\": \"IF-ELSE\", \"else\": iff[2], \"last\": iff[3]}"
   ],
   "metadata": {
    "collapsed": false
   }
  },
  {
   "cell_type": "code",
   "execution_count": 145,
   "outputs": [
    {
     "data": {
      "text/plain": "{'48': {'type': 'IF', 'last': '48'},\n '52': {'type': 'IF', 'last': '52'},\n '60': {'type': 'IF', 'last': '61'},\n '69': {'type': 'IF', 'last': '69'},\n '84': {'type': 'IF', 'last': '84'},\n '94': {'type': 'IF', 'last': '94'},\n '42': {'type': 'IF', 'last': '42'},\n '65': {'type': 'IF', 'last': '65'},\n '81': {'type': 'IF', 'last': '81'},\n '96': {'type': 'IF', 'last': '96'}}"
     },
     "execution_count": 145,
     "metadata": {},
     "output_type": "execute_result"
    }
   ],
   "source": [
    "control[\"96.py\"]"
   ],
   "metadata": {
    "collapsed": false
   }
  },
  {
   "cell_type": "code",
   "execution_count": 156,
   "outputs": [],
   "source": [
    "def read_code(file):\n",
    "    with open(PY_LOC + file, 'r') as reader:\n",
    "        return reader.read().split(\"\\n\")"
   ],
   "metadata": {
    "collapsed": false
   }
  },
  {
   "cell_type": "code",
   "execution_count": 159,
   "outputs": [
    {
     "name": "stdout",
     "output_type": "stream",
     "text": [
      "3.py\n",
      "echo 'digraph {start->if18_26;if18_26->if_block2[label='True'];if18_26->block3[label='False'];if_block2->block3;block3->if29_29;if29_29->if_block4[label='True'];if29_29->block5[label='False'];if_block4->block5;block5->end}' | dot -Tsvg > 3.svg\n",
      "4.py\n",
      "echo 'digraph {start->if15_17;if15_17->if_block2[label='True'];if15_17->else_block3[label='False'];else_block3->block4;if_block2->block4;block4->if6_6;if6_6->if_block5[label='True'];if6_6->block6[label='False'];if_block5->block6;block6->end}' | dot -Tsvg > 4.svg\n",
      "5.py\n",
      "echo 'digraph {start->if40_47;if40_47->if_block2[label='True'];if40_47->else_block3[label='False'];else_block3->block4;if_block2->block4;block4->if51_51;if51_51->if_block5[label='True'];if51_51->block6[label='False'];if_block5->block6;block6->if57_66;if57_66->if_block7[label='True'];if57_66->block8[label='False'];if_block7->block8;block8->end}' | dot -Tsvg > 5.svg\n",
      "6.py\n",
      "echo 'digraph {start->if7_7;if7_7->if_block2[label='True'];if7_7->block3[label='False'];if_block2->block3;block3->end}' | dot -Tsvg > 6.svg\n",
      "7.py\n",
      "echo 'digraph {start->if21_24;if21_24->if_block2[label='True'];if21_24->else_block3[label='False'];else_block3->block4;if_block2->block4;block4->end}' | dot -Tsvg > 7.svg\n",
      "8.py\n",
      "echo 'digraph {start->if11_11;if11_11->if_block2[label='True'];if11_11->block3[label='False'];if_block2->block3;block3->if15_15;if15_15->if_block4[label='True'];if15_15->block5[label='False'];if_block4->block5;block5->if6_6;if6_6->if_block6[label='True'];if6_6->block7[label='False'];if_block6->block7;block7->if8_8;if8_8->if_block8[label='True'];if8_8->block9[label='False'];if_block8->block9;block9->end}' | dot -Tsvg > 8.svg\n",
      "10.py\n",
      "echo 'digraph {start->if17_18;if17_18->if_block2[label='True'];if17_18->block3[label='False'];if_block2->block3;block3->if27_40;if27_40->if_block4[label='True'];if27_40->else_block5[label='False'];else_block5->block6;if_block4->block6;block6->end}' | dot -Tsvg > 10.svg\n",
      "11.py\n",
      "echo 'digraph {start->if22_22;if22_22->if_block2[label='True'];if22_22->block3[label='False'];if_block2->block3;block3->if26_35;if26_35->if_block4[label='True'];if26_35->else_block5[label='False'];else_block5->block6;if_block4->block6;block6->if9_9;if9_9->if_block7[label='True'];if9_9->block8[label='False'];if_block7->block8;block8->end}' | dot -Tsvg > 11.svg\n",
      "12.py\n",
      "echo 'digraph {start->if5_5;if5_5->if_block2[label='True'];if5_5->block3[label='False'];if_block2->block3;block3->end}' | dot -Tsvg > 12.svg\n",
      "14.py\n",
      "echo 'digraph {start->if21_26;if21_26->if_block2[label='True'];if21_26->else_block3[label='False'];else_block3->block4;if_block2->block4;block4->end}' | dot -Tsvg > 14.svg\n",
      "15.py\n",
      "echo 'digraph {start->if32_34;if32_34->if_block2[label='True'];if32_34->else_block3[label='False'];else_block3->block4;if_block2->block4;block4->if37_37;if37_37->if_block5[label='True'];if37_37->block6[label='False'];if_block5->block6;block6->end}' | dot -Tsvg > 15.svg\n",
      "17.py\n",
      "echo 'digraph {start->if22_23;if22_23->if_block2[label='True'];if22_23->block3[label='False'];if_block2->block3;block3->if27_27;if27_27->if_block4[label='True'];if27_27->block5[label='False'];if_block4->block5;block5->if30_30;if30_30->if_block6[label='True'];if30_30->block7[label='False'];if_block6->block7;block7->if34_34;if34_34->if_block8[label='True'];if34_34->block9[label='False'];if_block8->block9;block9->end}' | dot -Tsvg > 17.svg\n",
      "18.py\n",
      "echo 'digraph {start->if15_21;if15_21->if_block2[label='True'];if15_21->else_block3[label='False'];else_block3->block4;if_block2->block4;block4->end}' | dot -Tsvg > 18.svg\n",
      "19.py\n",
      "echo 'digraph {start->if29_29;if29_29->if_block2[label='True'];if29_29->block3[label='False'];if_block2->block3;block3->if31_31;if31_31->if_block4[label='True'];if31_31->block5[label='False'];if_block4->block5;block5->if35_35;if35_35->if_block6[label='True'];if35_35->block7[label='False'];if_block6->block7;block7->if40_40;if40_40->if_block8[label='True'];if40_40->block9[label='False'];if_block8->block9;block9->if43_45;if43_45->if_block10[label='True'];if43_45->else_block11[label='False'];else_block11->block12;if_block10->block12;block12->if50_50;if50_50->if_block13[label='True'];if50_50->block14[label='False'];if_block13->block14;block14->end}' | dot -Tsvg > 19.svg\n",
      "20.py\n",
      "echo 'digraph {start->if14_16;if14_16->if_block2[label='True'];if14_16->else_block3[label='False'];else_block3->block4;if_block2->block4;block4->end}' | dot -Tsvg > 20.svg\n",
      "21.py\n",
      "echo 'digraph {start->if7_7;if7_7->if_block2[label='True'];if7_7->block3[label='False'];if_block2->block3;block3->end}' | dot -Tsvg > 21.svg\n",
      "22.py\n",
      "echo 'digraph {start->if23_23;if23_23->if_block2[label='True'];if23_23->block3[label='False'];if_block2->block3;block3->end}' | dot -Tsvg > 22.svg\n",
      "23.py\n",
      "echo 'digraph {start->if28_34;if28_34->if_block2[label='True'];if28_34->else_block3[label='False'];else_block3->block4;if_block2->block4;block4->end}' | dot -Tsvg > 23.svg\n",
      "24.py\n",
      "echo 'digraph {start->if11_11;if11_11->if_block2[label='True'];if11_11->block3[label='False'];if_block2->block3;block3->if18_18;if18_18->if_block4[label='True'];if18_18->block5[label='False'];if_block4->block5;block5->if20_20;if20_20->if_block6[label='True'];if20_20->block7[label='False'];if_block6->block7;block7->end}' | dot -Tsvg > 24.svg\n",
      "25.py\n",
      "echo 'digraph {start->if27_29;if27_29->if_block2[label='True'];if27_29->block3[label='False'];if_block2->block3;block3->end}' | dot -Tsvg > 25.svg\n",
      "26.py\n",
      "echo 'digraph {start->if4_4;if4_4->if_block2[label='True'];if4_4->block3[label='False'];if_block2->block3;block3->end}' | dot -Tsvg > 26.svg\n",
      "27.py\n",
      "echo 'digraph {start->if22_22;if22_22->if_block2[label='True'];if22_22->block3[label='False'];if_block2->block3;block3->if7_7;if7_7->if_block4[label='True'];if7_7->block5[label='False'];if_block4->block5;block5->end}' | dot -Tsvg > 27.svg\n",
      "28.py\n",
      "echo 'digraph {start->if24_24;if24_24->if_block2[label='True'];if24_24->block3[label='False'];if_block2->block3;block3->end}' | dot -Tsvg > 28.svg\n",
      "29.py\n",
      "echo 'digraph {start->if3_4;if3_4->if_block2[label='True'];if3_4->else_block3[label='False'];else_block3->block4;if_block2->block4;block4->if6_6;if6_6->if_block5[label='True'];if6_6->block6[label='False'];if_block5->block6;block6->end}' | dot -Tsvg > 29.svg\n",
      "30.py\n",
      "echo 'digraph {start->if21_21;if21_21->if_block2[label='True'];if21_21->block3[label='False'];if_block2->block3;block3->end}' | dot -Tsvg > 30.svg\n",
      "31.py\n",
      "echo 'digraph {start->if27_27;if27_27->if_block2[label='True'];if27_27->block3[label='False'];if_block2->block3;block3->if29_29;if29_29->if_block4[label='True'];if29_29->block5[label='False'];if_block4->block5;block5->if37_37;if37_37->if_block6[label='True'];if37_37->block7[label='False'];if_block6->block7;block7->end}' | dot -Tsvg > 31.svg\n",
      "33.py\n",
      "echo 'digraph {start->if58_58;if58_58->if_block2[label='True'];if58_58->block3[label='False'];if_block2->block3;block3->end}' | dot -Tsvg > 33.svg\n",
      "35.py\n",
      "echo 'digraph {start->if15_15;if15_15->if_block2[label='True'];if15_15->block3[label='False'];if_block2->block3;block3->if20_20;if20_20->if_block4[label='True'];if20_20->block5[label='False'];if_block4->block5;block5->if42_42;if42_42->if_block6[label='True'];if42_42->block7[label='False'];if_block6->block7;block7->if57_57;if57_57->if_block8[label='True'];if57_57->block9[label='False'];if_block8->block9;block9->if67_67;if67_67->if_block10[label='True'];if67_67->block11[label='False'];if_block10->block11;block11->if78_79;if78_79->if_block12[label='True'];if78_79->block13[label='False'];if_block12->block13;block13->end}' | dot -Tsvg > 35.svg\n",
      "36.py\n",
      "echo 'digraph {start->if108_115;if108_115->if_block2[label='True'];if108_115->else_block3[label='False'];else_block3->block4;if_block2->block4;block4->if52_72;if52_72->if_block5[label='True'];if52_72->block6[label='False'];if_block5->block6;block6->if75_77;if75_77->if_block7[label='True'];if75_77->else_block8[label='False'];else_block8->block9;if_block7->block9;block9->end}' | dot -Tsvg > 36.svg\n",
      "37.py\n",
      "echo 'digraph {start->if16_17;if16_17->if_block2[label='True'];if16_17->block3[label='False'];if_block2->block3;block3->if9_9;if9_9->if_block4[label='True'];if9_9->block5[label='False'];if_block4->block5;block5->end}' | dot -Tsvg > 37.svg\n",
      "39.py\n",
      "echo 'digraph {start->if20_23;if20_23->if_block2[label='True'];if20_23->else_block3[label='False'];else_block3->block4;if_block2->block4;block4->end}' | dot -Tsvg > 39.svg\n",
      "40.py\n",
      "echo 'digraph {start->if12_12;if12_12->if_block2[label='True'];if12_12->block3[label='False'];if_block2->block3;block3->end}' | dot -Tsvg > 40.svg\n",
      "41.py\n",
      "echo 'digraph {start->if5_6;if5_6->if_block2[label='True'];if5_6->block3[label='False'];if_block2->block3;block3->end}' | dot -Tsvg > 41.svg\n",
      "42.py\n",
      "echo 'digraph {start->if39_40;if39_40->if_block2[label='True'];if39_40->block3[label='False'];if_block2->block3;block3->end}' | dot -Tsvg > 42.svg\n",
      "44.py\n",
      "echo 'digraph {start->if17_37;if17_37->if_block2[label='True'];if17_37->else_block3[label='False'];else_block3->block4;if_block2->block4;block4->end}' | dot -Tsvg > 44.svg\n",
      "45.py\n",
      "echo 'digraph {start->if15_39;if15_39->if_block2[label='True'];if15_39->else_block3[label='False'];else_block3->block4;if_block2->block4;block4->if339_339;if339_339->if_block5[label='True'];if339_339->block6[label='False'];if_block5->block6;block6->if343_343;if343_343->if_block7[label='True'];if343_343->block8[label='False'];if_block7->block8;block8->if347_347;if347_347->if_block9[label='True'];if347_347->block10[label='False'];if_block9->block10;block10->if393_393;if393_393->if_block11[label='True'];if393_393->block12[label='False'];if_block11->block12;block12->if443_445;if443_445->if_block13[label='True'];if443_445->block14[label='False'];if_block13->block14;block14->if457_459;if457_459->if_block15[label='True'];if457_459->block16[label='False'];if_block15->block16;block16->if471_471;if471_471->if_block17[label='True'];if471_471->block18[label='False'];if_block17->block18;block18->if483_483;if483_483->if_block19[label='True'];if483_483->block20[label='False'];if_block19->block20;block20->if489_501;if489_501->if_block21[label='True'];if489_501->else_block22[label='False'];else_block22->block23;if_block21->block23;block23->end}' | dot -Tsvg > 45.svg\n",
      "46.py\n",
      "echo 'digraph {start->if10_18;if10_18->if_block2[label='True'];if10_18->else_block3[label='False'];else_block3->block4;if_block2->block4;block4->if6_6;if6_6->if_block5[label='True'];if6_6->block6[label='False'];if_block5->block6;block6->end}' | dot -Tsvg > 46.svg\n",
      "47.py\n",
      "echo 'digraph {start->if18_18;if18_18->if_block2[label='True'];if18_18->block3[label='False'];if_block2->block3;block3->if23_26;if23_26->if_block4[label='True'];if23_26->block5[label='False'];if_block4->block5;block5->end}' | dot -Tsvg > 47.svg\n",
      "48.py\n",
      "echo 'digraph {start->if29_29;if29_29->if_block2[label='True'];if29_29->block3[label='False'];if_block2->block3;block3->if34_41;if34_41->if_block4[label='True'];if34_41->block5[label='False'];if_block4->block5;block5->if51_51;if51_51->if_block6[label='True'];if51_51->block7[label='False'];if_block6->block7;block7->end}' | dot -Tsvg > 48.svg\n",
      "50.py\n",
      "echo 'digraph {start->if18_24;if18_24->if_block2[label='True'];if18_24->else_block3[label='False'];else_block3->block4;if_block2->block4;block4->end}' | dot -Tsvg > 50.svg\n",
      "52.py\n",
      "echo 'digraph {start->if20_35;if20_35->if_block2[label='True'];if20_35->block3[label='False'];if_block2->block3;block3->end}' | dot -Tsvg > 52.svg\n",
      "54.py\n",
      "echo 'digraph {start->if33_33;if33_33->if_block2[label='True'];if33_33->block3[label='False'];if_block2->block3;block3->if37_37;if37_37->if_block4[label='True'];if37_37->block5[label='False'];if_block4->block5;block5->if39_39;if39_39->if_block6[label='True'];if39_39->block7[label='False'];if_block6->block7;block7->if40_40;if40_40->if_block8[label='True'];if40_40->block9[label='False'];if_block8->block9;block9->end}' | dot -Tsvg > 54.svg\n",
      "55.py\n",
      "echo 'digraph {start->if17_19;if17_19->if_block2[label='True'];if17_19->else_block3[label='False'];else_block3->block4;if_block2->block4;block4->end}' | dot -Tsvg > 55.svg\n",
      "56.py\n",
      "echo 'digraph {start->if8_9;if8_9->if_block2[label='True'];if8_9->block3[label='False'];if_block2->block3;block3->end}' | dot -Tsvg > 56.svg\n",
      "57.py\n",
      "echo 'digraph {start->if12_18;if12_18->if_block2[label='True'];if12_18->block3[label='False'];if_block2->block3;block3->if22_27;if22_27->if_block4[label='True'];if22_27->else_block5[label='False'];else_block5->block6;if_block4->block6;block6->if37_39;if37_39->if_block7[label='True'];if37_39->block8[label='False'];if_block7->block8;block8->if42_44;if42_44->if_block9[label='True'];if42_44->block10[label='False'];if_block9->block10;block10->if60_60;if60_60->if_block11[label='True'];if60_60->block12[label='False'];if_block11->block12;block12->if68_68;if68_68->if_block13[label='True'];if68_68->block14[label='False'];if_block13->block14;block14->end}' | dot -Tsvg > 57.svg\n",
      "58.py\n",
      "echo 'digraph {start->if12_14;if12_14->if_block2[label='True'];if12_14->else_block3[label='False'];else_block3->block4;if_block2->block4;block4->end}' | dot -Tsvg > 58.svg\n",
      "59.py\n",
      "echo 'digraph {start->if5_5;if5_5->if_block2[label='True'];if5_5->block3[label='False'];if_block2->block3;block3->end}' | dot -Tsvg > 59.svg\n",
      "60.py\n",
      "echo 'digraph {start->if5_5;if5_5->if_block2[label='True'];if5_5->block3[label='False'];if_block2->block3;block3->end}' | dot -Tsvg > 60.svg\n",
      "61.py\n",
      "echo 'digraph {start->if6_11;if6_11->if_block2[label='True'];if6_11->else_block3[label='False'];else_block3->block4;if_block2->block4;block4->end}' | dot -Tsvg > 61.svg\n",
      "64.py\n",
      "echo 'digraph {start->if6_7;if6_7->if_block2[label='True'];if6_7->block3[label='False'];if_block2->block3;block3->end}' | dot -Tsvg > 64.svg\n",
      "66.py\n",
      "echo 'digraph {start->if13_13;if13_13->if_block2[label='True'];if13_13->block3[label='False'];if_block2->block3;block3->if16_18;if16_18->if_block4[label='True'];if16_18->block5[label='False'];if_block4->block5;block5->end}' | dot -Tsvg > 66.svg\n",
      "67.py\n",
      "echo 'digraph {start->if16_16;if16_16->if_block2[label='True'];if16_16->block3[label='False'];if_block2->block3;block3->end}' | dot -Tsvg > 67.svg\n",
      "68.py\n",
      "echo 'digraph {start->if27_31;if27_31->if_block2[label='True'];if27_31->else_block3[label='False'];else_block3->block4;if_block2->block4;block4->if34_34;if34_34->if_block5[label='True'];if34_34->block6[label='False'];if_block5->block6;block6->end}' | dot -Tsvg > 68.svg\n",
      "69.py\n",
      "echo 'digraph {start->if25_31;if25_31->if_block2[label='True'];if25_31->else_block3[label='False'];else_block3->block4;if_block2->block4;block4->end}' | dot -Tsvg > 69.svg\n",
      "70.py\n",
      "echo 'digraph {start->if9_9;if9_9->if_block2[label='True'];if9_9->block3[label='False'];if_block2->block3;block3->end}' | dot -Tsvg > 70.svg\n",
      "71.py\n",
      "echo 'digraph {start->if10_10;if10_10->if_block2[label='True'];if10_10->block3[label='False'];if_block2->block3;block3->if20_20;if20_20->if_block4[label='True'];if20_20->block5[label='False'];if_block4->block5;block5->if26_26;if26_26->if_block6[label='True'];if26_26->block7[label='False'];if_block6->block7;block7->end}' | dot -Tsvg > 71.svg\n",
      "72.py\n",
      "echo 'digraph {start->if4_5;if4_5->if_block2[label='True'];if4_5->block3[label='False'];if_block2->block3;block3->end}' | dot -Tsvg > 72.svg\n",
      "73.py\n",
      "echo 'digraph {start->if14_22;if14_22->if_block2[label='True'];if14_22->else_block3[label='False'];else_block3->block4;if_block2->block4;block4->if9_22;if9_22->if_block5[label='True'];if9_22->block6[label='False'];if_block5->block6;block6->end}' | dot -Tsvg > 73.svg\n",
      "74.py\n",
      "echo 'digraph {start->if33_33;if33_33->if_block2[label='True'];if33_33->block3[label='False'];if_block2->block3;block3->if37_37;if37_37->if_block4[label='True'];if37_37->block5[label='False'];if_block4->block5;block5->if39_39;if39_39->if_block6[label='True'];if39_39->block7[label='False'];if_block6->block7;block7->if40_40;if40_40->if_block8[label='True'];if40_40->block9[label='False'];if_block8->block9;block9->end}' | dot -Tsvg > 74.svg\n",
      "76.py\n",
      "echo 'digraph {start->if10_10;if10_10->if_block2[label='True'];if10_10->block3[label='False'];if_block2->block3;block3->if8_10;if8_10->if_block4[label='True'];if8_10->block5[label='False'];if_block4->block5;block5->end}' | dot -Tsvg > 76.svg\n",
      "77.py\n",
      "echo 'digraph {start->if19_22;if19_22->if_block2[label='True'];if19_22->block3[label='False'];if_block2->block3;block3->end}' | dot -Tsvg > 77.svg\n",
      "79.py\n",
      "echo 'digraph {start->if23_24;if23_24->if_block2[label='True'];if23_24->block3[label='False'];if_block2->block3;block3->if27_27;if27_27->if_block4[label='True'];if27_27->block5[label='False'];if_block4->block5;block5->if36_37;if36_37->if_block6[label='True'];if36_37->block7[label='False'];if_block6->block7;block7->end}' | dot -Tsvg > 79.svg\n",
      "82.py\n",
      "echo 'digraph {start->if22_22;if22_22->if_block2[label='True'];if22_22->block3[label='False'];if_block2->block3;block3->if43_48;if43_48->if_block4[label='True'];if43_48->else_block5[label='False'];else_block5->block6;if_block4->block6;block6->if54_60;if54_60->if_block7[label='True'];if54_60->block8[label='False'];if_block7->block8;block8->if64_64;if64_64->if_block9[label='True'];if64_64->block10[label='False'];if_block9->block10;block10->if68_68;if68_68->if_block11[label='True'];if68_68->block12[label='False'];if_block11->block12;block12->if75_75;if75_75->if_block13[label='True'];if75_75->block14[label='False'];if_block13->block14;block14->if84_100;if84_100->if_block15[label='True'];if84_100->else_block16[label='False'];else_block16->block17;if_block15->block17;block17->end}' | dot -Tsvg > 82.svg\n",
      "83.py\n",
      "echo 'digraph {start->if32_52;if32_52->if_block2[label='True'];if32_52->else_block3[label='False'];else_block3->block4;if_block2->block4;block4->end}' | dot -Tsvg > 83.svg\n",
      "84.py\n",
      "echo 'digraph {start->if4_4;if4_4->if_block2[label='True'];if4_4->block3[label='False'];if_block2->block3;block3->if7_7;if7_7->if_block4[label='True'];if7_7->block5[label='False'];if_block4->block5;block5->end}' | dot -Tsvg > 84.svg\n",
      "88.py\n",
      "echo 'digraph {start->if12_13;if12_13->if_block2[label='True'];if12_13->block3[label='False'];if_block2->block3;block3->if9_9;if9_9->if_block4[label='True'];if9_9->block5[label='False'];if_block4->block5;block5->end}' | dot -Tsvg > 88.svg\n",
      "90.py\n",
      "echo 'digraph {start->if18_18;if18_18->if_block2[label='True'];if18_18->block3[label='False'];if_block2->block3;block3->if22_26;if22_26->if_block4[label='True'];if22_26->block5[label='False'];if_block4->block5;block5->end}' | dot -Tsvg > 90.svg\n",
      "91.py\n",
      "echo 'digraph {start->if24_27;if24_27->if_block2[label='True'];if24_27->else_block3[label='False'];else_block3->block4;if_block2->block4;block4->end}' | dot -Tsvg > 91.svg\n",
      "92.py\n",
      "echo 'digraph {start->if14_14;if14_14->if_block2[label='True'];if14_14->block3[label='False'];if_block2->block3;block3->if9_9;if9_9->if_block4[label='True'];if9_9->block5[label='False'];if_block4->block5;block5->end}' | dot -Tsvg > 92.svg\n",
      "93.py\n",
      "echo 'digraph {start->if19_19;if19_19->if_block2[label='True'];if19_19->block3[label='False'];if_block2->block3;block3->if22_22;if22_22->if_block4[label='True'];if22_22->block5[label='False'];if_block4->block5;block5->if25_25;if25_25->if_block6[label='True'];if25_25->block7[label='False'];if_block6->block7;block7->end}' | dot -Tsvg > 93.svg\n",
      "94.py\n",
      "echo 'digraph {start->if35_35;if35_35->if_block2[label='True'];if35_35->block3[label='False'];if_block2->block3;block3->if37_37;if37_37->if_block4[label='True'];if37_37->block5[label='False'];if_block4->block5;block5->end}' | dot -Tsvg > 94.svg\n",
      "96.py\n",
      "echo 'digraph {start->if42_42;if42_42->if_block2[label='True'];if42_42->block3[label='False'];if_block2->block3;block3->if48_48;if48_48->if_block4[label='True'];if48_48->block5[label='False'];if_block4->block5;block5->if52_52;if52_52->if_block6[label='True'];if52_52->block7[label='False'];if_block6->block7;block7->if60_61;if60_61->if_block8[label='True'];if60_61->block9[label='False'];if_block8->block9;block9->if65_65;if65_65->if_block10[label='True'];if65_65->block11[label='False'];if_block10->block11;block11->if69_69;if69_69->if_block12[label='True'];if69_69->block13[label='False'];if_block12->block13;block13->if81_81;if81_81->if_block14[label='True'];if81_81->block15[label='False'];if_block14->block15;block15->if84_84;if84_84->if_block16[label='True'];if84_84->block17[label='False'];if_block16->block17;block17->if94_94;if94_94->if_block18[label='True'];if94_94->block19[label='False'];if_block18->block19;block19->if96_96;if96_96->if_block20[label='True'];if96_96->block21[label='False'];if_block20->block21;block21->end}' | dot -Tsvg > 96.svg\n",
      "97.py\n",
      "echo 'digraph {start->if17_22;if17_22->if_block2[label='True'];if17_22->block3[label='False'];if_block2->block3;block3->if26_26;if26_26->if_block4[label='True'];if26_26->block5[label='False'];if_block4->block5;block5->if28_28;if28_28->if_block6[label='True'];if28_28->block7[label='False'];if_block6->block7;block7->if30_30;if30_30->if_block8[label='True'];if30_30->block9[label='False'];if_block8->block9;block9->if33_59;if33_59->if_block10[label='True'];if33_59->else_block11[label='False'];else_block11->block12;if_block10->block12;block12->end}' | dot -Tsvg > 97.svg\n"
     ]
    }
   ],
   "source": [
    "for i in range(1, 100):\n",
    "    file = str(i) + \".py\"\n",
    "    code = read_code(file)\n",
    "    if len(control[file]) > 0:\n",
    "        print(file)\n",
    "        keys = sorted(control[file].keys())\n",
    "        last = 1\n",
    "        ans = []\n",
    "        block = 1\n",
    "        start = \"start\"\n",
    "        left, right = None, None\n",
    "        for key in keys:\n",
    "            if not left:\n",
    "                left, right = int(key), int(control[file][key]['last'])\n",
    "            else:\n",
    "                if right >= int(key) >= left:\n",
    "                    continue\n",
    "                else:\n",
    "                    left = int(key)\n",
    "                    right = int(control[file][key]['last'])\n",
    "            if control[file][key]['type'] == \"IF\":\n",
    "                iff = \"if\" + key + \"_\" + control[file][key]['last']\n",
    "\n",
    "                block_to_if = start + \"->\" + iff\n",
    "\n",
    "                block += 1\n",
    "                if_block = \"if_block\" + str(block)\n",
    "                if_to_if_block = iff + \"->\" + if_block\n",
    "\n",
    "                block += 1\n",
    "                after_block = \"block\" + str(block)\n",
    "                if_to_after_block = iff + \"->\" + after_block\n",
    "\n",
    "                if_block_to_after_block = if_block + \"->\" + after_block\n",
    "\n",
    "                ans.append(block_to_if)\n",
    "                ans.append(if_to_if_block + f\"[label='{True}']\")\n",
    "                ans.append(if_to_after_block + f\"[label='{False}']\")\n",
    "                ans.append(if_block_to_after_block)\n",
    "                start = after_block\n",
    "            else:\n",
    "                iff = \"if\" + key + \"_\" + control[file][key]['last']\n",
    "                block_to_if = start + \"->\" + iff\n",
    "\n",
    "                block += 1\n",
    "                if_block = \"if_block\" + str(block)\n",
    "                if_to_if_block = iff + \"->\" + if_block\n",
    "\n",
    "                block += 1\n",
    "                else_block = \"else_block\" + str(block)\n",
    "                if_to_else_block = iff + \"->\" + else_block\n",
    "\n",
    "                block += 1\n",
    "                after_block = \"block\" + str(block)\n",
    "                else_block_to_after_block = else_block + \"->\" + after_block\n",
    "\n",
    "                if_block_to_after_block = if_block + \"->\" + after_block\n",
    "\n",
    "                ans.append(block_to_if)\n",
    "                ans.append(if_to_if_block + f\"[label='{True}']\")\n",
    "                ans.append(if_to_else_block + f\"[label='{False}']\")\n",
    "                ans.append(else_block_to_after_block)\n",
    "                ans.append(if_block_to_after_block)\n",
    "                start = after_block\n",
    "        ans.append(start + \"->end\")\n",
    "\n",
    "        string = \";\".join(ans)\n",
    "        graphviz = \"echo 'digraph {\" + string + \"}' | dot -Tsvg > \" + str(i) + \".svg\"\n",
    "        print(graphviz)"
   ],
   "metadata": {
    "collapsed": false
   }
  },
  {
   "cell_type": "code",
   "execution_count": 158,
   "outputs": [
    {
     "name": "stdout",
     "output_type": "stream",
     "text": [
      "echo 'digraph {start->if17_22;if17_22->if_block2[label='True'];if17_22->block3[label='False'];if_block2->block3;block3->if19_20;if19_20->if_block4[label='True'];if19_20->block5[label='False'];if_block4->block5;block5->if22_22;if22_22->if_block6[label='True'];if22_22->block7[label='False'];if_block6->block7;block7->if26_26;if26_26->if_block8[label='True'];if26_26->block9[label='False'];if_block8->block9;block9->if28_28;if28_28->if_block10[label='True'];if28_28->block11[label='False'];if_block10->block11;block11->if30_30;if30_30->if_block12[label='True'];if30_30->block13[label='False'];if_block12->block13;block13->if33_59;if33_59->if_block14[label='True'];if33_59->else_block15[label='False'];else_block15->block16;if_block14->block16;block16->if34_36;if34_36->if_block17[label='True'];if34_36->else_block18[label='False'];else_block18->block19;if_block17->block19;block19->if40_43;if40_43->if_block20[label='True'];if40_43->block21[label='False'];if_block20->block21;block21->if42_43;if42_43->if_block22[label='True'];if42_43->block23[label='False'];if_block22->block23;block23->if45_45;if45_45->if_block24[label='True'];if45_45->block25[label='False'];if_block24->block25;block25->if54_59;if54_59->if_block26[label='True'];if54_59->block27[label='False'];if_block26->block27;block27->if56_57;if56_57->if_block28[label='True'];if56_57->block29[label='False'];if_block28->block29;block29->if59_59;if59_59->if_block30[label='True'];if59_59->block31[label='False'];if_block30->block31;block31->end}' | dot -Tsvg > 3.svg\n"
     ]
    }
   ],
   "source": [
    "string = \";\".join(ans)\n",
    "i = 3\n",
    "graphviz = \"echo 'digraph {\" + string + \"}' | dot -Tsvg > \" + str(i) + \".svg\"\n",
    "print(graphviz)"
   ],
   "metadata": {
    "collapsed": false
   }
  },
  {
   "cell_type": "code",
   "execution_count": null,
   "outputs": [],
   "source": [],
   "metadata": {
    "collapsed": false
   }
  }
 ],
 "metadata": {
  "kernelspec": {
   "display_name": "Python 3",
   "language": "python",
   "name": "python3"
  },
  "language_info": {
   "codemirror_mode": {
    "name": "ipython",
    "version": 2
   },
   "file_extension": ".py",
   "mimetype": "text/x-python",
   "name": "python",
   "nbconvert_exporter": "python",
   "pygments_lexer": "ipython2",
   "version": "2.7.6"
  }
 },
 "nbformat": 4,
 "nbformat_minor": 0
}
